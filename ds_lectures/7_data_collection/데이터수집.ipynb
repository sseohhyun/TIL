{
 "cells": [
  {
   "cell_type": "code",
   "execution_count": null,
   "id": "a505d277",
   "metadata": {},
   "outputs": [],
   "source": [
    "import requests as req"
   ]
  },
  {
   "cell_type": "markdown",
   "id": "28ea2199",
   "metadata": {},
   "source": [
    "### 네이버 페이지 요청하기"
   ]
  },
  {
   "cell_type": "code",
   "execution_count": null,
   "id": "35e6c161",
   "metadata": {},
   "outputs": [],
   "source": [
    "res = req.get(\"http://www.naver.com\")"
   ]
  },
  {
   "cell_type": "markdown",
   "id": "333e76a6",
   "metadata": {},
   "source": [
    "### 응답 확인"
   ]
  },
  {
   "cell_type": "code",
   "execution_count": null,
   "id": "d0cf6f3e",
   "metadata": {},
   "outputs": [],
   "source": [
    "res"
   ]
  },
  {
   "cell_type": "code",
   "execution_count": null,
   "id": "e20ba48e",
   "metadata": {},
   "outputs": [],
   "source": [
    "res.text"
   ]
  },
  {
   "cell_type": "markdown",
   "id": "b9498813",
   "metadata": {},
   "source": [
    "### 해당 페이지의 title만 출력해보기"
   ]
  },
  {
   "cell_type": "code",
   "execution_count": null,
   "id": "5af7f939",
   "metadata": {},
   "outputs": [],
   "source": [
    "import requests\n",
    "\n",
    "url = 'http://mysnu.ac.kr'\n",
    "html = requests.get(url).text\n",
    "\n",
    "title_begin = html.index('<title>')\n",
    "title_end = html.index('</title>')\n",
    "title = html[title_begin : title_end]\n",
    "\n",
    "print(title)"
   ]
  },
  {
   "cell_type": "markdown",
   "id": "427eb964",
   "metadata": {},
   "source": [
    "### 주식의 종목코드로 기업 이름 알아내기"
   ]
  },
  {
   "cell_type": "code",
   "execution_count": null,
   "id": "f18617a0",
   "metadata": {},
   "outputs": [],
   "source": [
    "import requests\n",
    "\n",
    "code = '005930'\n",
    "url = 'https://finance.naver.com/item/main.nhn?code='\n",
    "html = requests.get(url + code).text\n",
    "\n",
    "title_begin = html.index('<title>')\n",
    "title_end = html.index('</title>')\n",
    "title = html[title_begin : title_end]\n",
    "\n",
    "print(title)"
   ]
  },
  {
   "cell_type": "markdown",
   "id": "29434435",
   "metadata": {},
   "source": [
    "### BeautifulSoup으로 식단 정보 추출하기\n",
    "https://snuco.snu.ac.kr/foodmenu 페이지의 점심 식단 데이터를 추출하는 코드입니다."
   ]
  },
  {
   "cell_type": "code",
   "execution_count": null,
   "id": "d28f2eee",
   "metadata": {},
   "outputs": [],
   "source": [
    "import requests\n",
    "from bs4 import BeautifulSoup\n",
    "\n",
    "url = 'https://snuco.snu.ac.kr/foodmenu'\n",
    "html = requests.get(url).text\n",
    "bs = BeautifulSoup(html)\n",
    "print(bs)"
   ]
  },
  {
   "cell_type": "markdown",
   "id": "f31570db",
   "metadata": {},
   "source": [
    "###  title 태그 추출"
   ]
  },
  {
   "cell_type": "code",
   "execution_count": null,
   "id": "48a87b79",
   "metadata": {},
   "outputs": [],
   "source": [
    "print(bs.title)"
   ]
  },
  {
   "cell_type": "markdown",
   "id": "07509e98",
   "metadata": {},
   "source": [
    "### `<p>` 태그로 선택 (모든 정보가 포함됨)"
   ]
  },
  {
   "cell_type": "code",
   "execution_count": null,
   "id": "8b942c1a",
   "metadata": {},
   "outputs": [],
   "source": [
    "bs.select('p')"
   ]
  },
  {
   "cell_type": "markdown",
   "id": "aee951de",
   "metadata": {},
   "source": [
    "###  점심 메뉴만 추출 (class 사용)"
   ]
  },
  {
   "cell_type": "code",
   "execution_count": null,
   "id": "9e3d7890",
   "metadata": {},
   "outputs": [],
   "source": [
    "bs.select('td.lunch')  "
   ]
  },
  {
   "cell_type": "markdown",
   "id": "dcadef52",
   "metadata": {},
   "source": [
    "###  점심 메뉴 첫 번째 항목만 추출"
   ]
  },
  {
   "cell_type": "code",
   "execution_count": null,
   "id": "cf378866",
   "metadata": {},
   "outputs": [],
   "source": [
    "bs.select('td.lunch')[1]"
   ]
  },
  {
   "cell_type": "markdown",
   "id": "36024e37",
   "metadata": {},
   "source": [
    "### 텍스트만 추출 (공백 포함됨)"
   ]
  },
  {
   "cell_type": "code",
   "execution_count": null,
   "id": "9a36e5b2",
   "metadata": {},
   "outputs": [],
   "source": [
    "bs.select('td.lunch')[1].text.strip().split('\\n')[0].replace('\\r', '')"
   ]
  },
  {
   "cell_type": "markdown",
   "id": "227d316f",
   "metadata": {},
   "source": [
    "# OPEN API 사용"
   ]
  },
  {
   "cell_type": "markdown",
   "id": "d3a38e03",
   "metadata": {},
   "source": [
    "- https://www.data.go.kr/data/15098771/openapi.do"
   ]
  },
  {
   "cell_type": "code",
   "execution_count": null,
   "id": "68d0680d",
   "metadata": {},
   "outputs": [],
   "source": [
    "!pip install load_dotenv"
   ]
  },
  {
   "cell_type": "code",
   "execution_count": null,
   "id": "763f82a0",
   "metadata": {},
   "outputs": [],
   "source": [
    "import requests\n",
    "import os\n",
    "from dotenv import load_dotenv\n",
    "\n",
    "# .env 파일 로드\n",
    "load_dotenv()\n",
    "\n",
    "# 환경변수에서 서비스키 불러오기\n",
    "key = \"PlVr14FDCH3d96z9a49fLrUmlV1oTeuG7YKCrVoyWuA7DU2jTSs7z7bA%2BEHlyf3NFMC1lRj%2FZGYKFYN0FEdtIA%3D%3D\"\n",
    "print(key)\n",
    "\n",
    "url = 'http://apis.data.go.kr/1352000/ODMS_COVID_05/callCovid05Api' \\\n",
    "      + '?serviceKey=' + key \\\n",
    "      + '&pageNo=1' \\\n",
    "      + '&numOfRows=10' \\\n",
    "      + '&create_dt=2022-01-08'\n",
    "\n",
    "xml = requests.get(url).text\n",
    "print(xml)\n"
   ]
  },
  {
   "cell_type": "code",
   "execution_count": null,
   "id": "55a7f85d",
   "metadata": {},
   "outputs": [],
   "source": [
    "xml = requests.get(url).text\n",
    "bs = BeautifulSoup(xml)\n",
    "items = bs.select('item')\n",
    "\n",
    "for item in items:\n",
    "    confCase = item.select_one('confCase').text\n",
    "    gubun = item.select_one('gubun').text\n",
    "    print('구분', gubun, '확진자', confCase)\n"
   ]
  },
  {
   "cell_type": "code",
   "execution_count": null,
   "id": "8640013c",
   "metadata": {},
   "outputs": [],
   "source": []
  }
 ],
 "metadata": {
  "kernelspec": {
   "display_name": "ds",
   "language": "python",
   "name": "python3"
  },
  "language_info": {
   "codemirror_mode": {
    "name": "ipython",
    "version": 3
   },
   "file_extension": ".py",
   "mimetype": "text/x-python",
   "name": "python",
   "nbconvert_exporter": "python",
   "pygments_lexer": "ipython3",
   "version": "3.11.9"
  }
 },
 "nbformat": 4,
 "nbformat_minor": 5
}
