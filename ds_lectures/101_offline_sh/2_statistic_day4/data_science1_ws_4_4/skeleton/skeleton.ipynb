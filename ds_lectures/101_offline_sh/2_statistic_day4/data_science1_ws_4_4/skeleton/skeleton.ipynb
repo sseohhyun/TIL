{
 "cells": [
  {
   "cell_type": "code",
   "execution_count": 2,
   "id": "19e0baf1",
   "metadata": {},
   "outputs": [],
   "source": [
    "import pandas as pd\n",
    "import matplotlib.pyplot as plt\n",
    "import seaborn as sns\n",
    "plt.rcParams['font.family'] = 'Malgun Gothic'"
   ]
  },
  {
   "cell_type": "code",
   "execution_count": 3,
   "id": "aa3b6f94",
   "metadata": {},
   "outputs": [],
   "source": [
    "# 1. 데이터 불러오기 및 기본 탐색\n",
    "# 주어진 매장 매출 데이터 파일을 불러온다.\n",
    "file_path = \"../data/store_sales.csv\"  # 실제 데이터 파일 경로\n",
    "df = pd.read_csv(file_path)\n"
   ]
  },
  {
   "cell_type": "code",
   "execution_count": 4,
   "id": "7112a3e7",
   "metadata": {},
   "outputs": [
    {
     "name": "stdout",
     "output_type": "stream",
     "text": [
      "데이터 미리보기\n"
     ]
    },
    {
     "data": {
      "text/html": [
       "<div>\n",
       "<style scoped>\n",
       "    .dataframe tbody tr th:only-of-type {\n",
       "        vertical-align: middle;\n",
       "    }\n",
       "\n",
       "    .dataframe tbody tr th {\n",
       "        vertical-align: top;\n",
       "    }\n",
       "\n",
       "    .dataframe thead th {\n",
       "        text-align: right;\n",
       "    }\n",
       "</style>\n",
       "<table border=\"1\" class=\"dataframe\">\n",
       "  <thead>\n",
       "    <tr style=\"text-align: right;\">\n",
       "      <th></th>\n",
       "      <th>Date</th>\n",
       "      <th>Product</th>\n",
       "      <th>Quantity</th>\n",
       "      <th>Revenue</th>\n",
       "    </tr>\n",
       "  </thead>\n",
       "  <tbody>\n",
       "    <tr>\n",
       "      <th>0</th>\n",
       "      <td>2023-05</td>\n",
       "      <td>Product_C</td>\n",
       "      <td>4</td>\n",
       "      <td>33439</td>\n",
       "    </tr>\n",
       "    <tr>\n",
       "      <th>1</th>\n",
       "      <td>2023-07</td>\n",
       "      <td>Product_C</td>\n",
       "      <td>69</td>\n",
       "      <td>28779</td>\n",
       "    </tr>\n",
       "    <tr>\n",
       "      <th>2</th>\n",
       "      <td>2023-02</td>\n",
       "      <td>Product_A</td>\n",
       "      <td>64</td>\n",
       "      <td>5972</td>\n",
       "    </tr>\n",
       "    <tr>\n",
       "      <th>3</th>\n",
       "      <td>2023-09</td>\n",
       "      <td>Product_B</td>\n",
       "      <td>49</td>\n",
       "      <td>4991</td>\n",
       "    </tr>\n",
       "    <tr>\n",
       "      <th>4</th>\n",
       "      <td>2023-01</td>\n",
       "      <td>Product_D</td>\n",
       "      <td>19</td>\n",
       "      <td>6267</td>\n",
       "    </tr>\n",
       "  </tbody>\n",
       "</table>\n",
       "</div>"
      ],
      "text/plain": [
       "      Date    Product  Quantity  Revenue\n",
       "0  2023-05  Product_C         4    33439\n",
       "1  2023-07  Product_C        69    28779\n",
       "2  2023-02  Product_A        64     5972\n",
       "3  2023-09  Product_B        49     4991\n",
       "4  2023-01  Product_D        19     6267"
      ]
     },
     "execution_count": 4,
     "metadata": {},
     "output_type": "execute_result"
    }
   ],
   "source": [
    "# 데이터의 첫 5행 출력 (EDA의 첫 단계)\n",
    "print(\"데이터 미리보기\")\n",
    "df.head()"
   ]
  },
  {
   "cell_type": "code",
   "execution_count": 5,
   "id": "c00836dc",
   "metadata": {},
   "outputs": [
    {
     "name": "stdout",
     "output_type": "stream",
     "text": [
      "\n",
      "데이터 정보\n",
      "<class 'pandas.core.frame.DataFrame'>\n",
      "RangeIndex: 1000 entries, 0 to 999\n",
      "Data columns (total 4 columns):\n",
      " #   Column    Non-Null Count  Dtype \n",
      "---  ------    --------------  ----- \n",
      " 0   Date      1000 non-null   object\n",
      " 1   Product   1000 non-null   object\n",
      " 2   Quantity  1000 non-null   int64 \n",
      " 3   Revenue   1000 non-null   int64 \n",
      "dtypes: int64(2), object(2)\n",
      "memory usage: 31.4+ KB\n"
     ]
    }
   ],
   "source": [
    "# 데이터의 기본 정보 확인 (컬럼명, 데이터 타입, 결측값 확인)\n",
    "print(\"\\n데이터 정보\")\n",
    "df.info()"
   ]
  },
  {
   "cell_type": "code",
   "execution_count": 7,
   "id": "98f4480a",
   "metadata": {},
   "outputs": [],
   "source": [
    "# 2. 날짜 변환 및 연-월 데이터 생성\n",
    "df[\"Date\"] = pd.to_datetime(df['Date'], format=\"%Y-%m\")  # 'Date' 컬럼을 datetime 형식으로 변환\n",
    "df[\"YearMonth\"] = df[\"Date\"].dt.to_period(\"M\")  # 연-월(YYYY-MM) 형식으로 변환하여 새로운 컬럼 생성"
   ]
  },
  {
   "cell_type": "code",
   "execution_count": 8,
   "id": "d594a128",
   "metadata": {},
   "outputs": [
    {
     "data": {
      "text/html": [
       "<div>\n",
       "<style scoped>\n",
       "    .dataframe tbody tr th:only-of-type {\n",
       "        vertical-align: middle;\n",
       "    }\n",
       "\n",
       "    .dataframe tbody tr th {\n",
       "        vertical-align: top;\n",
       "    }\n",
       "\n",
       "    .dataframe thead th {\n",
       "        text-align: right;\n",
       "    }\n",
       "</style>\n",
       "<table border=\"1\" class=\"dataframe\">\n",
       "  <thead>\n",
       "    <tr style=\"text-align: right;\">\n",
       "      <th></th>\n",
       "      <th>Date</th>\n",
       "      <th>Product</th>\n",
       "      <th>Quantity</th>\n",
       "      <th>Revenue</th>\n",
       "      <th>YearMonth</th>\n",
       "    </tr>\n",
       "  </thead>\n",
       "  <tbody>\n",
       "    <tr>\n",
       "      <th>0</th>\n",
       "      <td>2023-05-01</td>\n",
       "      <td>Product_C</td>\n",
       "      <td>4</td>\n",
       "      <td>33439</td>\n",
       "      <td>2023-05</td>\n",
       "    </tr>\n",
       "    <tr>\n",
       "      <th>1</th>\n",
       "      <td>2023-07-01</td>\n",
       "      <td>Product_C</td>\n",
       "      <td>69</td>\n",
       "      <td>28779</td>\n",
       "      <td>2023-07</td>\n",
       "    </tr>\n",
       "    <tr>\n",
       "      <th>2</th>\n",
       "      <td>2023-02-01</td>\n",
       "      <td>Product_A</td>\n",
       "      <td>64</td>\n",
       "      <td>5972</td>\n",
       "      <td>2023-02</td>\n",
       "    </tr>\n",
       "    <tr>\n",
       "      <th>3</th>\n",
       "      <td>2023-09-01</td>\n",
       "      <td>Product_B</td>\n",
       "      <td>49</td>\n",
       "      <td>4991</td>\n",
       "      <td>2023-09</td>\n",
       "    </tr>\n",
       "    <tr>\n",
       "      <th>4</th>\n",
       "      <td>2023-01-01</td>\n",
       "      <td>Product_D</td>\n",
       "      <td>19</td>\n",
       "      <td>6267</td>\n",
       "      <td>2023-01</td>\n",
       "    </tr>\n",
       "  </tbody>\n",
       "</table>\n",
       "</div>"
      ],
      "text/plain": [
       "        Date    Product  Quantity  Revenue YearMonth\n",
       "0 2023-05-01  Product_C         4    33439   2023-05\n",
       "1 2023-07-01  Product_C        69    28779   2023-07\n",
       "2 2023-02-01  Product_A        64     5972   2023-02\n",
       "3 2023-09-01  Product_B        49     4991   2023-09\n",
       "4 2023-01-01  Product_D        19     6267   2023-01"
      ]
     },
     "execution_count": 8,
     "metadata": {},
     "output_type": "execute_result"
    }
   ],
   "source": [
    "df.head()"
   ]
  },
  {
   "cell_type": "code",
   "execution_count": 9,
   "id": "866c1624",
   "metadata": {},
   "outputs": [],
   "source": [
    "# 3. 월별 매출 집계\n",
    "monthly_sales = df.groupby(\"YearMonth\")[\"Revenue\"].sum().reset_index()  # 'YearMonth' 기준으로 매출 합산\n",
    "monthly_sales[\"YearMonth\"] = monthly_sales[\"YearMonth\"].astype(\"str\")  # 문자열로 변환하여 시각화에서 오류 방지\n"
   ]
  },
  {
   "cell_type": "code",
   "execution_count": 13,
   "id": "a2e93a02",
   "metadata": {},
   "outputs": [
    {
     "data": {
      "text/html": [
       "<div>\n",
       "<style scoped>\n",
       "    .dataframe tbody tr th:only-of-type {\n",
       "        vertical-align: middle;\n",
       "    }\n",
       "\n",
       "    .dataframe tbody tr th {\n",
       "        vertical-align: top;\n",
       "    }\n",
       "\n",
       "    .dataframe thead th {\n",
       "        text-align: right;\n",
       "    }\n",
       "</style>\n",
       "<table border=\"1\" class=\"dataframe\">\n",
       "  <thead>\n",
       "    <tr style=\"text-align: right;\">\n",
       "      <th></th>\n",
       "      <th>YearMonth</th>\n",
       "      <th>Revenue</th>\n",
       "    </tr>\n",
       "  </thead>\n",
       "  <tbody>\n",
       "    <tr>\n",
       "      <th>0</th>\n",
       "      <td>2023-01</td>\n",
       "      <td>2172751</td>\n",
       "    </tr>\n",
       "    <tr>\n",
       "      <th>1</th>\n",
       "      <td>2023-02</td>\n",
       "      <td>2226161</td>\n",
       "    </tr>\n",
       "    <tr>\n",
       "      <th>2</th>\n",
       "      <td>2023-03</td>\n",
       "      <td>1865681</td>\n",
       "    </tr>\n",
       "    <tr>\n",
       "      <th>3</th>\n",
       "      <td>2023-04</td>\n",
       "      <td>1834731</td>\n",
       "    </tr>\n",
       "    <tr>\n",
       "      <th>4</th>\n",
       "      <td>2023-05</td>\n",
       "      <td>2263649</td>\n",
       "    </tr>\n",
       "    <tr>\n",
       "      <th>5</th>\n",
       "      <td>2023-06</td>\n",
       "      <td>2198353</td>\n",
       "    </tr>\n",
       "    <tr>\n",
       "      <th>6</th>\n",
       "      <td>2023-07</td>\n",
       "      <td>1884859</td>\n",
       "    </tr>\n",
       "    <tr>\n",
       "      <th>7</th>\n",
       "      <td>2023-08</td>\n",
       "      <td>2759999</td>\n",
       "    </tr>\n",
       "    <tr>\n",
       "      <th>8</th>\n",
       "      <td>2023-09</td>\n",
       "      <td>2117261</td>\n",
       "    </tr>\n",
       "    <tr>\n",
       "      <th>9</th>\n",
       "      <td>2023-10</td>\n",
       "      <td>1717460</td>\n",
       "    </tr>\n",
       "    <tr>\n",
       "      <th>10</th>\n",
       "      <td>2023-11</td>\n",
       "      <td>2261277</td>\n",
       "    </tr>\n",
       "    <tr>\n",
       "      <th>11</th>\n",
       "      <td>2023-12</td>\n",
       "      <td>2303083</td>\n",
       "    </tr>\n",
       "  </tbody>\n",
       "</table>\n",
       "</div>"
      ],
      "text/plain": [
       "   YearMonth  Revenue\n",
       "0    2023-01  2172751\n",
       "1    2023-02  2226161\n",
       "2    2023-03  1865681\n",
       "3    2023-04  1834731\n",
       "4    2023-05  2263649\n",
       "5    2023-06  2198353\n",
       "6    2023-07  1884859\n",
       "7    2023-08  2759999\n",
       "8    2023-09  2117261\n",
       "9    2023-10  1717460\n",
       "10   2023-11  2261277\n",
       "11   2023-12  2303083"
      ]
     },
     "execution_count": 13,
     "metadata": {},
     "output_type": "execute_result"
    }
   ],
   "source": [
    "monthly_sales"
   ]
  },
  {
   "cell_type": "code",
   "execution_count": 10,
   "id": "352acb9b",
   "metadata": {},
   "outputs": [],
   "source": [
    "# 4. 제품별 총 판매량 분석\n",
    "product_sales = df.groupby(\"Product\")[\"Quantity\"].sum().reset_index()  # 'Product'별로 총 판매량 합산\n"
   ]
  },
  {
   "cell_type": "code",
   "execution_count": 11,
   "id": "4d551703",
   "metadata": {},
   "outputs": [],
   "source": [
    "# 5. 가장 많이 팔린 제품 상위 10개 선정\n",
    "top_products = product_sales.sort_values(by=\"Quantity\", ascending=False).head(10)  # 판매량 기준으로 내림차순 정렬 후 상위 10개 선택\n"
   ]
  },
  {
   "cell_type": "code",
   "execution_count": 12,
   "id": "5b270e33",
   "metadata": {},
   "outputs": [
    {
     "data": {
      "text/html": [
       "<div>\n",
       "<style scoped>\n",
       "    .dataframe tbody tr th:only-of-type {\n",
       "        vertical-align: middle;\n",
       "    }\n",
       "\n",
       "    .dataframe tbody tr th {\n",
       "        vertical-align: top;\n",
       "    }\n",
       "\n",
       "    .dataframe thead th {\n",
       "        text-align: right;\n",
       "    }\n",
       "</style>\n",
       "<table border=\"1\" class=\"dataframe\">\n",
       "  <thead>\n",
       "    <tr style=\"text-align: right;\">\n",
       "      <th></th>\n",
       "      <th>Product</th>\n",
       "      <th>Quantity</th>\n",
       "    </tr>\n",
       "  </thead>\n",
       "  <tbody>\n",
       "    <tr>\n",
       "      <th>4</th>\n",
       "      <td>Product_E</td>\n",
       "      <td>11304</td>\n",
       "    </tr>\n",
       "    <tr>\n",
       "      <th>1</th>\n",
       "      <td>Product_B</td>\n",
       "      <td>11042</td>\n",
       "    </tr>\n",
       "    <tr>\n",
       "      <th>3</th>\n",
       "      <td>Product_D</td>\n",
       "      <td>10418</td>\n",
       "    </tr>\n",
       "    <tr>\n",
       "      <th>2</th>\n",
       "      <td>Product_C</td>\n",
       "      <td>9375</td>\n",
       "    </tr>\n",
       "    <tr>\n",
       "      <th>0</th>\n",
       "      <td>Product_A</td>\n",
       "      <td>8944</td>\n",
       "    </tr>\n",
       "  </tbody>\n",
       "</table>\n",
       "</div>"
      ],
      "text/plain": [
       "     Product  Quantity\n",
       "4  Product_E     11304\n",
       "1  Product_B     11042\n",
       "3  Product_D     10418\n",
       "2  Product_C      9375\n",
       "0  Product_A      8944"
      ]
     },
     "execution_count": 12,
     "metadata": {},
     "output_type": "execute_result"
    }
   ],
   "source": [
    "top_products"
   ]
  },
  {
   "cell_type": "code",
   "execution_count": 14,
   "id": "60bfe3c3",
   "metadata": {},
   "outputs": [
    {
     "data": {
      "image/png": "[encoded data removed]",
      "text/plain": [
       "<Figure size 1200x600 with 1 Axes>"
      ]
     },
     "metadata": {},
     "output_type": "display_data"
    }
   ],
   "source": [
    "# 6. 시각화 - 월별 매출 변화\n",
    "plt.figure(figsize=(12, 6))  # 그래프 크기 설정\n",
    "sns.lineplot(data=monthly_sales, x=\"YearMonth\", y=\"Revenue\", marker=\"o\")  # 선 그래프(lineplot) 생성\n",
    "plt.xticks(rotation=45)  # x축 라벨 45도 회전\n",
    "plt.title(\"월별 매출 변화\")  # 그래프 제목 설정\n",
    "plt.xlabel(\"연-월\")  # x축 레이블 설정\n",
    "plt.ylabel(\"매출\")  # y축 레이블 설정\n",
    "plt.grid(True)  # 격자 추가\n",
    "plt.show()  # 그래프 출력"
   ]
  },
  {
   "cell_type": "markdown",
   "id": "9f22eb11",
   "metadata": {},
   "source": [
    "2023-08에 매출이 가장 높았음을 알 수 있음"
   ]
  },
  {
   "cell_type": "code",
   "execution_count": 15,
   "id": "1bca0b1d",
   "metadata": {},
   "outputs": [
    {
     "data": {
      "image/png": "[encoded data removed]",
      "text/plain": [
       "<Figure size 1200x600 with 1 Axes>"
      ]
     },
     "metadata": {},
     "output_type": "display_data"
    }
   ],
   "source": [
    "# 7. 시각화 - 가장 많이 팔린 제품\n",
    "plt.figure(figsize=(12, 6))  # 그래프 크기 설정\n",
    "sns.barplot(data=top_products, x=\"Product\", y=\"Quantity\")  # 바 그래프(barplot) 생성\n",
    "plt.xticks(rotation=45)  # x축 라벨 45도 회전\n",
    "plt.title(\"가장 많이 팔린 제품 상위 10개\")  # 그래프 제목 설정\n",
    "plt.xlabel(\"제품\")  # x축 레이블 설정\n",
    "plt.ylabel(\"판매량\")  # y축 레이블 설정\n",
    "plt.show()  # 그래프 출력"
   ]
  },
  {
   "cell_type": "markdown",
   "id": "3264a4fc",
   "metadata": {},
   "source": [
    "product_E, B, D, C, A 순으로 인기가 있음을 알 수 있음"
   ]
  },
  {
   "cell_type": "markdown",
   "id": "ad9cd945",
   "metadata": {},
   "source": [
    "내년 8월에 product_E에 대한 광고를 진행하거나, 후속 모델을 공개하는 등의 전략을 수립함"
   ]
  }
 ],
 "metadata": {
  "kernelspec": {
   "display_name": "Python 3",
   "language": "python",
   "name": "python3"
  },
  "language_info": {
   "codemirror_mode": {
    "name": "ipython",
    "version": 3
   },
   "file_extension": ".py",
   "mimetype": "text/x-python",
   "name": "python",
   "nbconvert_exporter": "python",
   "pygments_lexer": "ipython3",
   "version": "3.11.9"
  }
 },
 "nbformat": 4,
 "nbformat_minor": 5
}
