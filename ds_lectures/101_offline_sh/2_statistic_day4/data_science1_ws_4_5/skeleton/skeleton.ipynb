{
 "cells": [
  {
   "cell_type": "code",
   "execution_count": 1,
   "id": "19e0baf1",
   "metadata": {},
   "outputs": [],
   "source": [
    "import pandas as pd\n",
    "import matplotlib.pyplot as plt\n",
    "import seaborn as sns\n",
    "plt.rcParams['font.family'] = 'Malgun Gothic'"
   ]
  },
  {
   "cell_type": "code",
   "execution_count": 2,
   "id": "aa3b6f94",
   "metadata": {},
   "outputs": [],
   "source": [
    "# 1. 데이터 불러오기 및 기본 탐색\n",
    "# 주어진 영화 리뷰 데이터 파일을 불러온다.\n",
    "file_path = \"../data/movie_reviews.csv\"  # 실제 데이터 파일 경로\n",
    "df = pd.read_csv(file_path)"
   ]
  },
  {
   "cell_type": "code",
   "execution_count": 3,
   "id": "7112a3e7",
   "metadata": {},
   "outputs": [
    {
     "name": "stdout",
     "output_type": "stream",
     "text": [
      "데이터 미리보기\n"
     ]
    },
    {
     "data": {
      "text/html": [
       "<div>\n",
       "<style scoped>\n",
       "    .dataframe tbody tr th:only-of-type {\n",
       "        vertical-align: middle;\n",
       "    }\n",
       "\n",
       "    .dataframe tbody tr th {\n",
       "        vertical-align: top;\n",
       "    }\n",
       "\n",
       "    .dataframe thead th {\n",
       "        text-align: right;\n",
       "    }\n",
       "</style>\n",
       "<table border=\"1\" class=\"dataframe\">\n",
       "  <thead>\n",
       "    <tr style=\"text-align: right;\">\n",
       "      <th></th>\n",
       "      <th>Review</th>\n",
       "      <th>Rating</th>\n",
       "    </tr>\n",
       "  </thead>\n",
       "  <tbody>\n",
       "    <tr>\n",
       "      <th>0</th>\n",
       "      <td>괜찮은 영화였어요. 몇몇 장면이 특히 인상 깊었습니다.</td>\n",
       "      <td>6</td>\n",
       "    </tr>\n",
       "    <tr>\n",
       "      <th>1</th>\n",
       "      <td>평범했지만 나쁘지 않았습니다.</td>\n",
       "      <td>5</td>\n",
       "    </tr>\n",
       "    <tr>\n",
       "      <th>2</th>\n",
       "      <td>그냥 그랬어요. 특별히 기억에 남는 부분은 없네요.</td>\n",
       "      <td>3</td>\n",
       "    </tr>\n",
       "    <tr>\n",
       "      <th>3</th>\n",
       "      <td>한 번쯤 볼 만한 영화입니다.</td>\n",
       "      <td>6</td>\n",
       "    </tr>\n",
       "    <tr>\n",
       "      <th>4</th>\n",
       "      <td>정말 훌륭한 영화였어요. 연출과 연기가 모두 완벽했습니다.</td>\n",
       "      <td>10</td>\n",
       "    </tr>\n",
       "  </tbody>\n",
       "</table>\n",
       "</div>"
      ],
      "text/plain": [
       "                             Review  Rating\n",
       "0    괜찮은 영화였어요. 몇몇 장면이 특히 인상 깊었습니다.       6\n",
       "1                  평범했지만 나쁘지 않았습니다.       5\n",
       "2      그냥 그랬어요. 특별히 기억에 남는 부분은 없네요.       3\n",
       "3                  한 번쯤 볼 만한 영화입니다.       6\n",
       "4  정말 훌륭한 영화였어요. 연출과 연기가 모두 완벽했습니다.      10"
      ]
     },
     "execution_count": 3,
     "metadata": {},
     "output_type": "execute_result"
    }
   ],
   "source": [
    "# 데이터의 첫 5행 출력 (EDA의 첫 단계)\n",
    "print(\"데이터 미리보기\")\n",
    "df.head()"
   ]
  },
  {
   "cell_type": "code",
   "execution_count": 4,
   "id": "c00836dc",
   "metadata": {},
   "outputs": [
    {
     "name": "stdout",
     "output_type": "stream",
     "text": [
      "\n",
      "데이터 정보\n",
      "<class 'pandas.core.frame.DataFrame'>\n",
      "RangeIndex: 1000 entries, 0 to 999\n",
      "Data columns (total 2 columns):\n",
      " #   Column  Non-Null Count  Dtype \n",
      "---  ------  --------------  ----- \n",
      " 0   Review  1000 non-null   object\n",
      " 1   Rating  1000 non-null   int64 \n",
      "dtypes: int64(1), object(1)\n",
      "memory usage: 15.8+ KB\n"
     ]
    }
   ],
   "source": [
    "# 데이터의 기본 정보 확인 (컬럼명, 데이터 타입, 결측값 확인)\n",
    "print(\"\\n데이터 정보\")\n",
    "df.info()"
   ]
  },
  {
   "cell_type": "code",
   "execution_count": 5,
   "id": "98f4480a",
   "metadata": {},
   "outputs": [],
   "source": [
    "# 2. 리뷰 길이 계산 및 새로운 컬럼 추가\n",
    "# - 각 리뷰의 문자 길이를 계산하여 새로운 컬럼 'Review Length'를 생성합니다.\n",
    "df[\"Review Length\"] = df[\"Review\"].apply(len)"
   ]
  },
  {
   "cell_type": "code",
   "execution_count": 6,
   "id": "133246ec",
   "metadata": {},
   "outputs": [
    {
     "data": {
      "text/html": [
       "<div>\n",
       "<style scoped>\n",
       "    .dataframe tbody tr th:only-of-type {\n",
       "        vertical-align: middle;\n",
       "    }\n",
       "\n",
       "    .dataframe tbody tr th {\n",
       "        vertical-align: top;\n",
       "    }\n",
       "\n",
       "    .dataframe thead th {\n",
       "        text-align: right;\n",
       "    }\n",
       "</style>\n",
       "<table border=\"1\" class=\"dataframe\">\n",
       "  <thead>\n",
       "    <tr style=\"text-align: right;\">\n",
       "      <th></th>\n",
       "      <th>Review</th>\n",
       "      <th>Rating</th>\n",
       "      <th>Review Length</th>\n",
       "    </tr>\n",
       "  </thead>\n",
       "  <tbody>\n",
       "    <tr>\n",
       "      <th>0</th>\n",
       "      <td>괜찮은 영화였어요. 몇몇 장면이 특히 인상 깊었습니다.</td>\n",
       "      <td>6</td>\n",
       "      <td>30</td>\n",
       "    </tr>\n",
       "    <tr>\n",
       "      <th>1</th>\n",
       "      <td>평범했지만 나쁘지 않았습니다.</td>\n",
       "      <td>5</td>\n",
       "      <td>16</td>\n",
       "    </tr>\n",
       "    <tr>\n",
       "      <th>2</th>\n",
       "      <td>그냥 그랬어요. 특별히 기억에 남는 부분은 없네요.</td>\n",
       "      <td>3</td>\n",
       "      <td>28</td>\n",
       "    </tr>\n",
       "    <tr>\n",
       "      <th>3</th>\n",
       "      <td>한 번쯤 볼 만한 영화입니다.</td>\n",
       "      <td>6</td>\n",
       "      <td>16</td>\n",
       "    </tr>\n",
       "    <tr>\n",
       "      <th>4</th>\n",
       "      <td>정말 훌륭한 영화였어요. 연출과 연기가 모두 완벽했습니다.</td>\n",
       "      <td>10</td>\n",
       "      <td>32</td>\n",
       "    </tr>\n",
       "  </tbody>\n",
       "</table>\n",
       "</div>"
      ],
      "text/plain": [
       "                             Review  Rating  Review Length\n",
       "0    괜찮은 영화였어요. 몇몇 장면이 특히 인상 깊었습니다.       6             30\n",
       "1                  평범했지만 나쁘지 않았습니다.       5             16\n",
       "2      그냥 그랬어요. 특별히 기억에 남는 부분은 없네요.       3             28\n",
       "3                  한 번쯤 볼 만한 영화입니다.       6             16\n",
       "4  정말 훌륭한 영화였어요. 연출과 연기가 모두 완벽했습니다.      10             32"
      ]
     },
     "execution_count": 6,
     "metadata": {},
     "output_type": "execute_result"
    }
   ],
   "source": [
    "df.head()"
   ]
  },
  {
   "cell_type": "code",
   "execution_count": 7,
   "id": "866c1624",
   "metadata": {},
   "outputs": [
    {
     "data": {
      "image/png": "[encoded data removed]",
      "text/plain": [
       "<Figure size 1000x600 with 1 Axes>"
      ]
     },
     "metadata": {},
     "output_type": "display_data"
    }
   ],
   "source": [
    "# 3. 평점과 리뷰 길이의 관계 시각화\n",
    "# - 박스 플롯을 사용하여 평점별 리뷰 길이의 분포를 시각화합니다.\n",
    "# - 이를 통해 특정 평점에서 리뷰 길이가 더 긴 경향이 있는지 확인할 수 있습니다.\n",
    "plt.figure(figsize=(10, 6))\n",
    "sns.boxplot(x=df[\"Rating\"], y=df[\"Review Length\"])\n",
    "plt.xlabel(\"Rating (평점)\")\n",
    "plt.ylabel(\"Review Length (리뷰 길이)\")\n",
    "plt.title(\"평점과 리뷰 길이의 관계\")\n",
    "plt.show()"
   ]
  },
  {
   "cell_type": "code",
   "execution_count": 8,
   "id": "352acb9b",
   "metadata": {},
   "outputs": [
    {
     "data": {
      "image/png": "[encoded data removed]",
      "text/plain": [
       "<Figure size 1000x600 with 1 Axes>"
      ]
     },
     "metadata": {},
     "output_type": "display_data"
    }
   ],
   "source": [
    "# 4. 리뷰 길이의 분포 확인\n",
    "# - 히스토그램과 KDE(커널 밀도 추정)를 사용하여 리뷰 길이의 분포를 확인합니다.\n",
    "# - 리뷰 길이의 평균과 편차를 시각적으로 파악할 수 있습니다.\n",
    "plt.figure(figsize=(10, 6))\n",
    "sns.histplot(df[\"Review Length\"], bins=30, kde=True)\n",
    "plt.xlabel(\"Review Length (리뷰 길이)\")\n",
    "plt.ylabel(\"Count (개수)\")\n",
    "plt.title(\"리뷰 길이 분포\")\n",
    "plt.show()"
   ]
  },
  {
   "cell_type": "code",
   "execution_count": 9,
   "id": "4d551703",
   "metadata": {},
   "outputs": [],
   "source": [
    "# 5. 장문 리뷰 필터링 (상위 25% 이상의 길이를 가진 리뷰)\n",
    "# - 전체 리뷰 길이 데이터에서 75번째 백분위수(Q3)를 계산합니다.\n",
    "# - Q3 이상인 리뷰를 '장문 리뷰'로 간주하여 필터링합니다.\n",
    "long_review_threshold = df[\"Review Length\"].quantile(0.75)  # 75% 백분위수\n",
    "long_reviews = df[df[\"Review Length\"] >= long_review_threshold]"
   ]
  },
  {
   "cell_type": "code",
   "execution_count": 10,
   "id": "60bfe3c3",
   "metadata": {},
   "outputs": [
    {
     "name": "stdout",
     "output_type": "stream",
     "text": [
      "장문 리뷰 개수: 320\n"
     ]
    }
   ],
   "source": [
    "# 6. 필터링된 장문 리뷰 개수 및 샘플 출력\n",
    "# - 장문 리뷰의 개수를 출력하여 얼마나 많은 리뷰가 해당하는지 확인합니다.\n",
    "print(f\"장문 리뷰 개수: {long_reviews.shape[0]}\")"
   ]
  },
  {
   "cell_type": "code",
   "execution_count": 11,
   "id": "1bca0b1d",
   "metadata": {},
   "outputs": [
    {
     "name": "stdout",
     "output_type": "stream",
     "text": [
      "\n",
      "장문 리뷰 샘플:\n"
     ]
    },
    {
     "data": {
      "text/html": [
       "<div>\n",
       "<style scoped>\n",
       "    .dataframe tbody tr th:only-of-type {\n",
       "        vertical-align: middle;\n",
       "    }\n",
       "\n",
       "    .dataframe tbody tr th {\n",
       "        vertical-align: top;\n",
       "    }\n",
       "\n",
       "    .dataframe thead th {\n",
       "        text-align: right;\n",
       "    }\n",
       "</style>\n",
       "<table border=\"1\" class=\"dataframe\">\n",
       "  <thead>\n",
       "    <tr style=\"text-align: right;\">\n",
       "      <th></th>\n",
       "      <th>Review</th>\n",
       "      <th>Rating</th>\n",
       "      <th>Review Length</th>\n",
       "    </tr>\n",
       "  </thead>\n",
       "  <tbody>\n",
       "    <tr>\n",
       "      <th>0</th>\n",
       "      <td>괜찮은 영화였어요. 몇몇 장면이 특히 인상 깊었습니다.</td>\n",
       "      <td>6</td>\n",
       "      <td>30</td>\n",
       "    </tr>\n",
       "    <tr>\n",
       "      <th>2</th>\n",
       "      <td>그냥 그랬어요. 특별히 기억에 남는 부분은 없네요.</td>\n",
       "      <td>3</td>\n",
       "      <td>28</td>\n",
       "    </tr>\n",
       "    <tr>\n",
       "      <th>4</th>\n",
       "      <td>정말 훌륭한 영화였어요. 연출과 연기가 모두 완벽했습니다.</td>\n",
       "      <td>10</td>\n",
       "      <td>32</td>\n",
       "    </tr>\n",
       "    <tr>\n",
       "      <th>6</th>\n",
       "      <td>스토리와 연출이 뛰어나서 감동적이었습니다.</td>\n",
       "      <td>8</td>\n",
       "      <td>23</td>\n",
       "    </tr>\n",
       "    <tr>\n",
       "      <th>8</th>\n",
       "      <td>스토리가 지루하고 이해가 잘 안 갔어요.</td>\n",
       "      <td>2</td>\n",
       "      <td>22</td>\n",
       "    </tr>\n",
       "  </tbody>\n",
       "</table>\n",
       "</div>"
      ],
      "text/plain": [
       "                             Review  Rating  Review Length\n",
       "0    괜찮은 영화였어요. 몇몇 장면이 특히 인상 깊었습니다.       6             30\n",
       "2      그냥 그랬어요. 특별히 기억에 남는 부분은 없네요.       3             28\n",
       "4  정말 훌륭한 영화였어요. 연출과 연기가 모두 완벽했습니다.      10             32\n",
       "6           스토리와 연출이 뛰어나서 감동적이었습니다.       8             23\n",
       "8            스토리가 지루하고 이해가 잘 안 갔어요.       2             22"
      ]
     },
     "execution_count": 11,
     "metadata": {},
     "output_type": "execute_result"
    }
   ],
   "source": [
    "# - 일부 장문 리뷰 샘플을 출력하여 필터링이 잘 되었는지 확인합니다.\n",
    "print(\"\\n장문 리뷰 샘플:\")\n",
    "long_reviews.head()"
   ]
  }
 ],
 "metadata": {
  "kernelspec": {
   "display_name": "Python 3",
   "language": "python",
   "name": "python3"
  },
  "language_info": {
   "codemirror_mode": {
    "name": "ipython",
    "version": 3
   },
   "file_extension": ".py",
   "mimetype": "text/x-python",
   "name": "python",
   "nbconvert_exporter": "python",
   "pygments_lexer": "ipython3",
   "version": "3.11.9"
  }
 },
 "nbformat": 4,
 "nbformat_minor": 5
}
