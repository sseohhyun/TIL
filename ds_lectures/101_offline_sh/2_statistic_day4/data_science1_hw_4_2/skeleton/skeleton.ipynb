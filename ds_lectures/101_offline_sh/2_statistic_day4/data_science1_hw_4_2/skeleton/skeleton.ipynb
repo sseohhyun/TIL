{
 "cells": [
  {
   "cell_type": "code",
   "execution_count": 1,
   "id": "fa726e9c",
   "metadata": {},
   "outputs": [],
   "source": [
    "# 포함 기술스택: python, pandas\n",
    "import pandas as pd"
   ]
  },
  {
   "cell_type": "code",
   "execution_count": 2,
   "id": "194e3380",
   "metadata": {},
   "outputs": [],
   "source": [
    "# 데이터 로드\n",
    "file_path = \"../data/movie_data.csv\"\n",
    "movies = pd.read_csv(file_path)"
   ]
  },
  {
   "cell_type": "code",
   "execution_count": 3,
   "id": "b2bb8cf9",
   "metadata": {},
   "outputs": [
    {
     "data": {
      "text/html": [
       "<div>\n",
       "<style scoped>\n",
       "    .dataframe tbody tr th:only-of-type {\n",
       "        vertical-align: middle;\n",
       "    }\n",
       "\n",
       "    .dataframe tbody tr th {\n",
       "        vertical-align: top;\n",
       "    }\n",
       "\n",
       "    .dataframe thead th {\n",
       "        text-align: right;\n",
       "    }\n",
       "</style>\n",
       "<table border=\"1\" class=\"dataframe\">\n",
       "  <thead>\n",
       "    <tr style=\"text-align: right;\">\n",
       "      <th></th>\n",
       "      <th>Title</th>\n",
       "      <th>Director</th>\n",
       "      <th>Year</th>\n",
       "      <th>Rating</th>\n",
       "    </tr>\n",
       "  </thead>\n",
       "  <tbody>\n",
       "    <tr>\n",
       "      <th>0</th>\n",
       "      <td>Jaws</td>\n",
       "      <td>James Cameron</td>\n",
       "      <td>1985</td>\n",
       "      <td>8.2</td>\n",
       "    </tr>\n",
       "    <tr>\n",
       "      <th>1</th>\n",
       "      <td>E.T.</td>\n",
       "      <td>Steven Spielberg</td>\n",
       "      <td>2019</td>\n",
       "      <td>6.0</td>\n",
       "    </tr>\n",
       "    <tr>\n",
       "      <th>2</th>\n",
       "      <td>Jurassic Park</td>\n",
       "      <td>Steven Spielberg</td>\n",
       "      <td>2002</td>\n",
       "      <td>8.4</td>\n",
       "    </tr>\n",
       "    <tr>\n",
       "      <th>3</th>\n",
       "      <td>Schindler's List</td>\n",
       "      <td>Steven Spielberg</td>\n",
       "      <td>1999</td>\n",
       "      <td>8.7</td>\n",
       "    </tr>\n",
       "    <tr>\n",
       "      <th>4</th>\n",
       "      <td>Saving Private Ryan</td>\n",
       "      <td>James Cameron</td>\n",
       "      <td>1980</td>\n",
       "      <td>9.2</td>\n",
       "    </tr>\n",
       "  </tbody>\n",
       "</table>\n",
       "</div>"
      ],
      "text/plain": [
       "                 Title          Director  Year  Rating\n",
       "0                 Jaws     James Cameron  1985     8.2\n",
       "1                 E.T.  Steven Spielberg  2019     6.0\n",
       "2        Jurassic Park  Steven Spielberg  2002     8.4\n",
       "3     Schindler's List  Steven Spielberg  1999     8.7\n",
       "4  Saving Private Ryan     James Cameron  1980     9.2"
      ]
     },
     "execution_count": 3,
     "metadata": {},
     "output_type": "execute_result"
    }
   ],
   "source": [
    "movies.head()"
   ]
  },
  {
   "cell_type": "code",
   "execution_count": null,
   "id": "cf7511ab",
   "metadata": {},
   "outputs": [],
   "source": [
    "# 사용자로부터 감독 이름 입력 받기\n",
    "director_name = input(\"감독의 이름을 입력하세요: \") # James Cameron"
   ]
  },
  {
   "cell_type": "code",
   "execution_count": 6,
   "id": "9874b771",
   "metadata": {},
   "outputs": [],
   "source": [
    "# 특정 감독의 영화 필터링\n",
    "director_movies = movies.loc[movies['Director']==director_name]"
   ]
  },
  {
   "cell_type": "code",
   "execution_count": 7,
   "id": "1b3cd504",
   "metadata": {},
   "outputs": [
    {
     "data": {
      "text/html": [
       "<div>\n",
       "<style scoped>\n",
       "    .dataframe tbody tr th:only-of-type {\n",
       "        vertical-align: middle;\n",
       "    }\n",
       "\n",
       "    .dataframe tbody tr th {\n",
       "        vertical-align: top;\n",
       "    }\n",
       "\n",
       "    .dataframe thead th {\n",
       "        text-align: right;\n",
       "    }\n",
       "</style>\n",
       "<table border=\"1\" class=\"dataframe\">\n",
       "  <thead>\n",
       "    <tr style=\"text-align: right;\">\n",
       "      <th></th>\n",
       "      <th>Title</th>\n",
       "      <th>Director</th>\n",
       "      <th>Year</th>\n",
       "      <th>Rating</th>\n",
       "    </tr>\n",
       "  </thead>\n",
       "  <tbody>\n",
       "    <tr>\n",
       "      <th>0</th>\n",
       "      <td>Jaws</td>\n",
       "      <td>James Cameron</td>\n",
       "      <td>1985</td>\n",
       "      <td>8.2</td>\n",
       "    </tr>\n",
       "    <tr>\n",
       "      <th>4</th>\n",
       "      <td>Saving Private Ryan</td>\n",
       "      <td>James Cameron</td>\n",
       "      <td>1980</td>\n",
       "      <td>9.2</td>\n",
       "    </tr>\n",
       "    <tr>\n",
       "      <th>8</th>\n",
       "      <td>War of the Worlds</td>\n",
       "      <td>James Cameron</td>\n",
       "      <td>2009</td>\n",
       "      <td>8.3</td>\n",
       "    </tr>\n",
       "    <tr>\n",
       "      <th>10</th>\n",
       "      <td>The Post</td>\n",
       "      <td>James Cameron</td>\n",
       "      <td>1973</td>\n",
       "      <td>6.8</td>\n",
       "    </tr>\n",
       "    <tr>\n",
       "      <th>15</th>\n",
       "      <td>West Side Story</td>\n",
       "      <td>James Cameron</td>\n",
       "      <td>1988</td>\n",
       "      <td>8.9</td>\n",
       "    </tr>\n",
       "  </tbody>\n",
       "</table>\n",
       "</div>"
      ],
      "text/plain": [
       "                  Title       Director  Year  Rating\n",
       "0                  Jaws  James Cameron  1985     8.2\n",
       "4   Saving Private Ryan  James Cameron  1980     9.2\n",
       "8     War of the Worlds  James Cameron  2009     8.3\n",
       "10             The Post  James Cameron  1973     6.8\n",
       "15      West Side Story  James Cameron  1988     8.9"
      ]
     },
     "execution_count": 7,
     "metadata": {},
     "output_type": "execute_result"
    }
   ],
   "source": [
    "director_movies.head()"
   ]
  },
  {
   "cell_type": "code",
   "execution_count": 8,
   "id": "e8f82df4",
   "metadata": {},
   "outputs": [
    {
     "name": "stdout",
     "output_type": "stream",
     "text": [
      "James Cameron 감독 영화의 평균 평점: 7.87\n"
     ]
    }
   ],
   "source": [
    "# 평균 평점 계산\n",
    "average_rating = director_movies[\"Rating\"].mean()\n",
    "print(f\"{director_name} 감독 영화의 평균 평점: {average_rating:.2f}\")"
   ]
  },
  {
   "cell_type": "code",
   "execution_count": 9,
   "id": "c4f8b08a",
   "metadata": {},
   "outputs": [
    {
     "name": "stdout",
     "output_type": "stream",
     "text": [
      "가장 높은 평점을 받은 영화: Saving Private Ryan (9.2)\n"
     ]
    }
   ],
   "source": [
    "# 가장 높은 평점을 받은 영화 찾기\n",
    "best_movie = director_movies.loc[director_movies['Rating'].idxmax()]\n",
    "print(f\"가장 높은 평점을 받은 영화: {best_movie['Title']} ({best_movie['Rating']})\")"
   ]
  }
 ],
 "metadata": {
  "kernelspec": {
   "display_name": "Python 3",
   "language": "python",
   "name": "python3"
  },
  "language_info": {
   "codemirror_mode": {
    "name": "ipython",
    "version": 3
   },
   "file_extension": ".py",
   "mimetype": "text/x-python",
   "name": "python",
   "nbconvert_exporter": "python",
   "pygments_lexer": "ipython3",
   "version": "3.11.9"
  }
 },
 "nbformat": 4,
 "nbformat_minor": 5
}
