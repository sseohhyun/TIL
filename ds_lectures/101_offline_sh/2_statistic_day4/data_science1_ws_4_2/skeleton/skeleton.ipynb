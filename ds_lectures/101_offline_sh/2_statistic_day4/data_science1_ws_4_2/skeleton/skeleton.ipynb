{
 "cells": [
  {
   "cell_type": "code",
   "execution_count": 1,
   "id": "1905d49f",
   "metadata": {},
   "outputs": [],
   "source": [
    "import pandas as pd\n",
    "import matplotlib.pyplot as plt\n",
    "import seaborn as sns\n",
    "plt.rcParams['font.family'] = 'Malgun Gothic'"
   ]
  },
  {
   "cell_type": "code",
   "execution_count": 2,
   "id": "b3e86e52",
   "metadata": {},
   "outputs": [],
   "source": [
    "# 1. 데이터 불러오기 및 기본 탐색\n",
    "# 주어진 지하철 데이터 파일을 불러온다.\n",
    "file_path = \"../data/subway_data.csv\"  # 실제 데이터 파일 경로\n",
    "df = pd.read_csv(file_path)"
   ]
  },
  {
   "cell_type": "code",
   "execution_count": 4,
   "id": "49bd0bed",
   "metadata": {},
   "outputs": [
    {
     "name": "stdout",
     "output_type": "stream",
     "text": [
      "데이터 미리보기\n"
     ]
    },
    {
     "data": {
      "text/html": [
       "<div>\n",
       "<style scoped>\n",
       "    .dataframe tbody tr th:only-of-type {\n",
       "        vertical-align: middle;\n",
       "    }\n",
       "\n",
       "    .dataframe tbody tr th {\n",
       "        vertical-align: top;\n",
       "    }\n",
       "\n",
       "    .dataframe thead th {\n",
       "        text-align: right;\n",
       "    }\n",
       "</style>\n",
       "<table border=\"1\" class=\"dataframe\">\n",
       "  <thead>\n",
       "    <tr style=\"text-align: right;\">\n",
       "      <th></th>\n",
       "      <th>Date</th>\n",
       "      <th>Station</th>\n",
       "      <th>DayOfWeek</th>\n",
       "      <th>Passengers</th>\n",
       "    </tr>\n",
       "  </thead>\n",
       "  <tbody>\n",
       "    <tr>\n",
       "      <th>0</th>\n",
       "      <td>2024-01-01</td>\n",
       "      <td>City Hall</td>\n",
       "      <td>수</td>\n",
       "      <td>2734</td>\n",
       "    </tr>\n",
       "    <tr>\n",
       "      <th>1</th>\n",
       "      <td>2024-04-15</td>\n",
       "      <td>Seoul Station</td>\n",
       "      <td>토</td>\n",
       "      <td>4180</td>\n",
       "    </tr>\n",
       "    <tr>\n",
       "      <th>2</th>\n",
       "      <td>2024-11-11</td>\n",
       "      <td>Yeouido</td>\n",
       "      <td>수</td>\n",
       "      <td>4705</td>\n",
       "    </tr>\n",
       "    <tr>\n",
       "      <th>3</th>\n",
       "      <td>2024-06-15</td>\n",
       "      <td>Gangnam</td>\n",
       "      <td>일</td>\n",
       "      <td>1707</td>\n",
       "    </tr>\n",
       "    <tr>\n",
       "      <th>4</th>\n",
       "      <td>2024-11-06</td>\n",
       "      <td>Gangnam</td>\n",
       "      <td>금</td>\n",
       "      <td>4083</td>\n",
       "    </tr>\n",
       "  </tbody>\n",
       "</table>\n",
       "</div>"
      ],
      "text/plain": [
       "         Date        Station DayOfWeek  Passengers\n",
       "0  2024-01-01      City Hall         수        2734\n",
       "1  2024-04-15  Seoul Station         토        4180\n",
       "2  2024-11-11        Yeouido         수        4705\n",
       "3  2024-06-15        Gangnam         일        1707\n",
       "4  2024-11-06        Gangnam         금        4083"
      ]
     },
     "execution_count": 4,
     "metadata": {},
     "output_type": "execute_result"
    }
   ],
   "source": [
    "# 데이터의 첫 5행 출력 (EDA의 첫 단계)\n",
    "print(\"데이터 미리보기\")\n",
    "df.head()"
   ]
  },
  {
   "cell_type": "code",
   "execution_count": 3,
   "id": "5f3e1885",
   "metadata": {},
   "outputs": [
    {
     "name": "stdout",
     "output_type": "stream",
     "text": [
      "\n",
      "데이터 정보\n",
      "<class 'pandas.core.frame.DataFrame'>\n",
      "RangeIndex: 1000 entries, 0 to 999\n",
      "Data columns (total 4 columns):\n",
      " #   Column      Non-Null Count  Dtype \n",
      "---  ------      --------------  ----- \n",
      " 0   Date        1000 non-null   object\n",
      " 1   Station     1000 non-null   object\n",
      " 2   DayOfWeek   1000 non-null   object\n",
      " 3   Passengers  1000 non-null   int64 \n",
      "dtypes: int64(1), object(3)\n",
      "memory usage: 31.4+ KB\n"
     ]
    }
   ],
   "source": [
    "# 데이터의 기본 정보 확인 (컬럼명, 데이터 타입, 결측값 확인)\n",
    "print(\"\\n데이터 정보\")\n",
    "df.info()"
   ]
  },
  {
   "cell_type": "code",
   "execution_count": 5,
   "id": "0d21f092",
   "metadata": {},
   "outputs": [],
   "source": [
    "# 2. 필요한 컬럼 선택 및 데이터 변환\n",
    "# 'Date' (날짜), 'Station' (지하철역), 'Passengers' (승객 수) 컬럼이 존재한다고 가정하고, 필요한 컬럼만 선택\n",
    "df = df[[\"Date\", \"Station\", \"Passengers\"]].dropna()  # 날짜, 역, 승객 수 데이터가 없는 경우 제거"
   ]
  },
  {
   "cell_type": "code",
   "execution_count": 6,
   "id": "cb975e79",
   "metadata": {},
   "outputs": [],
   "source": [
    "# 'Date' 컬럼을 날짜 형식으로 변환하여 요일 정보 추출\n",
    "df['Date'] = pd.to_datetime(df['Date'])  # 날짜 데이터를 datetime 형식으로 변환\n",
    "df['Weekday'] = df['Date'].dt.day_name()  # 요일(월요일~일요일) 정보 추가"
   ]
  },
  {
   "cell_type": "code",
   "execution_count": 8,
   "id": "2d7bf778",
   "metadata": {},
   "outputs": [
    {
     "data": {
      "text/html": [
       "<div>\n",
       "<style scoped>\n",
       "    .dataframe tbody tr th:only-of-type {\n",
       "        vertical-align: middle;\n",
       "    }\n",
       "\n",
       "    .dataframe tbody tr th {\n",
       "        vertical-align: top;\n",
       "    }\n",
       "\n",
       "    .dataframe thead th {\n",
       "        text-align: right;\n",
       "    }\n",
       "</style>\n",
       "<table border=\"1\" class=\"dataframe\">\n",
       "  <thead>\n",
       "    <tr style=\"text-align: right;\">\n",
       "      <th></th>\n",
       "      <th>Date</th>\n",
       "      <th>Station</th>\n",
       "      <th>Passengers</th>\n",
       "      <th>Weekday</th>\n",
       "    </tr>\n",
       "  </thead>\n",
       "  <tbody>\n",
       "    <tr>\n",
       "      <th>0</th>\n",
       "      <td>2024-01-01</td>\n",
       "      <td>City Hall</td>\n",
       "      <td>2734</td>\n",
       "      <td>Monday</td>\n",
       "    </tr>\n",
       "    <tr>\n",
       "      <th>1</th>\n",
       "      <td>2024-04-15</td>\n",
       "      <td>Seoul Station</td>\n",
       "      <td>4180</td>\n",
       "      <td>Monday</td>\n",
       "    </tr>\n",
       "    <tr>\n",
       "      <th>2</th>\n",
       "      <td>2024-11-11</td>\n",
       "      <td>Yeouido</td>\n",
       "      <td>4705</td>\n",
       "      <td>Monday</td>\n",
       "    </tr>\n",
       "    <tr>\n",
       "      <th>3</th>\n",
       "      <td>2024-06-15</td>\n",
       "      <td>Gangnam</td>\n",
       "      <td>1707</td>\n",
       "      <td>Saturday</td>\n",
       "    </tr>\n",
       "    <tr>\n",
       "      <th>4</th>\n",
       "      <td>2024-11-06</td>\n",
       "      <td>Gangnam</td>\n",
       "      <td>4083</td>\n",
       "      <td>Wednesday</td>\n",
       "    </tr>\n",
       "  </tbody>\n",
       "</table>\n",
       "</div>"
      ],
      "text/plain": [
       "        Date        Station  Passengers    Weekday\n",
       "0 2024-01-01      City Hall        2734     Monday\n",
       "1 2024-04-15  Seoul Station        4180     Monday\n",
       "2 2024-11-11        Yeouido        4705     Monday\n",
       "3 2024-06-15        Gangnam        1707   Saturday\n",
       "4 2024-11-06        Gangnam        4083  Wednesday"
      ]
     },
     "execution_count": 8,
     "metadata": {},
     "output_type": "execute_result"
    }
   ],
   "source": [
    "df.head()"
   ]
  },
  {
   "cell_type": "code",
   "execution_count": 9,
   "id": "ca9fb60d",
   "metadata": {},
   "outputs": [],
   "source": [
    "# 3. 요일별 평균 승객 수 분석\n",
    "# 요일별 평균 승객 수를 계산하여 새로운 데이터프레임 생성\n",
    "# 'Weekday'를 기준으로 'Passengers'의 평균을 계산하는 코드 작성\n",
    "weekday_avg_passengers = df.groupby('Weekday')['Passengers'].mean().reset_index()  "
   ]
  },
  {
   "cell_type": "code",
   "execution_count": 19,
   "id": "baecc042",
   "metadata": {},
   "outputs": [
    {
     "data": {
      "text/html": [
       "<div>\n",
       "<style scoped>\n",
       "    .dataframe tbody tr th:only-of-type {\n",
       "        vertical-align: middle;\n",
       "    }\n",
       "\n",
       "    .dataframe tbody tr th {\n",
       "        vertical-align: top;\n",
       "    }\n",
       "\n",
       "    .dataframe thead th {\n",
       "        text-align: right;\n",
       "    }\n",
       "</style>\n",
       "<table border=\"1\" class=\"dataframe\">\n",
       "  <thead>\n",
       "    <tr style=\"text-align: right;\">\n",
       "      <th></th>\n",
       "      <th>Weekday</th>\n",
       "      <th>Passengers</th>\n",
       "    </tr>\n",
       "  </thead>\n",
       "  <tbody>\n",
       "    <tr>\n",
       "      <th>1</th>\n",
       "      <td>Monday</td>\n",
       "      <td>2881.412500</td>\n",
       "    </tr>\n",
       "    <tr>\n",
       "      <th>5</th>\n",
       "      <td>Tuesday</td>\n",
       "      <td>2771.037594</td>\n",
       "    </tr>\n",
       "    <tr>\n",
       "      <th>6</th>\n",
       "      <td>Wednesday</td>\n",
       "      <td>2795.062069</td>\n",
       "    </tr>\n",
       "    <tr>\n",
       "      <th>4</th>\n",
       "      <td>Thursday</td>\n",
       "      <td>2903.766423</td>\n",
       "    </tr>\n",
       "    <tr>\n",
       "      <th>0</th>\n",
       "      <td>Friday</td>\n",
       "      <td>2672.645833</td>\n",
       "    </tr>\n",
       "    <tr>\n",
       "      <th>2</th>\n",
       "      <td>Saturday</td>\n",
       "      <td>2835.057143</td>\n",
       "    </tr>\n",
       "    <tr>\n",
       "      <th>3</th>\n",
       "      <td>Sunday</td>\n",
       "      <td>2803.900709</td>\n",
       "    </tr>\n",
       "  </tbody>\n",
       "</table>\n",
       "</div>"
      ],
      "text/plain": [
       "     Weekday   Passengers\n",
       "1     Monday  2881.412500\n",
       "5    Tuesday  2771.037594\n",
       "6  Wednesday  2795.062069\n",
       "4   Thursday  2903.766423\n",
       "0     Friday  2672.645833\n",
       "2   Saturday  2835.057143\n",
       "3     Sunday  2803.900709"
      ]
     },
     "execution_count": 19,
     "metadata": {},
     "output_type": "execute_result"
    }
   ],
   "source": [
    "weekday_avg_passengers"
   ]
  },
  {
   "cell_type": "code",
   "execution_count": 10,
   "id": "9c7b8642",
   "metadata": {},
   "outputs": [],
   "source": [
    "# 요일별 데이터를 정렬 (월요일~일요일 순서)\n",
    "weekday_order = ['Monday', 'Tuesday', 'Wednesday', 'Thursday', 'Friday', 'Saturday', 'Sunday']\n",
    "weekday_avg_passengers['Weekday'] = pd.Categorical(weekday_avg_passengers['Weekday'], categories=weekday_order, ordered=True)\n",
    "weekday_avg_passengers = weekday_avg_passengers.sort_values('Weekday') # 요일 기준으로 정렬하는 코드 작성"
   ]
  },
  {
   "cell_type": "code",
   "execution_count": 13,
   "id": "0999d4a2",
   "metadata": {},
   "outputs": [
    {
     "data": {
      "text/html": [
       "<div>\n",
       "<style scoped>\n",
       "    .dataframe tbody tr th:only-of-type {\n",
       "        vertical-align: middle;\n",
       "    }\n",
       "\n",
       "    .dataframe tbody tr th {\n",
       "        vertical-align: top;\n",
       "    }\n",
       "\n",
       "    .dataframe thead th {\n",
       "        text-align: right;\n",
       "    }\n",
       "</style>\n",
       "<table border=\"1\" class=\"dataframe\">\n",
       "  <thead>\n",
       "    <tr style=\"text-align: right;\">\n",
       "      <th></th>\n",
       "      <th>Weekday</th>\n",
       "      <th>Passengers</th>\n",
       "    </tr>\n",
       "  </thead>\n",
       "  <tbody>\n",
       "    <tr>\n",
       "      <th>1</th>\n",
       "      <td>Monday</td>\n",
       "      <td>2881.412500</td>\n",
       "    </tr>\n",
       "    <tr>\n",
       "      <th>5</th>\n",
       "      <td>Tuesday</td>\n",
       "      <td>2771.037594</td>\n",
       "    </tr>\n",
       "    <tr>\n",
       "      <th>6</th>\n",
       "      <td>Wednesday</td>\n",
       "      <td>2795.062069</td>\n",
       "    </tr>\n",
       "    <tr>\n",
       "      <th>4</th>\n",
       "      <td>Thursday</td>\n",
       "      <td>2903.766423</td>\n",
       "    </tr>\n",
       "    <tr>\n",
       "      <th>0</th>\n",
       "      <td>Friday</td>\n",
       "      <td>2672.645833</td>\n",
       "    </tr>\n",
       "    <tr>\n",
       "      <th>2</th>\n",
       "      <td>Saturday</td>\n",
       "      <td>2835.057143</td>\n",
       "    </tr>\n",
       "    <tr>\n",
       "      <th>3</th>\n",
       "      <td>Sunday</td>\n",
       "      <td>2803.900709</td>\n",
       "    </tr>\n",
       "  </tbody>\n",
       "</table>\n",
       "</div>"
      ],
      "text/plain": [
       "     Weekday   Passengers\n",
       "1     Monday  2881.412500\n",
       "5    Tuesday  2771.037594\n",
       "6  Wednesday  2795.062069\n",
       "4   Thursday  2903.766423\n",
       "0     Friday  2672.645833\n",
       "2   Saturday  2835.057143\n",
       "3     Sunday  2803.900709"
      ]
     },
     "execution_count": 13,
     "metadata": {},
     "output_type": "execute_result"
    }
   ],
   "source": [
    "weekday_avg_passengers"
   ]
  },
  {
   "cell_type": "code",
   "execution_count": 16,
   "id": "1351a033",
   "metadata": {},
   "outputs": [
    {
     "name": "stdout",
     "output_type": "stream",
     "text": [
      "\n",
      "가장 평균 승객 수가 많은 요일:\n"
     ]
    },
    {
     "data": {
      "text/plain": [
       "'Thursday'"
      ]
     },
     "execution_count": 16,
     "metadata": {},
     "output_type": "execute_result"
    }
   ],
   "source": [
    "# 4. 가장 승객 수가 많은 요일 찾기\n",
    "# 가장 평균 승객 수가 많은 요일을 찾는 코드 작성\n",
    "busiest_day = weekday_avg_passengers.loc[weekday_avg_passengers['Passengers'].idxmax(), \"Weekday\"]\n",
    "\n",
    "print(\"\\n가장 평균 승객 수가 많은 요일:\")\n",
    "busiest_day"
   ]
  },
  {
   "cell_type": "code",
   "execution_count": 17,
   "id": "d86dec21",
   "metadata": {},
   "outputs": [
    {
     "name": "stderr",
     "output_type": "stream",
     "text": [
      "C:\\Users\\SSAFY\\AppData\\Local\\Temp\\ipykernel_13164\\3291991549.py:3: FutureWarning: \n",
      "\n",
      "Passing `palette` without assigning `hue` is deprecated and will be removed in v0.14.0. Assign the `x` variable to `hue` and set `legend=False` for the same effect.\n",
      "\n",
      "  sns.barplot(data=weekday_avg_passengers, x='Weekday', y='Passengers', palette='viridis')\n"
     ]
    },
    {
     "data": {
      "image/png": "[encoded data removed]",
      "text/plain": [
       "<Figure size 1000x600 with 1 Axes>"
      ]
     },
     "metadata": {},
     "output_type": "display_data"
    }
   ],
   "source": [
    "# 5. 데이터 시각화 (요일별 평균 승객 수 비교)\n",
    "plt.figure(figsize=(10, 6))\n",
    "sns.barplot(data=weekday_avg_passengers, x='Weekday', y='Passengers', palette='viridis')\n",
    "# Seaborn의 barplot을 사용하여 요일별 평균 승객 수를 시각화하는 코드 작성\n",
    "\n",
    "# 그래프 제목 및 라벨 설정\n",
    "plt.title('요일별 평균 승객 수')\n",
    "plt.xlabel('요일')\n",
    "plt.ylabel('평균 승객 수')\n",
    "plt.xticks(rotation=45)\n",
    "plt.grid(axis='y', linestyle='--', alpha=0.7)\n",
    "\n",
    "# 그래프 출력\n",
    "plt.show()"
   ]
  },
  {
   "cell_type": "code",
   "execution_count": null,
   "id": "d2f53abf",
   "metadata": {},
   "outputs": [],
   "source": [
    "# 6. 결과 해석\n",
    "## 1. 특정 요일별로 평균 승객 수를 분석하여 가장 붐비는 요일을 찾았다.\n",
    "## 2. 전체적으로 주중(월요일~금요일)이 주말보다 승객 수가 많을 가능성이 높음.\n",
    "## 3. 가장 승객 수가 많은 요일이 금요일이라면, 이는 출퇴근 및 여가 활동이 겹치는 영향을 받을 가능성이 있음.\n",
    "## 4. 주말의 경우(토요일, 일요일)는 상대적으로 승객 수가 감소할 수 있으며, 특정 관광지가 포함된 역은 예외일 수 있음.\n",
    "## 5. 가장 붐비는 요일의 역별 승객 수를 추가적으로 분석하여, 특정 역이 평균을 끌어올리는지 확인할 필요가 있음."
   ]
  }
 ],
 "metadata": {
  "kernelspec": {
   "display_name": "Python 3",
   "language": "python",
   "name": "python3"
  },
  "language_info": {
   "codemirror_mode": {
    "name": "ipython",
    "version": 3
   },
   "file_extension": ".py",
   "mimetype": "text/x-python",
   "name": "python",
   "nbconvert_exporter": "python",
   "pygments_lexer": "ipython3",
   "version": "3.11.9"
  }
 },
 "nbformat": 4,
 "nbformat_minor": 5
}
