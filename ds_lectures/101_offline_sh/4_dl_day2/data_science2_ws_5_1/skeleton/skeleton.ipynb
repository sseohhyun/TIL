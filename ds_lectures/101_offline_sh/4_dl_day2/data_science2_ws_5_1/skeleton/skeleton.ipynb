{
 "cells": [
  {
   "cell_type": "code",
   "execution_count": 2,
   "id": "e02c905c",
   "metadata": {},
   "outputs": [],
   "source": [
    "from langchain.prompts import PromptTemplate  # LangChain의 프롬프트 템플릿 모듈\n",
    "from langchain.chat_models import ChatOpenAI  # OpenAI의 챗봇 모델을 사용하기 위한 모듈\n",
    "from langchain.schema import StrOutputParser  # 모델의 출력을 문자열로 변환하는 모듈\n",
    "from langchain.schema.runnable import RunnablePassthrough  # 데이터 변환 없이 그대로 전달하는 모듈\n",
    "import os  # 환경 변수 설정을 위한 모듈"
   ]
  },
  {
   "cell_type": "code",
   "execution_count": null,
   "id": "baf2e6b0",
   "metadata": {},
   "outputs": [],
   "source": [
    "# OpenAI API 키 설정 (실제 사용 시에는 안전한 방법으로 API 키를 관리해야 함)\n",
    "os.environ[\"OPENAI_API_KEY\"] = \"\""
   ]
  },
  {
   "cell_type": "code",
   "execution_count": 4,
   "id": "c0a2dc34",
   "metadata": {},
   "outputs": [],
   "source": [
    "# 여행 가이드 챗봇 프롬프트 템플릿 설정\n",
    "tour_guide_template = \"\"\"\n",
    "당신은 여행을 좋아하는 10년차 여행 가이드입니다.\n",
    "사용자가 입력한 여행 국가와 도시에 맞춰 3일간의 가상 여행 계획을 작성해주세요.\n",
    "반드시 아래 FORMAT에 맞춰 작성하세요.\n",
    "\n",
    "#상황:\n",
    "{question}\n",
    "\n",
    "#FORMAT:\n",
    "- Day1: \n",
    "- Day2: \n",
    "- Day3: \n",
    "\"\"\""
   ]
  },
  {
   "cell_type": "code",
   "execution_count": 5,
   "id": "c315bbf2",
   "metadata": {},
   "outputs": [],
   "source": [
    "# 사용자로부터 여행 국가와 도시를 입력받음\n",
    "country = input(\"여행 국가를 입력하세요: \")  # 예: \"프랑스\"\n",
    "city = input(\"여행 도시를 입력하세요: \")  # 예: \"파리\""
   ]
  },
  {
   "cell_type": "code",
   "execution_count": 6,
   "id": "bd424777",
   "metadata": {},
   "outputs": [],
   "source": [
    "# 입력받은 국가와 도시를 하나의 문자열로 구성\n",
    "# 입력값을 포맷에 맞춰 문자열로 변환\n",
    "user_input = f\"여행 국가: {country}, 여행 도시: {city}\"  # \"여행 국가: <국가>, 여행 도시: <도시>\" 형식으로 만들어야 함"
   ]
  },
  {
   "cell_type": "code",
   "execution_count": 8,
   "id": "230b4385",
   "metadata": {},
   "outputs": [],
   "source": [
    "# LangChain의 프롬프트 템플릿을 적용하여 사용자 입력을 프롬프트에 반영\n",
    "prompt = PromptTemplate.from_template(tour_guide_template)  # 프롬프트 템플릿을 이용하여 객체 생성"
   ]
  },
  {
   "cell_type": "code",
   "execution_count": 13,
   "id": "c705790d",
   "metadata": {},
   "outputs": [],
   "source": [
    "# OpenAI의 GPT-4o-mini 모델을 활용하여 여행 일정 생성\n",
    "model = ChatOpenAI(model_name=\"gpt-5-nano\", temperature=1)  # OpenAI의 GPT-4o-mini 모델 사용"
   ]
  },
  {
   "cell_type": "code",
   "execution_count": 10,
   "id": "3fbb6e3d",
   "metadata": {},
   "outputs": [],
   "source": [
    "# 모델의 출력을 문자열로 변환하는 파서 (결과 데이터를 가공 없이 그대로 출력할 수 있도록 설정)\n",
    "output_parser = StrOutputParser()  # 모델 결과를 문자열로 변환하는 파서"
   ]
  },
  {
   "cell_type": "code",
   "execution_count": 15,
   "id": "be103730",
   "metadata": {},
   "outputs": [],
   "source": [
    "# 체인 구성: \n",
    "# 1. 사용자 입력값을 그대로 전달 (RunnablePassthrough)\n",
    "# 2. 프롬프트 템플릿 적용\n",
    "# 3. OpenAI 모델을 실행하여 답변 생성\n",
    "# 4. 생성된 답변을 문자열로 변환하여 반환\n",
    "# 체인 구성: 사용자 입력 → 변환(RunnablePassthrough) → 프롬프트 적용 → 모델 실행 → 출력 변환\n",
    "chain = { \"question\": RunnablePassthrough() } | prompt | model | output_parser"
   ]
  },
  {
   "cell_type": "code",
   "execution_count": 16,
   "id": "11d79f3b",
   "metadata": {},
   "outputs": [],
   "source": [
    "# 체인을 실행하여 여행 계획을 생성\n",
    "# 사용자가 입력한 국가와 도시 정보를 `question` 키에 매핑하여 전달\n",
    "answer = chain.invoke({\"question\": user_input})  # 체인을 실행하고 결과를 가져옴"
   ]
  },
  {
   "cell_type": "code",
   "execution_count": 17,
   "id": "e32612ac",
   "metadata": {},
   "outputs": [
    {
     "name": "stdout",
     "output_type": "stream",
     "text": [
      "\n",
      "[여행 계획]\n",
      "- Day1: \n",
      "  - 오전: 가상 도보 투어로 시작. Île de la Cité를 따라 걷고 Notre-Dame 외부와 Sainte-Chapelle의 360° 투어를 체험합니다. \n",
      "  - 점심: 가상 카페에서 프랑스식 식사 체험 (크루아상과 카페 오레를 온라인으로 즐기기).\n",
      "  - 오후: 루브르 박물관의 대표 명작을 360° 하이라이트로 감상. 모나리자, 비너스 드 밀로 등 주요 작품을 가상으로 둘러보기.\n",
      "  - 저녁: 몽마르트르 언덕으로 이동해 Sacré-Cœur와 Place du Tertre의 야경을 감상하는 가상 관람. 작가 분위기의 거리 공연도 온라인으로 체험.\n",
      "\n",
      "- Day2: \n",
      "  - 오전: 오르세 미술관의 인상파 걸작을 집중 탐방하는 가상 투어. 모네, 반 고흐, 고갱의 대표 작품들을 심도 있게 감상.\n",
      "  - 점심: 센 강가를 따라 가상 피크닉, 정원과 강변의 분위기 온라인 체험.\n",
      "  - 오후: 생제르맹-des-프레 구역 산책과 룩셈부르크 정원 가상 산책. 카페 문화와 거리 풍경을 느껴보기.\n",
      "  - 저녁: 에펠탑 야경을 감상하는 가상 크루즈 또는 360° 뷰로 파리의 불빛 축제를 체험.\n",
      "\n",
      "- Day3: \n",
      "  - 오전: 베르사유 궁전의 궁전 내부와 정원을 가상으로 탐방. 샤를르드르의 거울의 대 hall과 분수 쇼를 실감나게 체험.\n",
      "  - 점심: Versailles 풍경의 가상 피크닉으로 점심 시간 보내기.\n",
      "  - 오후: 프렌치 홈 쿠킹 클래스(온라인)로 크루아상과 마카롱 만들기 체험.\n",
      "  - 저녁: 세느 강 가상 크루즈로 마무리. 파리의 전일 간 추억을 요약하고 다음 여행에 대한 추천 포인트를 정리합니다.\n"
     ]
    }
   ],
   "source": [
    "# 생성된 여행 계획 출력\n",
    "print(\"\\n[여행 계획]\")  # 여행 계획 제목 출력\n",
    "print(answer)  # 모델이 생성한 여행 계획 출력"
   ]
  }
 ],
 "metadata": {
  "kernelspec": {
   "display_name": "Python (data_basic)",
   "language": "python",
   "name": "data_basic"
  },
  "language_info": {
   "codemirror_mode": {
    "name": "ipython",
    "version": 3
   },
   "file_extension": ".py",
   "mimetype": "text/x-python",
   "name": "python",
   "nbconvert_exporter": "python",
   "pygments_lexer": "ipython3",
   "version": "3.11.9"
  }
 },
 "nbformat": 4,
 "nbformat_minor": 5
}
