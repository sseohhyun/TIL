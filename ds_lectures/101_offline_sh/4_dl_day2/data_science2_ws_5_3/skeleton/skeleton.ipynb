{
 "cells": [
  {
   "cell_type": "code",
   "execution_count": null,
   "id": "669d4fd8",
   "metadata": {},
   "outputs": [],
   "source": [
    "from langchain.text_splitter import RecursiveCharacterTextSplitter\n",
    "from langchain.vectorstores import FAISS\n",
    "from langchain.embeddings.openai import OpenAIEmbeddings\n",
    "from langchain.chat_models import ChatOpenAI\n",
    "from langchain.prompts import PromptTemplate\n",
    "from langchain.schema.runnable import RunnablePassthrough\n",
    "from langchain.schema import StrOutputParser \n",
    "from langchain_community.document_loaders.csv_loader import CSVLoader\n",
    "import os  # 환경 변수 설정을 위한 모듈\n",
    "\n",
    "# OpenAI API 키 설정 (실제 사용 시에는 안전한 방법으로 API 키를 관리해야 함)\n",
    "os.environ[\"OPENAI_API_KEY\"] = \"\""
   ]
  },
  {
   "cell_type": "code",
   "execution_count": 2,
   "id": "d45a1528",
   "metadata": {},
   "outputs": [
    {
     "name": "stdout",
     "output_type": "stream",
     "text": [
      "Row 수: 891\n"
     ]
    }
   ],
   "source": [
    "# 1. CSV 파일 로드\n",
    "# - CSVLoader를 사용하여 지정된 경로의 CSV 파일을 로드\n",
    "# - 각 행(row)이 하나의 문서(Document)로 변환됨\n",
    "loader = CSVLoader(file_path=\"../data/titanic.csv\")\n",
    "docs = loader.load()\n",
    "print(f\"Row 수: {len(docs)}\")"
   ]
  },
  {
   "cell_type": "code",
   "execution_count": 3,
   "id": "abb373a2",
   "metadata": {},
   "outputs": [
    {
     "name": "stdout",
     "output_type": "stream",
     "text": [
      "\n",
      "[페이지내용]\n",
      "PassengerId: 11\n",
      "Survived: 1\n",
      "Pclass: 3\n",
      "Name: Sandstrom, Miss. Marguerite Rut\n",
      "Sex: female\n",
      "Age: 4\n",
      "SibSp: 1\n",
      "Parch: 1\n",
      "Ticket: PP 9549\n",
      "Fare: 16.7\n",
      "Cabin: G6\n",
      "Embarked: S\n",
      "\n",
      "[metadata]\n",
      "{'source': '../data/titanic.csv', 'row': 10}\n",
      "\n"
     ]
    }
   ],
   "source": [
    "# 2. 불러온 문서 내용 확인\n",
    "# - 특정 문서의 내용을 출력하여 데이터 확인\n",
    "print(f\"\\n[페이지내용]\\n{docs[10].page_content[:500]}\")\n",
    "print(f\"\\n[metadata]\\n{docs[10].metadata}\\n\")"
   ]
  },
  {
   "cell_type": "code",
   "execution_count": 4,
   "id": "e50278b1",
   "metadata": {},
   "outputs": [
    {
     "name": "stdout",
     "output_type": "stream",
     "text": [
      "청크 개수: 891\n"
     ]
    }
   ],
   "source": [
    "# 3. 문서를 작은 청크로 분할\n",
    "# - RecursiveCharacterTextSplitter를 사용하여 텍스트를 일정 크기의 청크로 나눔\n",
    "# - chunk_size: 한 개의 청크 크기 (문자 수)\n",
    "# - chunk_overlap: 청크 간 겹치는 부분의 크기 (연속성 유지)\n",
    "chunk_size = 1000  # 적절한 값 조절 필요\n",
    "chunk_overlap = 100  # 적절한 값 조절 필요\n",
    "text_splitter = RecursiveCharacterTextSplitter(chunk_size=chunk_size, chunk_overlap=chunk_overlap)\n",
    "\n",
    "# 문서를 여러 개의 작은 청크로 나눔\n",
    "splits = text_splitter.split_documents(docs)\n",
    "print(f\"청크 개수: {len(splits)}\")  # 생성된 청크 개수 확인"
   ]
  },
  {
   "cell_type": "code",
   "execution_count": 5,
   "id": "eb937fcb",
   "metadata": {},
   "outputs": [
    {
     "name": "stderr",
     "output_type": "stream",
     "text": [
      "C:\\Users\\SSAFY\\AppData\\Local\\Temp\\ipykernel_45704\\1849054279.py:4: LangChainDeprecationWarning: The class `OpenAIEmbeddings` was deprecated in LangChain 0.0.9 and will be removed in 1.0. An updated version of the class exists in the :class:`~langchain-openai package and should be used instead. To use it run `pip install -U :class:`~langchain-openai` and import as `from :class:`~langchain_openai import OpenAIEmbeddings``.\n",
      "  vectorstore = FAISS.from_documents(documents=splits, embedding=OpenAIEmbeddings(model=\"text-embedding-3-small\"))\n"
     ]
    }
   ],
   "source": [
    "# 4. 벡터스토어(Vector Store) 생성\n",
    "# - FAISS(Facebook AI Similarity Search)를 사용하여 벡터 DB를 생성\n",
    "# - OpenAIEmbeddings를 사용하여 텍스트를 벡터로 변환하여 저장\n",
    "vectorstore = FAISS.from_documents(documents=splits, embedding=OpenAIEmbeddings(model=\"text-embedding-3-small\"))"
   ]
  },
  {
   "cell_type": "code",
   "execution_count": 6,
   "id": "1a5e80aa",
   "metadata": {},
   "outputs": [],
   "source": [
    "# 5. 문서에서 정보를 검색할 수 있도록 검색기(retriever) 생성\n",
    "retriever = vectorstore.as_retriever()"
   ]
  },
  {
   "cell_type": "code",
   "execution_count": 7,
   "id": "51b4451c",
   "metadata": {},
   "outputs": [],
   "source": [
    "# 6. 프롬프트 템플릿 정의 (출처 포함)\n",
    "# - 검색된 문서를 기반으로 질문에 답변하도록 설계\n",
    "prompt = PromptTemplate.from_template(\n",
    "    \"\"\"당신은 질문-답변(Question-Answering)을 수행하는 친절한 AI 어시스턴트입니다. 당신의 임무는 주어진 문맥(context)에서 주어진 질문(question)에 답하는 것입니다.\n",
    "검색된 다음 문맥(context)을 사용하여 질문(question)에 답하세요. 만약, 주어진 문맥(context)에서 답을 찾을 수 없다면, 답을 모른다면 `주어진 정보에서 질문에 대한 정보를 찾을 수 없습니다`라고 답하세요.\n",
    "한글로 답변해 주세요. 단, 기술적인 용어나 이름은 번역하지 않고 그대로 사용해 주세요.\n",
    "#Question:\n",
    "{question}\n",
    "\n",
    "#Context:\n",
    "{context}\n",
    "\n",
    "#Answer:\"\"\"\n",
    ")"
   ]
  },
  {
   "cell_type": "code",
   "execution_count": 11,
   "id": "6ec1aaa3",
   "metadata": {},
   "outputs": [],
   "source": [
    "# 7. LLM 모델 선택\n",
    "# - OpenAI의 GPT-4o-mini 모델을 사용하여 검색된 정보를 바탕으로 응답을 생성\n",
    "# - temperature=0 설정으로 일관된 답변을 생성하도록 설정\n",
    "llm = ChatOpenAI(model_name=\"gpt-5-nano\", temperature=1)"
   ]
  },
  {
   "cell_type": "code",
   "execution_count": 12,
   "id": "a86a971c",
   "metadata": {},
   "outputs": [],
   "source": [
    "# 8. RAG(Retrieval-Augmented Generation) 체인 생성\n",
    "# - 검색된 문서를 바탕으로 LLM이 답변을 생성하도록 연결\n",
    "rag_chain = (\n",
    "    {\"context\": retriever, \"question\": RunnablePassthrough()}  # 검색을 수행하는 객체 입력\n",
    "    | prompt\n",
    "    | llm\n",
    "    | StrOutputParser()\n",
    ")"
   ]
  },
  {
   "cell_type": "code",
   "execution_count": 13,
   "id": "5a54d467",
   "metadata": {},
   "outputs": [
    {
     "name": "stdout",
     "output_type": "stream",
     "text": [
      "다음은 주어진 컨텍스트의 데이터에 대한 요약입니다.\n",
      "\n",
      "- 데이터 원천/형식\n",
      "  - Titanic.csv에서 발췌된 승객 데이터로 보이며, 각 행은 한 명의 승객 정보를 담고 있습니다.\n",
      "  - 각 레코드의 필드(열)는 일반적으로 PassengerId, Survived, Pclass, Name, Sex, Age, SibSp, Parch, Ticket, Fare, Cabin, Embarked 로 구성되어 있습니다.\n",
      "  - 출처 표기: source가 ../data/titanic.csv이고, 각 문서에 row 번호가 함께 제시되어 있습니다.\n",
      "\n",
      "- 예시 레코드 요약 (주어진 4개 레코드)\n",
      "  - Dakic, Mr. Branko\n",
      "    - PassengerId: 688\n",
      "    - Survived: 0\n",
      "    - Pclass: 3\n",
      "    - Sex: male\n",
      "    - Age: 19\n",
      "    - SibSp: 0\n",
      "    - Parch: 0\n",
      "    - Ticket: 349228\n",
      "    - Fare: 10.1708\n",
      "    - Cabin: (기재 없음)\n",
      "    - Embarked: S\n",
      "  - Hansen, Mr. Henry Damsgaard\n",
      "    - PassengerId: 624\n",
      "    - Survived: 0\n",
      "    - Pclass: 3\n",
      "    - Sex: male\n",
      "    - Age: 21\n",
      "    - SibSp: 0\n",
      "    - Parch: 0\n",
      "    - Ticket: 350029\n",
      "    - Fare: 7.8542\n",
      "    - Cabin: (기재 없음)\n",
      "    - Embarked: S\n",
      "  - Backstrom, Mr. Karl Alfred\n",
      "    - PassengerId: 207\n",
      "    - Survived: 0\n",
      "    - Pclass: 3\n",
      "    - Sex: male\n",
      "    - Age: 32\n",
      "    - SibSp: 1\n",
      "    - Parch: 0\n",
      "    - Ticket: 3101278\n",
      "    - Fare: 15.85\n",
      "    - Cabin: (기재 없음)\n",
      "    - Embarked: S\n",
      "  - Johanson, Mr. Jakob Alfred\n",
      "    - PassengerId: 203\n",
      "    - Survived: 0\n",
      "    - Pclass: 3\n",
      "    - Sex: male\n",
      "    - Age: 34\n",
      "    - SibSp: 0\n",
      "    - Parch: 0\n",
      "    - Ticket: 3101264\n",
      "    - Fare: 6.4958\n",
      "    - Cabin: (기재 없음)\n",
      "    - Embarked: S\n",
      "\n",
      "- 관찰 포인트\n",
      "  - 현재 예시 레코드들은 모두 Pclass가 3, Embarked가 S, 남성, 연령대가 19~34세 사이이며 Survived가 0으로 표기되어 있습니다.\n",
      "  - 승객 수: 4명. Fare는 6.4958 ~ 15.85 사이의 범위.\n",
      "  - Cabin 정보는 비어 있음(null)으로 표시된 경우가 많습니다.\n",
      "\n",
      "필요하시면 이 데이터를 바탕으로 간략한 요약 통계(예: 생존 여부 비율, Pclass별 분포, Embarked별 분포 등)도 간단히 계산하여 드리겠습니다.\n"
     ]
    }
   ],
   "source": [
    "# 실행 예시 (사용자가 입력한 질문)\n",
    "user_question = \"데이터에 대해서 알려주세요.\"\n",
    "response = rag_chain.invoke(user_question)  # 사용자의 질문을 입력\n",
    "print(response)  # 최종 생성된 답변 출력"
   ]
  },
  {
   "cell_type": "code",
   "execution_count": 14,
   "id": "caa7ff12",
   "metadata": {},
   "outputs": [
    {
     "name": "stdout",
     "output_type": "stream",
     "text": [
      "다음은 이 데이터를 가지고 할 수 있는 분석 아이디어 5가지입니다:\n",
      "\n",
      "1) 생존 예측 모델 초안\n",
      "- 목표 변수: Survived\n",
      "- 피처: Pclass, Sex, Age, SibSp, Parch, Fare, Embarked 등을 활용해 로지스틱 회귀나 트리 기반 모델(RandomForest, GradientBoosting 등)로 예측 성능 비교.\n",
      "\n",
      "2) 항목별 요약 통계 및 생존 비율 분석\n",
      "- Pclass별 생존 비율, Sex별 생존 비율, Embarked별 생존 비율을 계산\n",
      "- Fare의 분포(평균/중앙값/사분위)와 생존 여부와의 관계를 시각화\n",
      "\n",
      "3) Fare와 Pclass의 상호작용 분석\n",
      "- Fare가 생존에 미치는 영향이 Pclass에 따라 달라지는지 확인\n",
      "- 상호작용 항을 포함한 모델(예: 로지스틱 회귀의 상호작용 항)이나 교차표를 통해 해석\n",
      "\n",
      "4) Age 결측치 처리 전략과 영향 평가\n",
      "- Age가 비어 있는 항목의 처리 방법 비교(Imputation: 평균/중앙값, 모델 기반 예측 등)\n",
      "- 결측치를 처리한 후 생존 예측 모델의 성능 변화나 특정 그룹에서의 영향 비교\n",
      "\n",
      "5) 가족 구성(SibSp, Parch)과 생존 관계 분석\n",
      "- 형제자매/배우자 수(SibSp)와 부모/자식 수(Parch)가 생존에 미치는 영향 분석\n",
      "- 가족 크기 합치 변수 생성(예: 가족 총합) 후 생존률 비교 및 모델에 반영\n",
      "\n",
      "필요 시 각 아이디어에 대해 시각화(막대그래프, 상자그림, 히트맵)와 교차분석 표를 함께 제시하면 이해도가 높아집니다.\n"
     ]
    }
   ],
   "source": [
    "# 실행 예시 (사용자가 입력한 질문)\n",
    "user_question = \"이 데이터를 가지고 어떤 걸 분석할 수 있을지 아이디어 5개 리스트 형식으로 정리해줘.\"\n",
    "response = rag_chain.invoke(user_question)  # 사용자의 질문을 입력\n",
    "print(response)  # 최종 생성된 답변 출력"
   ]
  }
 ],
 "metadata": {
  "kernelspec": {
   "display_name": "Python 3.11 (py311)",
   "language": "python",
   "name": "py311"
  },
  "language_info": {
   "codemirror_mode": {
    "name": "ipython",
    "version": 3
   },
   "file_extension": ".py",
   "mimetype": "text/x-python",
   "name": "python",
   "nbconvert_exporter": "python",
   "pygments_lexer": "ipython3",
   "version": "3.11.9"
  }
 },
 "nbformat": 4,
 "nbformat_minor": 5
}
