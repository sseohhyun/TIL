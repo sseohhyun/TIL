{
 "cells": [
  {
   "cell_type": "code",
   "execution_count": 1,
   "id": "0cd3cf97",
   "metadata": {},
   "outputs": [],
   "source": [
    "# 1. 필요한 라이브러리를 가져옵니다.\n",
    "from langchain_openai import ChatOpenAI  # LangChain에서 OpenAI 모델을 사용하기 위한 모듈을 입력하세요.\n",
    "from langchain.schema import SystemMessage, HumanMessage  # 시스템 메시지와 사용자 메시지를 다루는 타입을 입력하세요.\n",
    "import os"
   ]
  },
  {
   "cell_type": "code",
   "execution_count": null,
   "id": "546d2407",
   "metadata": {},
   "outputs": [],
   "source": [
    "# 2. OpenAI API Key를 설정합니다.\n",
    "# 실제 실행 시, 본인의 OpenAI API Key를 입력해야 합니다.\n",
    "os.environ[\"OPENAI_API_KEY\"] = \"\"  # 여기에 API 키를 입력하세요."
   ]
  },
  {
   "cell_type": "code",
   "execution_count": 3,
   "id": "43da0f88",
   "metadata": {},
   "outputs": [],
   "source": [
    "# 3. ChatGPT-4o-mini 모델을 초기화합니다.\n",
    "# 모델은 gpt-4o-mini를 사용해야 합니다.\n",
    "# `temperature` 값은 0.1로 설정해야 합니다.\n",
    "llm = ChatOpenAI(model=\"gpt-5-nano\", temperature=0.1)  # 빈칸을 채우세요."
   ]
  },
  {
   "cell_type": "code",
   "execution_count": 4,
   "id": "bb9f96a1",
   "metadata": {},
   "outputs": [],
   "source": [
    "# 4. 교통 사고 데이터를 정의합니다.\n",
    "# 이 데이터는 특정 교통 사고에 대한 정보를 포함하고 있습니다.\n",
    "traffic_accident_data = {\n",
    "    \"date\": \"2025-03-01\",  # 사고 발생 날짜\n",
    "    \"location\": \"_________\",  # 사고 발생 위치를 입력하세요.\n",
    "    \"vehicles_involved\": [\"승용차\", \"_________\"],  # 사고에 연루된 차량을 입력하세요.\n",
    "    \"casualties\": {\"injured\": __, \"fatalities\": __},  # 부상자 및 사망자 수를 입력하세요.\n",
    "    \"weather\": \"_________\",  # 사고 발생 시 날씨를 입력하세요.\n",
    "    \"cause\": \"_________\",  # 사고 원인을 입력하세요.\n",
    "    \"description\": \"_________\"  # 사고 설명을 입력하세요.\n",
    "}\n"
   ]
  },
  {
   "cell_type": "code",
   "execution_count": 5,
   "id": "942c7d37",
   "metadata": {},
   "outputs": [],
   "source": [
    "# 5. 프롬프트를 구성합니다.\n",
    "# LangChain의 메시지 객체를 사용하여 AI 모델에 전달할 입력을 만듭니다.\n",
    "messages = [\n",
    "    SystemMessage(content=\"당신은 교통 사고 데이터를 분석하여 간결하게 요약하는 AI입니다.\"),  # 시스템 역할 설정\n",
    "    HumanMessage(content=f\"다음 교통 사고 데이터를 간결하게 한줄로 요약하세요: ___________\")  # 빈칸을 채우세요.\n",
    "]"
   ]
  },
  {
   "cell_type": "code",
   "execution_count": 6,
   "id": "fd0b9b0f",
   "metadata": {},
   "outputs": [
    {
     "name": "stderr",
     "output_type": "stream",
     "text": [
      "C:\\Users\\SSAFY\\AppData\\Local\\Temp\\ipykernel_46288\\3793154865.py:3: LangChainDeprecationWarning: The method `BaseChatModel.__call__` was deprecated in langchain-core 0.1.7 and will be removed in 1.0. Use :meth:`~invoke` instead.\n",
      "  summary = llm(messages).content  # 빈칸을 채우세요.\n"
     ]
    }
   ],
   "source": [
    "# 6. AI 모델을 사용하여 사고 데이터를 요약합니다.\n",
    "# summary 변수에서 반드시 .content 속성을 사용하여 결과를 출력해야 합니다.\n",
    "summary = llm(messages).content  # 빈칸을 채우세요."
   ]
  },
  {
   "cell_type": "code",
   "execution_count": 7,
   "id": "d7d68caf",
   "metadata": {},
   "outputs": [
    {
     "name": "stdout",
     "output_type": "stream",
     "text": [
      "### 교통 사고 요약 ###\n",
      "데이터를 입력해 주세요. 한줄 요약 포맷 예시: YYYY-MM-DD, 장소, 사고유형, 사상자 수/사망 여부, 주요 원인. 예) 2024-11-02, 서울 강남구, 차량충돌, 부상 2명, 원인: 과속. 데이터를 보내 주시면 바로 한줄로 요약해 드리겠습니다.\n"
     ]
    }
   ],
   "source": [
    "# 7. 결과를 출력합니다.\n",
    "print(\"### 교통 사고 요약 ###\")\n",
    "print(summary)  # 빈칸을 채우세요."
   ]
  }
 ],
 "metadata": {
  "kernelspec": {
   "display_name": "Python 3.11 (py311)",
   "language": "python",
   "name": "py311"
  },
  "language_info": {
   "codemirror_mode": {
    "name": "ipython",
    "version": 3
   },
   "file_extension": ".py",
   "mimetype": "text/x-python",
   "name": "python",
   "nbconvert_exporter": "python",
   "pygments_lexer": "ipython3",
   "version": "3.11.9"
  }
 },
 "nbformat": 4,
 "nbformat_minor": 5
}
