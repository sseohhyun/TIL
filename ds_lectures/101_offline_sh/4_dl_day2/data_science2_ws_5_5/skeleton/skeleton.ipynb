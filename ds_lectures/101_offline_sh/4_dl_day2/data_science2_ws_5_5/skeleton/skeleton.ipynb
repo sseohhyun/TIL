{
 "cells": [
  {
   "cell_type": "code",
   "execution_count": 6,
   "id": "132c2cfb",
   "metadata": {},
   "outputs": [],
   "source": [
    "# 필요한 모듈 불러오기\n",
    "# FAISS: 대규모 벡터 데이터를 저장하고 유사도를 기반으로 검색할 수 있는 라이브러리\n",
    "# PyPDFLoader: PDF 파일을 로드하여 텍스트 데이터를 추출하는 모듈\n",
    "# CharacterTextSplitter: 문서를 여러 청크로 나누기 위한 텍스트 분할기\n",
    "# OpenAIEmbeddings: 텍스트 데이터를 벡터로 변환하는 OpenAI 임베딩 모델\n",
    "# ChatOpenAI: OpenAI의 GPT 모델을 사용하여 대화를 처리하는 모듈"
   ]
  },
  {
   "cell_type": "code",
   "execution_count": 7,
   "id": "b6f19807",
   "metadata": {},
   "outputs": [],
   "source": [
    "from langchain_community.vectorstores import FAISS\n",
    "from langchain_community.document_loaders import PyPDFLoader\n",
    "from langchain.text_splitter import CharacterTextSplitter\n",
    "from langchain_openai.embeddings import OpenAIEmbeddings\n",
    "from langchain_openai.chat_models import ChatOpenAI\n",
    "from langchain.schema import HumanMessage, SystemMessage\n",
    "import os"
   ]
  },
  {
   "cell_type": "code",
   "execution_count": null,
   "id": "47b9ce3d",
   "metadata": {},
   "outputs": [],
   "source": [
    "# TODO: 위에서 불러온 모듈을 기반으로 빈칸을 완성하세요.\n",
    "\n",
    "# OpenAI API 키 설정 (실제 API 키로 변경 필요)\n",
    "os.environ[\"OPENAI_API_KEY\"] = \"\""
   ]
  },
  {
   "cell_type": "code",
   "execution_count": 9,
   "id": "5dc3aada",
   "metadata": {},
   "outputs": [],
   "source": [
    "# Step 1: PDF 파일 로드 함수\n",
    "# PDF 파일을 로드하여 텍스트 데이터를 추출하는 함수입니다.\n",
    "def load_traffic_data(pdf_file_path):\n",
    "    loader = PyPDFLoader(pdf_file_path)  # PDF 로더 생성\n",
    "    documents = loader.load()  # PDF에서 문서(페이지) 불러오기\n",
    "    print(f\"{len(documents)}개의 페이지에서 텍스트를 로드했습니다.\")  # 페이지 수 출력\n",
    "    return documents  # 로드된 문서 반환"
   ]
  },
  {
   "cell_type": "code",
   "execution_count": 10,
   "id": "897e7d00",
   "metadata": {},
   "outputs": [],
   "source": [
    "# Step 2: 문서를 청크로 나누는 함수\n",
    "# 문서들을 일정 크기의 청크로 나누어 모델이 처리할 수 있는 단위로 나눕니다.\n",
    "def split_documents(documents):\n",
    "    text_splitter = CharacterTextSplitter(\n",
    "        separator=\"\\n\",  # 청크를 분할할 때 사용할 구분자 (줄바꿈 기준)\n",
    "        chunk_size=300,  # 한 청크의 최대 길이 (단위: 문자 수)\n",
    "        chunk_overlap=100  # 청크 간 겹치는 부분 길이 (중복된 부분을 포함하여 문맥 유지)\n",
    "    )\n",
    "    splits = text_splitter.split_documents(documents)  # 문서를 청크로 나누기\n",
    "    print(f\"{len(splits)}개의 청크로 나누었습니다.\")  # 청크 수 출력\n",
    "    return splits  # 나눈 청크 반환"
   ]
  },
  {
   "cell_type": "code",
   "execution_count": 11,
   "id": "e329379f",
   "metadata": {},
   "outputs": [],
   "source": [
    "# Step 3: 청크를 벡터로 변환하여 벡터 스토어에 저장하는 함수\n",
    "# OpenAI 임베딩을 사용해 청크를 벡터로 변환하고, FAISS 벡터 스토어에 저장합니다.\n",
    "def store_in_vector_db(splits):\n",
    "    embeddings = OpenAIEmbeddings(model=\"text-embedding-3-small\")  # OpenAI 임베딩 모델 사용\n",
    "    vector_store = FAISS.from_documents(splits, embeddings)  # 청크를 벡터로 변환하고 저장\n",
    "    print(\"벡터 스토어에 청크를 저장했습니다.\")  # 저장 완료 메시지 출력\n",
    "    return vector_store  # 벡터 스토어 반환"
   ]
  },
  {
   "cell_type": "code",
   "execution_count": 12,
   "id": "797694ff",
   "metadata": {},
   "outputs": [],
   "source": [
    "# Step 4: 유사한 문서를 검색하는 함수\n",
    "# 입력한 질문(query)과 가장 유사한 문서를 검색합니다.\n",
    "def retrieve_similar_docs(query_text, vector_store):\n",
    "    docs = vector_store.similarity_search(query_text, k=3)  # 유사도 높은 상위 3개의 문서 검색\n",
    "    print(\"유사한 문서를 검색했습니다.\")  # 검색 완료 메시지 출력\n",
    "    return docs  # 검색된 문서 반환"
   ]
  },
  {
   "cell_type": "code",
   "execution_count": 21,
   "id": "a187a82b",
   "metadata": {},
   "outputs": [],
   "source": [
    "# Step 5: LLM을 사용하여 답변 생성하는 함수\n",
    "# 검색된 문서를 바탕으로 모델이 답변을 생성합니다.\n",
    "def generate_answer(query_text, docs):\n",
    "    # OpenAI의 GPT-4 모델을 불러옵니다.\n",
    "    llm = ChatOpenAI(model_name=\"gpt-5-nano\", temperature=1)\n",
    "    \n",
    "    # 시스템 메시지를 통해 모델의 역할을 지정 (교통 전문가로서 답변)\n",
    "    system_message = SystemMessage(content=\"너는 교통 전문가야. 질문에 대해 관련된 교통 데이터를 바탕으로 답변해줘.\")\n",
    "    \n",
    "    # 유저의 질문과 검색된 문서를 담은 메시지 생성\n",
    "    human_message = HumanMessage(content=f\"질문: {query_text}\\n\\n{docs}\")\n",
    "    \n",
    "    # 대화에 시스템 메시지와 유저 질문 추가\n",
    "    conversation = [system_message, human_message]\n",
    "    \n",
    "    # 모델에게 대화를 전달하여 답변 생성\n",
    "    response = llm.invoke(conversation)\n",
    "    \n",
    "    return response.content  # 생성된 답변 반환"
   ]
  },
  {
   "cell_type": "code",
   "execution_count": 14,
   "id": "c634d356",
   "metadata": {},
   "outputs": [],
   "source": [
    "# Step 6: 예시 사용\n",
    "# PDF 파일 경로와 검색할 질문을 설정\n",
    "pdf_file_path = \"../data/교통_3대_혁신_전략.pdf\"  # PDF 파일 경로 설정\n",
    "query_text = \"교통격차 해소에 투입된 예산은?\"  # 검색할 질문 설정"
   ]
  },
  {
   "cell_type": "code",
   "execution_count": 15,
   "id": "93717905",
   "metadata": {},
   "outputs": [
    {
     "name": "stdout",
     "output_type": "stream",
     "text": [
      "29개의 페이지에서 텍스트를 로드했습니다.\n"
     ]
    }
   ],
   "source": [
    "# 1. Loading: PDF 파일 로드\n",
    "documents = load_traffic_data(pdf_file_path)  # PDF 파일에서 문서 로드"
   ]
  },
  {
   "cell_type": "code",
   "execution_count": 16,
   "id": "d2ae872c",
   "metadata": {},
   "outputs": [
    {
     "name": "stderr",
     "output_type": "stream",
     "text": [
      "Created a chunk of size 715, which is longer than the specified 300\n",
      "Created a chunk of size 454, which is longer than the specified 300\n",
      "Created a chunk of size 402, which is longer than the specified 300\n",
      "Created a chunk of size 316, which is longer than the specified 300\n",
      "Created a chunk of size 317, which is longer than the specified 300\n",
      "Created a chunk of size 348, which is longer than the specified 300\n"
     ]
    },
    {
     "name": "stdout",
     "output_type": "stream",
     "text": [
      "70개의 청크로 나누었습니다.\n"
     ]
    }
   ],
   "source": [
    "# 2. Splitting: 문서를 청크로 나누기\n",
    "splits = split_documents(documents)  # 문서를 여러 청크로 분할"
   ]
  },
  {
   "cell_type": "code",
   "execution_count": 17,
   "id": "9ab56c34",
   "metadata": {},
   "outputs": [
    {
     "name": "stdout",
     "output_type": "stream",
     "text": [
      "벡터 스토어에 청크를 저장했습니다.\n"
     ]
    }
   ],
   "source": [
    "# 3. Storage: 벡터 스토어에 저장\n",
    "vector_store = store_in_vector_db(splits)  # 청크를 벡터로 변환 후 벡터 스토어에 저장"
   ]
  },
  {
   "cell_type": "code",
   "execution_count": 19,
   "id": "473f73b5",
   "metadata": {},
   "outputs": [
    {
     "name": "stdout",
     "output_type": "stream",
     "text": [
      "유사한 문서를 검색했습니다.\n"
     ]
    }
   ],
   "source": [
    "# 4. Retrieval: 질문에 대한 유사한 문서 검색\n",
    "similar_docs = retrieve_similar_docs(query_text, vector_store)  # 유사한 문서 검색"
   ]
  },
  {
   "cell_type": "code",
   "execution_count": 22,
   "id": "2885fe38",
   "metadata": {},
   "outputs": [],
   "source": [
    "# 5. Generation: 검색된 문서를 바탕으로 답변 생성\n",
    "answer = generate_answer(query_text, similar_docs)  # 질문에 대한 답변 생성"
   ]
  },
  {
   "cell_type": "code",
   "execution_count": 23,
   "id": "41c9769f",
   "metadata": {},
   "outputs": [
    {
     "name": "stdout",
     "output_type": "stream",
     "text": [
      "최종 답변: 요약\n",
      "- 교통격차 해소를 포함한 3대 교통혁신 패키지 전체 예산은 약 134조 원을 집중 투자하는 것으로 제시되어 있습니다.\n",
      "\n",
      "재원 구성 (약 134조 원)\n",
      "- 국비: 30.0조 원\n",
      "- 지방비: 13.6조 원\n",
      "- 민간 재원: 75.2조 원\n",
      "- 신도시 조성원가 반영: 9.2조 원\n",
      "- 공공기관 재원: 5.6조 원\n",
      "\n",
      "추가 메모\n",
      "- 민간투자 활성화 및 상부 개발 이익 활용 등을 통해 재원을 먼저 조달하는 방식으로 제시되어 있습니다.\n",
      "- 광역교통대책 사업비는 LH 회계 내 광역교통계정 신설 등을 통해 약 11조 원 규모로 광역교통 개선에 투입될 예정.\n",
      "- GTX-A/B/C 연장 등 기타 광역·도시교통사업은 국비-지방비 매칭 등으로 추진하는 방식이 명시되어 있습니다.\n",
      "\n",
      "참고: 위 수치는 문서 “교통_3대_혁신_전략.pdf”의 재원 대책 페이지에 기재된 내용(약 134조 원 총 투자, 재원 구성)입니다.\n"
     ]
    }
   ],
   "source": [
    "# 최종 답변 출력\n",
    "print(f\"최종 답변: {answer}\")  # 모델이 생성한 답변 출력"
   ]
  }
 ],
 "metadata": {
  "kernelspec": {
   "display_name": "Python (data_basic)",
   "language": "python",
   "name": "data_basic"
  },
  "language_info": {
   "codemirror_mode": {
    "name": "ipython",
    "version": 3
   },
   "file_extension": ".py",
   "mimetype": "text/x-python",
   "name": "python",
   "nbconvert_exporter": "python",
   "pygments_lexer": "ipython3",
   "version": "3.11.9"
  }
 },
 "nbformat": 4,
 "nbformat_minor": 5
}
