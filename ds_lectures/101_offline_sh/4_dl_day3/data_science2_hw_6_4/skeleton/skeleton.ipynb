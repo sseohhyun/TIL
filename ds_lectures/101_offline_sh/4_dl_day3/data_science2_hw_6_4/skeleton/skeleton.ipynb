{
 "cells": [
  {
   "cell_type": "code",
   "execution_count": 7,
   "id": "436aaa8c",
   "metadata": {},
   "outputs": [],
   "source": [
    "import pandas as pd\n",
    "import numpy as np\n",
    "from sklearn.model_selection import train_test_split\n",
    "from sklearn.preprocessing import LabelEncoder, StandardScaler\n",
    "from sklearn.ensemble import RandomForestClassifier\n",
    "from sklearn.linear_model import LogisticRegression\n",
    "from sklearn.metrics import accuracy_score, f1_score, roc_auc_score\n",
    "import mlflow\n",
    "import mlflow.sklearn\n",
    "from mlflow.models import infer_signature\n",
    "\n",
    "# 1. 데이터 로드\n",
    "train_df = pd.read_csv(\"../data/train.csv\")\n",
    "test_df = pd.read_csv(\"../data/test.csv\")"
   ]
  },
  {
   "cell_type": "code",
   "execution_count": 8,
   "metadata": {},
   "outputs": [],
   "source": [
    "# 2. 결측값 처리\n",
    "# 각 컬럼별로 적절한 방식으로 결측값을 채움\n",
    "for df in [train_df, test_df]:\n",
    "    df.fillna({\n",
    "        'Gender': 'Unknown',\n",
    "        'Married': 'Unknown',\n",
    "        'Self_Employed': 'Unknown',\n",
    "        'LoanAmount': df['LoanAmount'].mean(),\n",
    "        'Loan_Amount_Term': df['Loan_Amount_Term'].median(),\n",
    "        'Credit_History': df['Credit_History'].mode()[0]\n",
    "    }, inplace=True)\n"
   ]
  },
  {
   "cell_type": "code",
   "execution_count": 9,
   "metadata": {},
   "outputs": [],
   "source": [
    "# 3. 범주형 변수 라벨 인코딩\n",
    "cat_cols = ['Gender', 'Married', 'Education', 'Self_Employed', 'Property_Area']\n",
    "le = LabelEncoder()\n",
    "for col in cat_cols:\n",
    "    train_df[col] = le.fit_transform(train_df[col])\n",
    "    test_df[col] = le.transform(test_df[col])  # 동일한 인코더로 변환"
   ]
  },
  {
   "cell_type": "code",
   "execution_count": 10,
   "metadata": {},
   "outputs": [],
   "source": [
    "# 4. 종속 변수 인코딩 ('Y' → 1, 'N' → 0)\n",
    "train_df['Loan_Status'] = train_df['Loan_Status'].map({'Y': 1, 'N': 0})"
   ]
  },
  {
   "cell_type": "code",
   "execution_count": 11,
   "metadata": {},
   "outputs": [],
   "source": [
    "# 5. 특성과 레이블 정의\n",
    "features = [\n",
    "    'Gender', 'Married', 'Education', 'Self_Employed',\n",
    "    'ApplicantIncome', 'CoapplicantIncome',\n",
    "    'LoanAmount', 'Loan_Amount_Term', 'Credit_History', 'Property_Area'\n",
    "]\n",
    "\n",
    "X = train_df[features]\n",
    "y = train_df[\"Loan_Status\"]\n"
   ]
  },
  {
   "cell_type": "code",
   "execution_count": 12,
   "id": "6008594b",
   "metadata": {},
   "outputs": [],
   "source": [
    "# 6. 학습/검증 데이터 분할 (stratify로 클래스 비율 유지)\n",
    "X_train, X_val, y_train, y_val = train_test_split(\n",
    "    X, y, test_size=0.2, random_state=42, stratify=y\n",
    ")\n"
   ]
  },
  {
   "cell_type": "code",
   "execution_count": 13,
   "id": "b85aaa63",
   "metadata": {},
   "outputs": [],
   "source": [
    "# 7. 피처 스케일링 (LogisticRegression에 필요)\n",
    "scaler = StandardScaler()\n",
    "X_train = scaler.fit_transform(X_train)\n",
    "X_val = scaler.transform(X_val)"
   ]
  },
  {
   "cell_type": "code",
   "execution_count": 16,
   "id": "a5cdc1c6",
   "metadata": {},
   "outputs": [],
   "source": [
    "# 스케일링 후 다시 DataFrame으로 변환 (MLflow input_example용)\n",
    "X_train = pd.DataFrame(X_train, columns=features)\n",
    "X_val = pd.DataFrame(X_val, columns=features)\n"
   ]
  },
  {
   "cell_type": "code",
   "execution_count": 20,
   "id": "a98a66ed",
   "metadata": {},
   "outputs": [
    {
     "name": "stderr",
     "output_type": "stream",
     "text": [
      "2025/10/01 16:13:59 INFO mlflow.tracking.fluent: Experiment with name 'Loan_Prediction_Experiment' does not exist. Creating a new experiment.\n"
     ]
    },
    {
     "data": {
      "text/plain": [
       "<Experiment: artifact_location='file:///C:/Users/SSAFY/mlflow_project/mlruns/5', creation_time=1759302839223, experiment_id='5', last_update_time=1759302839223, lifecycle_stage='active', name='Loan_Prediction_Experiment', tags={}>"
      ]
     },
     "execution_count": 20,
     "metadata": {},
     "output_type": "execute_result"
    }
   ],
   "source": [
    "# 8. MLflow 실험 설정\n",
    "mlflow.set_tracking_uri(\"http://localhost:5000\")\n",
    "mlflow.set_experiment(\"Loan_Prediction_Experiment\")"
   ]
  },
  {
   "cell_type": "code",
   "execution_count": 21,
   "id": "aa68c4ae",
   "metadata": {},
   "outputs": [],
   "source": [
    "# 9. 실험에 사용할 모델 정의 (모델명, 클래스, 하이퍼파라미터 목록)\n",
    "models = {\n",
    "    \"RandomForest\": {\n",
    "        \"class\": RandomForestClassifier,\n",
    "        \"params_list\": [\n",
    "            {\"max_depth\": 5, \"n_estimators\": 100},\n",
    "            {\"max_depth\": 7, \"n_estimators\": 300},\n",
    "        ]\n",
    "    },\n",
    "    \"LogisticRegression\": {\n",
    "        \"class\": LogisticRegression,\n",
    "        \"params_list\": [\n",
    "            {\"C\": 1.0, \"max_iter\": 100},\n",
    "            {\"C\": 0.5, \"max_iter\": 300},\n",
    "        ]\n",
    "    }\n",
    "}\n"
   ]
  },
  {
   "cell_type": "code",
   "execution_count": 23,
   "id": "c54c3f16",
   "metadata": {},
   "outputs": [
    {
     "data": {
      "application/vnd.jupyter.widget-view+json": {
       "model_id": "32e8a56f13604e6697a958bf2607d06c",
       "version_major": 2,
       "version_minor": 0
      },
      "text/plain": [
       "Downloading artifacts:   0%|          | 0/7 [00:00<?, ?it/s]"
      ]
     },
     "metadata": {},
     "output_type": "display_data"
    },
    {
     "name": "stdout",
     "output_type": "stream",
     "text": [
      "[RandomForest] Params={'max_depth': 5, 'n_estimators': 100} → ACC=0.8537, F1=0.9032, AUC=0.7780185758513932\n",
      "🏃 View run rare-crow-704 at: http://localhost:5000/#/experiments/5/runs/1a609148ab144f119ef958911b4eec7e\n",
      "🧪 View experiment at: http://localhost:5000/#/experiments/5\n"
     ]
    },
    {
     "data": {
      "application/vnd.jupyter.widget-view+json": {
       "model_id": "03b347b0fd33464b9517a8e234acf718",
       "version_major": 2,
       "version_minor": 0
      },
      "text/plain": [
       "Downloading artifacts:   0%|          | 0/7 [00:00<?, ?it/s]"
      ]
     },
     "metadata": {},
     "output_type": "display_data"
    },
    {
     "name": "stdout",
     "output_type": "stream",
     "text": [
      "[RandomForest] Params={'max_depth': 7, 'n_estimators': 300} → ACC=0.8699, F1=0.9130, AUC=0.8\n",
      "🏃 View run dashing-bat-377 at: http://localhost:5000/#/experiments/5/runs/e02fccccc2464b5691f2f498fc0939c4\n",
      "🧪 View experiment at: http://localhost:5000/#/experiments/5\n"
     ]
    },
    {
     "data": {
      "application/vnd.jupyter.widget-view+json": {
       "model_id": "27d3a8a7dc654fba8d93ed712657134f",
       "version_major": 2,
       "version_minor": 0
      },
      "text/plain": [
       "Downloading artifacts:   0%|          | 0/7 [00:00<?, ?it/s]"
      ]
     },
     "metadata": {},
     "output_type": "display_data"
    },
    {
     "name": "stdout",
     "output_type": "stream",
     "text": [
      "[LogisticRegression] Params={'C': 1.0, 'max_iter': 100} → ACC=0.8618, F1=0.9081, AUC=0.8148606811145511\n",
      "🏃 View run dashing-ray-819 at: http://localhost:5000/#/experiments/5/runs/f6ad9175ee05431382add20ae3867c25\n",
      "🧪 View experiment at: http://localhost:5000/#/experiments/5\n"
     ]
    },
    {
     "data": {
      "application/vnd.jupyter.widget-view+json": {
       "model_id": "9147a918bcca4eefb3758becef2864c7",
       "version_major": 2,
       "version_minor": 0
      },
      "text/plain": [
       "Downloading artifacts:   0%|          | 0/7 [00:00<?, ?it/s]"
      ]
     },
     "metadata": {},
     "output_type": "display_data"
    },
    {
     "name": "stdout",
     "output_type": "stream",
     "text": [
      "[LogisticRegression] Params={'C': 0.5, 'max_iter': 300} → ACC=0.8618, F1=0.9081, AUC=0.8145510835913313\n",
      "🏃 View run awesome-donkey-963 at: http://localhost:5000/#/experiments/5/runs/e34e4a07ab504f72887a5d505db5f0e8\n",
      "🧪 View experiment at: http://localhost:5000/#/experiments/5\n"
     ]
    }
   ],
   "source": [
    "# 10. 모델별 실험 루프\n",
    "for model_name, model_info in models.items():\n",
    "    for params in model_info[\"params_list\"]:\n",
    "        with mlflow.start_run():\n",
    "            # 모델 학습\n",
    "            ModelClass = model_info[\"class\"]\n",
    "            model = ModelClass(**params)\n",
    "            model.fit(X_train, y_train)\n",
    "\n",
    "            # 예측 및 평가\n",
    "            preds = model.predict(X_val)\n",
    "            acc = accuracy_score(y_val, preds)\n",
    "            f1 = f1_score(y_val, preds)\n",
    "            try:\n",
    "                proba = model.predict_proba(X_val)[:, 1]\n",
    "                auc = roc_auc_score(y_val, proba)\n",
    "            except:\n",
    "                auc = None  # 일부 모델은 predict_proba 없음\n",
    "\n",
    "            # MLflow에 실험 결과 기록\n",
    "            mlflow.set_tag(\"model_name\", model_name)\n",
    "            for k, v in params.items():\n",
    "                mlflow.log_param(k, v)\n",
    "            mlflow.log_metric(\"accuracy\", acc)\n",
    "            mlflow.log_metric(\"f1_score\", f1)\n",
    "            if auc is not None:\n",
    "                mlflow.log_metric(\"roc_auc\", auc)\n",
    "\n",
    "            # 모델 서명 및 예제 입력 포함하여 저장\n",
    "            signature = infer_signature(X_train, preds)\n",
    "            mlflow.sklearn.log_model(\n",
    "                model,\n",
    "                artifact_path=\"model\",\n",
    "                signature=signature,\n",
    "                input_example=X_train.iloc[:1]\n",
    "            )\n",
    "\n",
    "            print(f\"[{model_name}] Params={params} → ACC={acc:.4f}, F1={f1:.4f}, AUC={auc if auc else 'N/A'}\")\n"
   ]
  },
  {
   "cell_type": "code",
   "execution_count": null,
   "id": "20169f0c",
   "metadata": {},
   "outputs": [],
   "source": []
  }
 ],
 "metadata": {
  "kernelspec": {
   "display_name": "Python 3.11 (py311)",
   "language": "python",
   "name": "py311"
  },
  "language_info": {
   "codemirror_mode": {
    "name": "ipython",
    "version": 3
   },
   "file_extension": ".py",
   "mimetype": "text/x-python",
   "name": "python",
   "nbconvert_exporter": "python",
   "pygments_lexer": "ipython3",
   "version": "3.11.9"
  }
 },
 "nbformat": 4,
 "nbformat_minor": 5
}
