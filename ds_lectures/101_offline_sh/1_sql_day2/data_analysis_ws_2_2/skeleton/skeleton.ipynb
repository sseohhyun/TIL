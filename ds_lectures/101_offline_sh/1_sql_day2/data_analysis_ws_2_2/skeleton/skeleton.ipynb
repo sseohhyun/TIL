{
 "cells": [
  {
   "cell_type": "code",
   "execution_count": 10,
   "id": "c4af1d2c",
   "metadata": {},
   "outputs": [],
   "source": [
    "# 필요한 라이브러리 불러오기\n",
    "import pandas as pd"
   ]
  },
  {
   "cell_type": "code",
   "execution_count": 11,
   "id": "92dd63fc",
   "metadata": {},
   "outputs": [],
   "source": [
    "# ===================== 1. 데이터 로드 =====================\n",
    "# 캠페인 데이터 파일 경로 설정\n",
    "campaign_file_path = \"../data/campaign_data.csv\"\n",
    "\n",
    "# CSV 파일을 데이터프레임으로 로드\n",
    "df_campaign = pd.read_csv(campaign_file_path)"
   ]
  },
  {
   "cell_type": "code",
   "execution_count": 12,
   "id": "44487733",
   "metadata": {},
   "outputs": [
    {
     "name": "stdout",
     "output_type": "stream",
     "text": [
      "=== 캠페인 데이터 정보 ===\n",
      "<class 'pandas.core.frame.DataFrame'>\n",
      "RangeIndex: 1000 entries, 0 to 999\n",
      "Data columns (total 5 columns):\n",
      " #   Column         Non-Null Count  Dtype\n",
      "---  ------         --------------  -----\n",
      " 0   CampaignID     1000 non-null   int64\n",
      " 1   CustomerID     1000 non-null   int64\n",
      " 2   Participation  1000 non-null   int64\n",
      " 3   Clicks         1000 non-null   int64\n",
      " 4   Revenue        1000 non-null   int64\n",
      "dtypes: int64(5)\n",
      "memory usage: 39.2 KB\n",
      "None\n",
      "\n",
      "=== 캠페인 데이터 샘플 ===\n",
      "   CampaignID  CustomerID  Participation  Clicks  Revenue\n",
      "0           4           1              1       2      548\n",
      "1           1           2              1      19      224\n",
      "2           5           3              0       0        0\n",
      "3           1           4              0       0        0\n",
      "4           5           5              0       0        0\n"
     ]
    }
   ],
   "source": [
    "# ===================== 2. 데이터 확인 =====================\n",
    "# 데이터프레임 기본 정보 출력\n",
    "print(\"=== 캠페인 데이터 정보 ===\")\n",
    "print(df_campaign.info())  # 데이터프레임의 구조 및 컬럼 정보 확인\n",
    "\n",
    "# 데이터의 상위 5개 행 출력\n",
    "print(\"\\n=== 캠페인 데이터 샘플 ===\")\n",
    "print(df_campaign.head())  # 데이터의 상위 5개 행을 출력하여 확인\n"
   ]
  },
  {
   "cell_type": "code",
   "execution_count": 13,
   "id": "ff1df446",
   "metadata": {},
   "outputs": [
    {
     "name": "stdout",
     "output_type": "stream",
     "text": [
      "\n",
      "=== 결측치 개수 확인 ===\n",
      "CampaignID       0\n",
      "CustomerID       0\n",
      "Participation    0\n",
      "Clicks           0\n",
      "Revenue          0\n",
      "dtype: int64\n"
     ]
    }
   ],
   "source": [
    "# ===================== 3. 결측치 처리 =====================\n",
    "# 각 컬럼별 결측치 개수 확인\n",
    "print(\"\\n=== 결측치 개수 확인 ===\")\n",
    "print(df_campaign.isna().sum())  # 모든 컬럼의 결측치 개수 출력\n",
    "\n",
    "# 결측치가 있는 경우 제거 (현재 데이터에는 결측치 없음)\n",
    "df_campaign = df_campaign.dropna()"
   ]
  },
  {
   "cell_type": "code",
   "execution_count": 14,
   "id": "fd01d4e8",
   "metadata": {},
   "outputs": [
    {
     "data": {
      "text/html": [
       "<div>\n",
       "<style scoped>\n",
       "    .dataframe tbody tr th:only-of-type {\n",
       "        vertical-align: middle;\n",
       "    }\n",
       "\n",
       "    .dataframe tbody tr th {\n",
       "        vertical-align: top;\n",
       "    }\n",
       "\n",
       "    .dataframe thead th {\n",
       "        text-align: right;\n",
       "    }\n",
       "</style>\n",
       "<table border=\"1\" class=\"dataframe\">\n",
       "  <thead>\n",
       "    <tr style=\"text-align: right;\">\n",
       "      <th></th>\n",
       "      <th>CampaignID</th>\n",
       "      <th>CustomerID</th>\n",
       "      <th>Participation</th>\n",
       "      <th>Clicks</th>\n",
       "      <th>Revenue</th>\n",
       "    </tr>\n",
       "  </thead>\n",
       "  <tbody>\n",
       "    <tr>\n",
       "      <th>0</th>\n",
       "      <td>4</td>\n",
       "      <td>1</td>\n",
       "      <td>1</td>\n",
       "      <td>2</td>\n",
       "      <td>548</td>\n",
       "    </tr>\n",
       "    <tr>\n",
       "      <th>1</th>\n",
       "      <td>1</td>\n",
       "      <td>2</td>\n",
       "      <td>1</td>\n",
       "      <td>19</td>\n",
       "      <td>224</td>\n",
       "    </tr>\n",
       "    <tr>\n",
       "      <th>2</th>\n",
       "      <td>5</td>\n",
       "      <td>3</td>\n",
       "      <td>0</td>\n",
       "      <td>0</td>\n",
       "      <td>0</td>\n",
       "    </tr>\n",
       "    <tr>\n",
       "      <th>3</th>\n",
       "      <td>1</td>\n",
       "      <td>4</td>\n",
       "      <td>0</td>\n",
       "      <td>0</td>\n",
       "      <td>0</td>\n",
       "    </tr>\n",
       "    <tr>\n",
       "      <th>4</th>\n",
       "      <td>5</td>\n",
       "      <td>5</td>\n",
       "      <td>0</td>\n",
       "      <td>0</td>\n",
       "      <td>0</td>\n",
       "    </tr>\n",
       "  </tbody>\n",
       "</table>\n",
       "</div>"
      ],
      "text/plain": [
       "   CampaignID  CustomerID  Participation  Clicks  Revenue\n",
       "0           4           1              1       2      548\n",
       "1           1           2              1      19      224\n",
       "2           5           3              0       0        0\n",
       "3           1           4              0       0        0\n",
       "4           5           5              0       0        0"
      ]
     },
     "execution_count": 14,
     "metadata": {},
     "output_type": "execute_result"
    }
   ],
   "source": [
    "df_campaign.head()"
   ]
  },
  {
   "cell_type": "code",
   "execution_count": 15,
   "id": "ea0ff52a",
   "metadata": {},
   "outputs": [
    {
     "name": "stdout",
     "output_type": "stream",
     "text": [
      "\n",
      "=== 캠페인 참여율 분석 ===\n",
      "전체 고객 수: 1000명\n",
      "캠페인 참여 고객 수: 474명\n",
      "캠페인 참여율: 47.40%\n"
     ]
    }
   ],
   "source": [
    "# ===================== 4. 캠페인 참여율 분석 =====================\n",
    "# 전체 캠페인 고객 수 계산\n",
    "total_customers = df_campaign.shape[0]  # 전체 고객 수\n",
    "\n",
    "# 캠페인 참여 고객 수 계산\n",
    "participating_customers = df_campaign[df_campaign[\"Participation\"] == 1].shape[0]  # 캠페인 참여 고객 수\n",
    "\n",
    "# 캠페인 참여율 계산\n",
    "participation_rate = (participating_customers / total_customers) * 100  # 백분율 변환\n",
    "\n",
    "# 캠페인 참여율 출력\n",
    "print(\"\\n=== 캠페인 참여율 분석 ===\")\n",
    "print(f\"전체 고객 수: {total_customers}명\")\n",
    "print(f\"캠페인 참여 고객 수: {participating_customers}명\")\n",
    "print(f\"캠페인 참여율: {participation_rate:.2f}%\")"
   ]
  },
  {
   "cell_type": "code",
   "execution_count": 16,
   "id": "b6a0be0a",
   "metadata": {},
   "outputs": [
    {
     "name": "stdout",
     "output_type": "stream",
     "text": [
      "\n",
      "=== 캠페인 참여 여부에 따른 평균 매출 비교 ===\n",
      "캠페인 참여 고객 평균 매출: 553.61\n",
      "캠페인 비참여 고객 평균 매출: 0.00\n"
     ]
    }
   ],
   "source": [
    "# ===================== 5. 캠페인 참여 여부에 따른 매출 비교 =====================\n",
    "# 캠페인 참여 고객과 비참여 고객의 평균 매출 계산\n",
    "avg_revenue_participation = df_campaign[df_campaign[\"Participation\"] == 1][\"Revenue\"].mean()  # 참여 고객 평균 매출\n",
    "avg_revenue_non_participation = df_campaign[df_campaign[\"Participation\"] == 0][\"Revenue\"].mean()  # 비참여 고객 평균 매출\n",
    "\n",
    "# 평균 매출 비교 출력\n",
    "print(\"\\n=== 캠페인 참여 여부에 따른 평균 매출 비교 ===\")\n",
    "print(f\"캠페인 참여 고객 평균 매출: {avg_revenue_participation:.2f}\")\n",
    "print(f\"캠페인 비참여 고객 평균 매출: {avg_revenue_non_participation:.2f}\")"
   ]
  },
  {
   "cell_type": "code",
   "execution_count": 17,
   "id": "07f95ec6",
   "metadata": {},
   "outputs": [
    {
     "name": "stdout",
     "output_type": "stream",
     "text": [
      "\n",
      "=== 캠페인별 평균 매출 분석 ===\n"
     ]
    },
    {
     "data": {
      "text/html": [
       "<div>\n",
       "<style scoped>\n",
       "    .dataframe tbody tr th:only-of-type {\n",
       "        vertical-align: middle;\n",
       "    }\n",
       "\n",
       "    .dataframe tbody tr th {\n",
       "        vertical-align: top;\n",
       "    }\n",
       "\n",
       "    .dataframe thead th {\n",
       "        text-align: right;\n",
       "    }\n",
       "</style>\n",
       "<table border=\"1\" class=\"dataframe\">\n",
       "  <thead>\n",
       "    <tr style=\"text-align: right;\">\n",
       "      <th></th>\n",
       "      <th>CampaignID</th>\n",
       "      <th>AvgRevenue</th>\n",
       "    </tr>\n",
       "  </thead>\n",
       "  <tbody>\n",
       "    <tr>\n",
       "      <th>0</th>\n",
       "      <td>1</td>\n",
       "      <td>242.723404</td>\n",
       "    </tr>\n",
       "    <tr>\n",
       "      <th>1</th>\n",
       "      <td>2</td>\n",
       "      <td>272.314286</td>\n",
       "    </tr>\n",
       "    <tr>\n",
       "      <th>2</th>\n",
       "      <td>3</td>\n",
       "      <td>279.441624</td>\n",
       "    </tr>\n",
       "    <tr>\n",
       "      <th>3</th>\n",
       "      <td>4</td>\n",
       "      <td>257.236111</td>\n",
       "    </tr>\n",
       "    <tr>\n",
       "      <th>4</th>\n",
       "      <td>5</td>\n",
       "      <td>259.164021</td>\n",
       "    </tr>\n",
       "  </tbody>\n",
       "</table>\n",
       "</div>"
      ],
      "text/plain": [
       "   CampaignID  AvgRevenue\n",
       "0           1  242.723404\n",
       "1           2  272.314286\n",
       "2           3  279.441624\n",
       "3           4  257.236111\n",
       "4           5  259.164021"
      ]
     },
     "execution_count": 17,
     "metadata": {},
     "output_type": "execute_result"
    }
   ],
   "source": [
    "# ===================== 6. 캠페인별 평균 매출 분석 =====================\n",
    "# 각 캠페인별 평균 매출 계산\n",
    "df_campaign_revenue = df_campaign.groupby(\"CampaignID\")[\"Revenue\"].mean().reset_index()\n",
    "\n",
    "# 컬럼명 변경 (캠페인별 평균 매출)\n",
    "df_campaign_revenue.rename(columns={\"Revenue\": \"AvgRevenue\"}, inplace=True)\n",
    "\n",
    "# 캠페인별 평균 매출 출력\n",
    "print(\"\\n=== 캠페인별 평균 매출 분석 ===\")\n",
    "df_campaign_revenue"
   ]
  },
  {
   "cell_type": "code",
   "execution_count": 18,
   "id": "fd395c49",
   "metadata": {},
   "outputs": [
    {
     "name": "stdout",
     "output_type": "stream",
     "text": [
      "\n",
      "=== 캠페인별 평균 클릭 수 및 매출 분석 ===\n"
     ]
    },
    {
     "data": {
      "text/html": [
       "<div>\n",
       "<style scoped>\n",
       "    .dataframe tbody tr th:only-of-type {\n",
       "        vertical-align: middle;\n",
       "    }\n",
       "\n",
       "    .dataframe tbody tr th {\n",
       "        vertical-align: top;\n",
       "    }\n",
       "\n",
       "    .dataframe thead th {\n",
       "        text-align: right;\n",
       "    }\n",
       "</style>\n",
       "<table border=\"1\" class=\"dataframe\">\n",
       "  <thead>\n",
       "    <tr style=\"text-align: right;\">\n",
       "      <th></th>\n",
       "      <th>CampaignID</th>\n",
       "      <th>AvgClicks</th>\n",
       "      <th>AvgRevenue</th>\n",
       "    </tr>\n",
       "  </thead>\n",
       "  <tbody>\n",
       "    <tr>\n",
       "      <th>0</th>\n",
       "      <td>1</td>\n",
       "      <td>4.952128</td>\n",
       "      <td>242.723404</td>\n",
       "    </tr>\n",
       "    <tr>\n",
       "      <th>1</th>\n",
       "      <td>2</td>\n",
       "      <td>5.228571</td>\n",
       "      <td>272.314286</td>\n",
       "    </tr>\n",
       "    <tr>\n",
       "      <th>2</th>\n",
       "      <td>3</td>\n",
       "      <td>5.096447</td>\n",
       "      <td>279.441624</td>\n",
       "    </tr>\n",
       "    <tr>\n",
       "      <th>3</th>\n",
       "      <td>4</td>\n",
       "      <td>5.175926</td>\n",
       "      <td>257.236111</td>\n",
       "    </tr>\n",
       "    <tr>\n",
       "      <th>4</th>\n",
       "      <td>5</td>\n",
       "      <td>5.047619</td>\n",
       "      <td>259.164021</td>\n",
       "    </tr>\n",
       "  </tbody>\n",
       "</table>\n",
       "</div>"
      ],
      "text/plain": [
       "   CampaignID  AvgClicks  AvgRevenue\n",
       "0           1   4.952128  242.723404\n",
       "1           2   5.228571  272.314286\n",
       "2           3   5.096447  279.441624\n",
       "3           4   5.175926  257.236111\n",
       "4           5   5.047619  259.164021"
      ]
     },
     "execution_count": 18,
     "metadata": {},
     "output_type": "execute_result"
    }
   ],
   "source": [
    "# ===================== 7. 캠페인별 클릭 수 및 매출 비교 =====================\n",
    "# 각 캠페인별 평균 클릭 수 및 평균 매출 계산\n",
    "df_campaign_clicks_revenue = df_campaign.groupby(\"CampaignID\")[[\"Clicks\", \"Revenue\"]].mean().reset_index()\n",
    "\n",
    "# 컬럼명 변경 (캠페인별 평균 클릭 수 및 매출)\n",
    "df_campaign_clicks_revenue.rename(columns={\"Clicks\": \"AvgClicks\", \"Revenue\": \"AvgRevenue\"}, inplace=True)\n",
    "\n",
    "# 캠페인별 평균 클릭 수 및 매출 출력\n",
    "print(\"\\n=== 캠페인별 평균 클릭 수 및 매출 분석 ===\")\n",
    "df_campaign_clicks_revenue"
   ]
  }
 ],
 "metadata": {
  "kernelspec": {
   "display_name": "Python 3",
   "language": "python",
   "name": "python3"
  },
  "language_info": {
   "codemirror_mode": {
    "name": "ipython",
    "version": 3
   },
   "file_extension": ".py",
   "mimetype": "text/x-python",
   "name": "python",
   "nbconvert_exporter": "python",
   "pygments_lexer": "ipython3",
   "version": "3.11.9"
  }
 },
 "nbformat": 4,
 "nbformat_minor": 5
}
