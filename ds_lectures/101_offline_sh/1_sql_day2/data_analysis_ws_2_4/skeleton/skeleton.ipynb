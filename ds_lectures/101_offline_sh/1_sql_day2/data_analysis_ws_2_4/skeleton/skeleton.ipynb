{
 "cells": [
  {
   "cell_type": "code",
   "execution_count": 1,
   "id": "ae7b99ef",
   "metadata": {},
   "outputs": [],
   "source": [
    "# 필요한 라이브러리 불러오기\n",
    "import pandas as pd"
   ]
  },
  {
   "cell_type": "code",
   "execution_count": 2,
   "id": "2722dfb4",
   "metadata": {},
   "outputs": [],
   "source": [
    "\n",
    "# ===================== 1. 데이터 로드 =====================\n",
    "# 각 데이터 파일 경로 설정\n",
    "purchase_file_path = \"../data/purchase_history.csv\"\n",
    "survey_file_path = \"../data/satisfaction_survey.csv\"\n",
    "\n",
    "# CSV 파일을 데이터프레임으로 로드\n",
    "df_purchase = pd.read_csv(purchase_file_path)\n",
    "df_survey = pd.read_csv(survey_file_path)"
   ]
  },
  {
   "cell_type": "code",
   "execution_count": 3,
   "id": "7d8c4082",
   "metadata": {},
   "outputs": [
    {
     "name": "stdout",
     "output_type": "stream",
     "text": [
      "=== 구매 이력 데이터 정보 ===\n",
      "<class 'pandas.core.frame.DataFrame'>\n",
      "RangeIndex: 1000 entries, 0 to 999\n",
      "Data columns (total 3 columns):\n",
      " #   Column           Non-Null Count  Dtype\n",
      "---  ------           --------------  -----\n",
      " 0   CustomerID       1000 non-null   int64\n",
      " 1   PurchaseHistory  1000 non-null   int64\n",
      " 2   TotalSpent       1000 non-null   int64\n",
      "dtypes: int64(3)\n",
      "memory usage: 23.6 KB\n",
      "None\n",
      "\n",
      "=== 고객 만족도 설문 데이터 정보 ===\n",
      "<class 'pandas.core.frame.DataFrame'>\n",
      "RangeIndex: 1000 entries, 0 to 999\n",
      "Data columns (total 2 columns):\n",
      " #   Column        Non-Null Count  Dtype\n",
      "---  ------        --------------  -----\n",
      " 0   CustomerID    1000 non-null   int64\n",
      " 1   Satisfaction  1000 non-null   int64\n",
      "dtypes: int64(2)\n",
      "memory usage: 15.8 KB\n",
      "None\n"
     ]
    }
   ],
   "source": [
    "# ===================== 2. 데이터 확인 =====================\n",
    "# 데이터프레임 기본 정보 출력\n",
    "print(\"=== 구매 이력 데이터 정보 ===\")\n",
    "print(df_purchase.info())  # 컬럼 정보 및 데이터 타입 확인\n",
    "\n",
    "print(\"\\n=== 고객 만족도 설문 데이터 정보 ===\")\n",
    "print(df_survey.info())  # 컬럼 정보 및 데이터 타입 확인"
   ]
  },
  {
   "cell_type": "code",
   "execution_count": 4,
   "id": "1d124ec6",
   "metadata": {},
   "outputs": [
    {
     "name": "stdout",
     "output_type": "stream",
     "text": [
      "\n",
      "=== 구매 이력 데이터 샘플 ===\n",
      "   CustomerID  PurchaseHistory  TotalSpent\n",
      "0           1               21        1050\n",
      "1           2                5         100\n",
      "2           3               12         516\n",
      "3           4               13         585\n",
      "4           5               44        3696\n",
      "\n",
      "=== 고객 만족도 설문 데이터 샘플 ===\n",
      "   CustomerID  Satisfaction\n",
      "0           1             1\n",
      "1           2             1\n",
      "2           3            10\n",
      "3           4             4\n",
      "4           5             4\n"
     ]
    }
   ],
   "source": [
    "# 데이터의 상위 5개 행 출력\n",
    "print(\"\\n=== 구매 이력 데이터 샘플 ===\")\n",
    "print(df_purchase.head())\n",
    "\n",
    "print(\"\\n=== 고객 만족도 설문 데이터 샘플 ===\")\n",
    "print(df_survey.head())"
   ]
  },
  {
   "cell_type": "code",
   "execution_count": 5,
   "id": "58f3d1c4",
   "metadata": {},
   "outputs": [
    {
     "name": "stdout",
     "output_type": "stream",
     "text": [
      "\n",
      "=== 병합된 데이터 확인 ===\n",
      "   CustomerID  PurchaseHistory  TotalSpent  Satisfaction\n",
      "0           1               21        1050             1\n",
      "1           2                5         100             1\n",
      "2           3               12         516            10\n",
      "3           4               13         585             4\n",
      "4           5               44        3696             4\n"
     ]
    }
   ],
   "source": [
    "# ===================== 3. 데이터 병합 =====================\n",
    "# 두 데이터셋을 CustomerID를 기준으로 병합\n",
    "df_merged = pd.merge(df_purchase, df_survey, on=\"CustomerID\")\n",
    "\n",
    "# 병합된 데이터 확인\n",
    "print(\"\\n=== 병합된 데이터 확인 ===\")\n",
    "print(df_merged.head())"
   ]
  },
  {
   "cell_type": "code",
   "execution_count": 6,
   "id": "3eed570f",
   "metadata": {},
   "outputs": [
    {
     "name": "stdout",
     "output_type": "stream",
     "text": [
      "\n",
      "=== 결측치 개수 확인 ===\n",
      "CustomerID         0\n",
      "PurchaseHistory    0\n",
      "TotalSpent         0\n",
      "Satisfaction       0\n",
      "dtype: int64\n",
      "\n",
      "=== 결측치 처리 후 데이터 크기 ===\n",
      "(1000, 4)\n"
     ]
    }
   ],
   "source": [
    "# ===================== 4. 결측치 처리 =====================\n",
    "# 각 컬럼별 결측치 개수 확인\n",
    "print(\"\\n=== 결측치 개수 확인 ===\")\n",
    "print(df_merged.isna().sum())  # 결측치 개수 출력\n",
    "\n",
    "# 결측치가 없는 경우 그대로 사용, 결측치가 있다면 제거 또는 적절한 값으로 대체\n",
    "df_merged = df_merged.dropna()\n",
    "\n",
    "# 결측치 처리 후 데이터 확인\n",
    "print(\"\\n=== 결측치 처리 후 데이터 크기 ===\")\n",
    "print(df_merged.shape)  # 데이터 크기 확인"
   ]
  },
  {
   "cell_type": "code",
   "execution_count": 12,
   "id": "befc513f",
   "metadata": {},
   "outputs": [
    {
     "name": "stdout",
     "output_type": "stream",
     "text": [
      "\n",
      "=== 구매 횟수 기반 고객 세분화 결과 ===\n",
      "PurchaseCategory\n",
      "High      420\n",
      "Medium    380\n",
      "Low       200\n",
      "Name: count, dtype: int64\n"
     ]
    }
   ],
   "source": [
    "# ===================== 5. 고객 세분화 (구매 이력 기반) =====================\n",
    "# 구매 횟수(PurchaseHistory)를 기준으로 고객을 세 그룹으로 나누기\n",
    "# 구매 횟수가 10 이하: 'Low'\n",
    "# 구매 횟수가 11~30: 'Medium'\n",
    "# 구매 횟수가 31 이상: 'High'\n",
    "def categorize_purchase_history(purchase_count):\n",
    "    if purchase_count <= 10:\n",
    "        return 'Low'\n",
    "    elif purchase_count >= 11 and purchase_count <= 30:\n",
    "        return 'Medium'\n",
    "    else:\n",
    "        return 'High'\n",
    "\n",
    "df_merged[\"PurchaseCategory\"] = df_merged[\"PurchaseHistory\"].apply(categorize_purchase_history)\n",
    "\n",
    "# 고객 세분화 결과 확인\n",
    "print(\"\\n=== 구매 횟수 기반 고객 세분화 결과 ===\")\n",
    "print(df_merged[\"PurchaseCategory\"].value_counts())  # 각 그룹별 고객 수 확인"
   ]
  },
  {
   "cell_type": "code",
   "execution_count": null,
   "id": "6642d7c3",
   "metadata": {},
   "outputs": [
    {
     "data": {
      "text/html": [
       "<div>\n",
       "<style scoped>\n",
       "    .dataframe tbody tr th:only-of-type {\n",
       "        vertical-align: middle;\n",
       "    }\n",
       "\n",
       "    .dataframe tbody tr th {\n",
       "        vertical-align: top;\n",
       "    }\n",
       "\n",
       "    .dataframe thead th {\n",
       "        text-align: right;\n",
       "    }\n",
       "</style>\n",
       "<table border=\"1\" class=\"dataframe\">\n",
       "  <thead>\n",
       "    <tr style=\"text-align: right;\">\n",
       "      <th></th>\n",
       "      <th>CustomerID</th>\n",
       "      <th>PurchaseHistory</th>\n",
       "      <th>TotalSpent</th>\n",
       "      <th>Satisfaction</th>\n",
       "      <th>PurchaseCategory</th>\n",
       "    </tr>\n",
       "  </thead>\n",
       "  <tbody>\n",
       "    <tr>\n",
       "      <th>0</th>\n",
       "      <td>1</td>\n",
       "      <td>21</td>\n",
       "      <td>1050</td>\n",
       "      <td>1</td>\n",
       "      <td>Medium</td>\n",
       "    </tr>\n",
       "    <tr>\n",
       "      <th>1</th>\n",
       "      <td>2</td>\n",
       "      <td>5</td>\n",
       "      <td>100</td>\n",
       "      <td>1</td>\n",
       "      <td>Low</td>\n",
       "    </tr>\n",
       "    <tr>\n",
       "      <th>2</th>\n",
       "      <td>3</td>\n",
       "      <td>12</td>\n",
       "      <td>516</td>\n",
       "      <td>10</td>\n",
       "      <td>Medium</td>\n",
       "    </tr>\n",
       "    <tr>\n",
       "      <th>3</th>\n",
       "      <td>4</td>\n",
       "      <td>13</td>\n",
       "      <td>585</td>\n",
       "      <td>4</td>\n",
       "      <td>Medium</td>\n",
       "    </tr>\n",
       "    <tr>\n",
       "      <th>4</th>\n",
       "      <td>5</td>\n",
       "      <td>44</td>\n",
       "      <td>3696</td>\n",
       "      <td>4</td>\n",
       "      <td>High</td>\n",
       "    </tr>\n",
       "  </tbody>\n",
       "</table>\n",
       "</div>"
      ],
      "text/plain": [
       "   CustomerID  PurchaseHistory  TotalSpent  Satisfaction PurchaseCategory\n",
       "0           1               21        1050             1           Medium\n",
       "1           2                5         100             1              Low\n",
       "2           3               12         516            10           Medium\n",
       "3           4               13         585             4           Medium\n",
       "4           5               44        3696             4             High"
      ]
     },
     "execution_count": 10,
     "metadata": {},
     "output_type": "execute_result"
    }
   ],
   "source": [
    "# df_merged.head()"
   ]
  },
  {
   "cell_type": "code",
   "execution_count": 13,
   "id": "92a86a07",
   "metadata": {},
   "outputs": [
    {
     "name": "stdout",
     "output_type": "stream",
     "text": [
      "\n",
      "=== 고객 만족도 기반 세분화 결과 ===\n",
      "SatisfactionCategory\n",
      "Medium    381\n",
      "High      322\n",
      "Low       297\n",
      "Name: count, dtype: int64\n"
     ]
    }
   ],
   "source": [
    "# ===================== 6. 고객 만족도 기반 세분화 =====================\n",
    "# 만족도 점수(Satisfaction)를 기준으로 고객을 세 그룹으로 나누기\n",
    "# 만족도 1~3: 'Low'\n",
    "# 만족도 4~7: 'Medium'\n",
    "# 만족도 8~10: 'High'\n",
    "def categorize_satisfaction(satisfaction_score):\n",
    "    if satisfaction_score >= 1 and satisfaction_score <= 3:\n",
    "        return 'Low'\n",
    "    elif satisfaction_score >= 4 and satisfaction_score <= 7:\n",
    "        return 'Medium'\n",
    "    else:\n",
    "        return 'High'\n",
    "\n",
    "df_merged[\"SatisfactionCategory\"] = df_merged[\"Satisfaction\"].apply(categorize_satisfaction)\n",
    "\n",
    "# 고객 만족도 세분화 결과 확인\n",
    "print(\"\\n=== 고객 만족도 기반 세분화 결과 ===\")\n",
    "print(df_merged[\"SatisfactionCategory\"].value_counts())  # 각 그룹별 고객 수 확인"
   ]
  },
  {
   "cell_type": "code",
   "execution_count": 14,
   "id": "96c136be",
   "metadata": {},
   "outputs": [
    {
     "name": "stdout",
     "output_type": "stream",
     "text": [
      "\n",
      "=== 구매 카테고리별 평균 지출 금액 분석 ===\n",
      "  PurchaseCategory     AvgSpent\n",
      "0             High  2149.033333\n",
      "1              Low   286.700000\n",
      "2           Medium  1074.339474\n",
      "\n",
      "=== 만족도 카테고리별 평균 지출 금액 분석 ===\n",
      "   Satisfaction     AvgSpent\n",
      "0             1  1298.158879\n",
      "1             2  1485.696629\n",
      "2             3  1508.970297\n",
      "3             4  1161.585106\n",
      "4             5  1572.529412\n",
      "5             6  1311.604651\n",
      "6             7  1474.363636\n",
      "7             8  1343.401961\n",
      "8             9  1342.333333\n",
      "9            10  1191.009434\n"
     ]
    }
   ],
   "source": [
    "# ===================== 7. 각 그룹별 평균 구매 금액 분석 =====================\n",
    "# 구매 카테고리별 평균 총 지출 금액 분석\n",
    "df_purchase_analysis = df_merged.groupby(\"PurchaseCategory\")[\"TotalSpent\"].mean().reset_index()\n",
    "df_purchase_analysis.rename(columns={\"TotalSpent\": \"AvgSpent\"}, inplace=True)\n",
    "\n",
    "# 구매 카테고리별 평균 지출 금액 출력\n",
    "print(\"\\n=== 구매 카테고리별 평균 지출 금액 분석 ===\")\n",
    "print(df_purchase_analysis)\n",
    "\n",
    "# 만족도 카테고리별 평균 총 지출 금액 분석\n",
    "df_satisfaction_analysis = df_merged.groupby(\"Satisfaction\")[\"TotalSpent\"].mean().reset_index()\n",
    "df_satisfaction_analysis.rename(columns={\"TotalSpent\": \"AvgSpent\"}, inplace=True)\n",
    "\n",
    "# 만족도 카테고리별 평균 지출 금액 출력\n",
    "print(\"\\n=== 만족도 카테고리별 평균 지출 금액 분석 ===\")\n",
    "print(df_satisfaction_analysis)\n"
   ]
  },
  {
   "cell_type": "code",
   "execution_count": 15,
   "id": "04ad9e46",
   "metadata": {},
   "outputs": [
    {
     "name": "stdout",
     "output_type": "stream",
     "text": [
      "\n",
      "=== 구매 카테고리와 만족도 카테고리 간의 관계 분석 ===\n",
      "   PurchaseCategory  Satisfaction  CustomerCount\n",
      "0              High             1             45\n",
      "1              High             2             39\n",
      "2              High             3             46\n",
      "3              High             4             36\n",
      "4              High             5             48\n",
      "5              High             6             30\n",
      "6              High             7             44\n",
      "7              High             8             47\n",
      "8              High             9             45\n",
      "9              High            10             40\n",
      "10              Low             1             22\n",
      "11              Low             2             12\n",
      "12              Low             3             13\n",
      "13              Low             4             32\n",
      "14              Low             5             19\n",
      "15              Low             6             17\n",
      "16              Low             7             19\n",
      "17              Low             8             24\n",
      "18              Low             9             21\n",
      "19              Low            10             21\n",
      "20           Medium             1             40\n",
      "21           Medium             2             38\n",
      "22           Medium             3             42\n",
      "23           Medium             4             26\n",
      "24           Medium             5             35\n",
      "25           Medium             6             39\n",
      "26           Medium             7             36\n",
      "27           Medium             8             31\n",
      "28           Medium             9             48\n",
      "29           Medium            10             45\n"
     ]
    }
   ],
   "source": [
    "# ===================== 8. 구매 카테고리와 만족도 카테고리 간의 관계 분석 =====================\n",
    "# 구매 카테고리별 고객 만족도 분포 확인\n",
    "df_category_relation = df_merged.groupby([\"PurchaseCategory\", \"Satisfaction\"])[\"CustomerID\"].count().reset_index()\n",
    "df_category_relation.rename(columns={\"CustomerID\": \"CustomerCount\"}, inplace=True)\n",
    "\n",
    "# 관계 분석 결과 출력\n",
    "print(\"\\n=== 구매 카테고리와 만족도 카테고리 간의 관계 분석 ===\")\n",
    "print(df_category_relation)"
   ]
  },
  {
   "cell_type": "code",
   "execution_count": 16,
   "id": "a78c7446",
   "metadata": {},
   "outputs": [
    {
     "name": "stdout",
     "output_type": "stream",
     "text": [
      "\n",
      "=== 분석된 데이터 저장 완료 ===\n"
     ]
    }
   ],
   "source": [
    "# ===================== 9. 데이터 저장 =====================\n",
    "# 분석된 데이터를 CSV 파일로 저장\n",
    "df_merged.to_csv(\"../data/segmented_customer_data.csv\", index=False)\n",
    "df_purchase_analysis.to_csv(\"../data/purchase_category_analysis.csv\", index=False)\n",
    "df_satisfaction_analysis.to_csv(\"../data/satisfaction_category_analysis.csv\", index=False)\n",
    "df_category_relation.to_csv(\"../data/category_relation_analysis.csv\", index=False)\n",
    "\n",
    "print(\"\\n=== 분석된 데이터 저장 완료 ===\")\n"
   ]
  }
 ],
 "metadata": {
  "kernelspec": {
   "display_name": "Python 3",
   "language": "python",
   "name": "python3"
  },
  "language_info": {
   "codemirror_mode": {
    "name": "ipython",
    "version": 3
   },
   "file_extension": ".py",
   "mimetype": "text/x-python",
   "name": "python",
   "nbconvert_exporter": "python",
   "pygments_lexer": "ipython3",
   "version": "3.11.9"
  }
 },
 "nbformat": 4,
 "nbformat_minor": 5
}
