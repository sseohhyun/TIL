{
 "cells": [
  {
   "cell_type": "code",
   "execution_count": 1,
   "id": "62771dda",
   "metadata": {},
   "outputs": [],
   "source": [
    "# 필요한 라이브러리 불러오기\n",
    "import pandas as pd"
   ]
  },
  {
   "cell_type": "code",
   "execution_count": 2,
   "id": "4a8c620f",
   "metadata": {},
   "outputs": [],
   "source": [
    "# ===================== 1. 데이터 로드 =====================\n",
    "# 판매 데이터 파일 경로 설정\n",
    "sales_file_path = \"../data/sales_data.csv\"\n",
    "\n",
    "# CSV 파일을 데이터프레임으로 로드\n",
    "df_sales = pd.read_csv(sales_file_path)"
   ]
  },
  {
   "cell_type": "code",
   "execution_count": 3,
   "id": "b0e13d78",
   "metadata": {},
   "outputs": [
    {
     "name": "stdout",
     "output_type": "stream",
     "text": [
      "=== 판매 데이터 정보 ===\n",
      "<class 'pandas.core.frame.DataFrame'>\n",
      "RangeIndex: 1000 entries, 0 to 999\n",
      "Data columns (total 5 columns):\n",
      " #   Column    Non-Null Count  Dtype \n",
      "---  ------    --------------  ----- \n",
      " 0   Region    1000 non-null   object\n",
      " 1   Product   1000 non-null   object\n",
      " 2   Price     1000 non-null   int64 \n",
      " 3   Quantity  1000 non-null   int64 \n",
      " 4   Date      1000 non-null   object\n",
      "dtypes: int64(2), object(3)\n",
      "memory usage: 39.2+ KB\n"
     ]
    }
   ],
   "source": [
    "# ===================== 2. 데이터 확인 =====================\n",
    "# 데이터프레임 기본 정보 출력\n",
    "print(\"=== 판매 데이터 정보 ===\")\n",
    "df_sales.info()  # 컬럼 정보 및 데이터 타입 확인"
   ]
  },
  {
   "cell_type": "code",
   "execution_count": 4,
   "id": "bd79bd1e",
   "metadata": {},
   "outputs": [
    {
     "name": "stdout",
     "output_type": "stream",
     "text": [
      "\n",
      "=== 판매 데이터 샘플 ===\n"
     ]
    },
    {
     "data": {
      "text/html": [
       "<div>\n",
       "<style scoped>\n",
       "    .dataframe tbody tr th:only-of-type {\n",
       "        vertical-align: middle;\n",
       "    }\n",
       "\n",
       "    .dataframe tbody tr th {\n",
       "        vertical-align: top;\n",
       "    }\n",
       "\n",
       "    .dataframe thead th {\n",
       "        text-align: right;\n",
       "    }\n",
       "</style>\n",
       "<table border=\"1\" class=\"dataframe\">\n",
       "  <thead>\n",
       "    <tr style=\"text-align: right;\">\n",
       "      <th></th>\n",
       "      <th>Region</th>\n",
       "      <th>Product</th>\n",
       "      <th>Price</th>\n",
       "      <th>Quantity</th>\n",
       "      <th>Date</th>\n",
       "    </tr>\n",
       "  </thead>\n",
       "  <tbody>\n",
       "    <tr>\n",
       "      <th>0</th>\n",
       "      <td>East</td>\n",
       "      <td>Product B</td>\n",
       "      <td>56</td>\n",
       "      <td>13</td>\n",
       "      <td>2023-01-01</td>\n",
       "    </tr>\n",
       "    <tr>\n",
       "      <th>1</th>\n",
       "      <td>West</td>\n",
       "      <td>Product C</td>\n",
       "      <td>21</td>\n",
       "      <td>2</td>\n",
       "      <td>2023-01-02</td>\n",
       "    </tr>\n",
       "    <tr>\n",
       "      <th>2</th>\n",
       "      <td>North</td>\n",
       "      <td>Product A</td>\n",
       "      <td>71</td>\n",
       "      <td>8</td>\n",
       "      <td>2023-01-03</td>\n",
       "    </tr>\n",
       "    <tr>\n",
       "      <th>3</th>\n",
       "      <td>East</td>\n",
       "      <td>Product A</td>\n",
       "      <td>89</td>\n",
       "      <td>2</td>\n",
       "      <td>2023-01-04</td>\n",
       "    </tr>\n",
       "    <tr>\n",
       "      <th>4</th>\n",
       "      <td>East</td>\n",
       "      <td>Product A</td>\n",
       "      <td>97</td>\n",
       "      <td>4</td>\n",
       "      <td>2023-01-05</td>\n",
       "    </tr>\n",
       "  </tbody>\n",
       "</table>\n",
       "</div>"
      ],
      "text/plain": [
       "  Region    Product  Price  Quantity        Date\n",
       "0   East  Product B     56        13  2023-01-01\n",
       "1   West  Product C     21         2  2023-01-02\n",
       "2  North  Product A     71         8  2023-01-03\n",
       "3   East  Product A     89         2  2023-01-04\n",
       "4   East  Product A     97         4  2023-01-05"
      ]
     },
     "execution_count": 4,
     "metadata": {},
     "output_type": "execute_result"
    }
   ],
   "source": [
    "# 데이터의 상위 5개 행 출력\n",
    "print(\"\\n=== 판매 데이터 샘플 ===\")\n",
    "df_sales.head()"
   ]
  },
  {
   "cell_type": "code",
   "execution_count": 6,
   "id": "0788663e",
   "metadata": {},
   "outputs": [
    {
     "name": "stdout",
     "output_type": "stream",
     "text": [
      "\n",
      "=== 결측치 개수 확인 ===\n",
      "Region      0\n",
      "Product     0\n",
      "Price       0\n",
      "Quantity    0\n",
      "Date        0\n",
      "dtype: int64\n"
     ]
    }
   ],
   "source": [
    "# ===================== 3. 결측치 처리 =====================\n",
    "# 각 컬럼별 결측치 개수 확인\n",
    "print(\"\\n=== 결측치 개수 확인 ===\")\n",
    "print(df_sales.isna().sum())  # 각 컬럼의 결측치 개수 확인\n",
    "\n",
    "# 결측치가 있는 경우 제거 (현재 데이터에는 결측치 없음)\n",
    "df_sales = df_sales.dropna()"
   ]
  },
  {
   "cell_type": "code",
   "execution_count": 7,
   "id": "bc4892fe",
   "metadata": {},
   "outputs": [
    {
     "name": "stdout",
     "output_type": "stream",
     "text": [
      "\n",
      "=== 총 매출(TotalSales) 컬럼 추가 후 데이터 확인 ===\n",
      "  Region    Product  Price  Quantity        Date  TotalSales\n",
      "0   East  Product B     56        13  2023-01-01         728\n",
      "1   West  Product C     21         2  2023-01-02          42\n",
      "2  North  Product A     71         8  2023-01-03         568\n",
      "3   East  Product A     89         2  2023-01-04         178\n",
      "4   East  Product A     97         4  2023-01-05         388\n"
     ]
    }
   ],
   "source": [
    "# ===================== 4. 총 매출(Total Sales) 컬럼 생성 =====================\n",
    "# 총 매출(TotalSales) = 가격(Price) * 판매량(Quantity)\n",
    "df_sales[\"TotalSales\"] = df_sales[\"Price\"] * df_sales[\"Quantity\"]\n",
    "\n",
    "# 총 매출 컬럼이 추가된 데이터 확인\n",
    "print(\"\\n=== 총 매출(TotalSales) 컬럼 추가 후 데이터 확인 ===\")\n",
    "print(df_sales.head())"
   ]
  },
  {
   "cell_type": "code",
   "execution_count": 8,
   "id": "439b998f",
   "metadata": {},
   "outputs": [
    {
     "name": "stdout",
     "output_type": "stream",
     "text": [
      "\n",
      "=== 제품별 평균 가격과 평균 판매량 분석 ===\n",
      "     Product      Price   Quantity\n",
      "0  Product A  56.194757  10.179775\n",
      "1  Product B  52.509506  10.102662\n",
      "2  Product C  54.069498   9.756757\n",
      "3  Product D  52.042654   9.981043\n"
     ]
    }
   ],
   "source": [
    "# ===================== 5. 제품별 가격과 판매량 분석 =====================\n",
    "# 제품별 평균 가격 계산\n",
    "df_avg_price = df_sales.groupby(\"Product\")[\"Price\"].mean().reset_index()\n",
    "\n",
    "# 제품별 평균 판매량 계산\n",
    "df_avg_quantity = df_sales.groupby(\"Product\")[\"Quantity\"].mean().reset_index()\n",
    "\n",
    "# 제품별 평균 가격과 평균 판매량 데이터 병합\n",
    "df_product_analysis = pd.merge(df_avg_price, df_avg_quantity, on=\"Product\")\n",
    "\n",
    "# 제품별 평균 가격과 평균 판매량 출력\n",
    "print(\"\\n=== 제품별 평균 가격과 평균 판매량 분석 ===\")\n",
    "print(df_product_analysis)"
   ]
  },
  {
   "cell_type": "code",
   "execution_count": 9,
   "id": "e19bb2f6",
   "metadata": {},
   "outputs": [
    {
     "name": "stdout",
     "output_type": "stream",
     "text": [
      "\n",
      "=== 가격과 판매량 간의 상관관계 분석 ===\n",
      "             Price  Quantity\n",
      "Price     1.000000  0.018428\n",
      "Quantity  0.018428  1.000000\n"
     ]
    }
   ],
   "source": [
    "# ===================== 6. 가격과 판매량 간의 상관관계 계산 =====================\n",
    "# --------------------------------------------------------------\n",
    "# [상관관계란?]\n",
    "# - 두 변수 간의 관계가 얼마나 밀접한지를 나타내는 통계적 지표\n",
    "# - 상관계수(correlation coefficient)는 -1 ~ 1 사이의 값을 가짐\n",
    "# \n",
    "# \n",
    "# 상관계수 해석:\n",
    "#   -  1.0  : 완전한 양의 상관관계 (가격이 오르면 판매량도 반드시 오름)\n",
    "#   -  0.0  : 상관관계 없음 (가격과 판매량은 무관함)\n",
    "#   - -1.0 : 완전한 음의 상관관계 (가격이 오르면 판매량은 반드시 떨어짐)\n",
    "# \n",
    "# \n",
    "# 예시:\n",
    "#   - 상관계수 -0.85: 가격이 오를수록 판매량이 확실히 줄어드는 패턴\n",
    "#   - 상관계수 +0.60: 가격이 오르면 판매량도 어느 정도 함께 오르는 경향\n",
    "\n",
    "# 주의할 점:\n",
    "#   - 이 상관계수는 선형 관계(linear relationship)만 측정합니다.\n",
    "#   - 만약 두 변수 사이가 곡선(비선형) 관계라면, 상관계수가 0 근처라도 실제로는 관련이 있을 수 있습니다.\n",
    "#   - 따라서 상관계수만 보고 관계 유무를 단정하면 안 되고, 시각화(산점도) 등을 함께 보는 것이 좋습니다.\n",
    "# --------------------------------------------------------------\n",
    "\n",
    "\n",
    "# 전체 데이터에서 가격과 판매량 간의 상관계수 계산\n",
    "correlation = df_sales[[\"Price\", \"Quantity\"]].corr()\n",
    "\n",
    "# 상관계수 출력\n",
    "print(\"\\n=== 가격과 판매량 간의 상관관계 분석 ===\")\n",
    "print(correlation)"
   ]
  },
  {
   "cell_type": "code",
   "execution_count": 11,
   "id": "720d13a6",
   "metadata": {},
   "outputs": [
    {
     "name": "stdout",
     "output_type": "stream",
     "text": [
      "\n",
      "=== 제품별 가격과 판매량 간의 상관관계 분석 ===\n",
      "Product\n",
      "Product A   -0.012294\n",
      "Product B    0.034287\n",
      "Product C    0.022198\n",
      "Product D    0.032146\n",
      "Name: (Price, Quantity), dtype: float64\n"
     ]
    }
   ],
   "source": [
    "# ===================== 7. 제품별 상관관계 분석 =====================\n",
    "# 제품별 가격과 판매량의 상관계수 계산\n",
    "df_product_corr = df_sales.groupby(\"Product\")[[\"Price\", \"Quantity\"]].corr()\n",
    "\n",
    "# 데이터 변환 과정 설명:\n",
    "# 1. groupby(\"Product\")로 제품별 데이터를 그룹화한 후 Price와 Quantity 간의 상관관계를 계산함\n",
    "# 2. corr() 함수는 기본적으로 두 변수 간의 상관계수를 포함하는 **멀티 인덱스(multi-index) 형태**의 DataFrame을 반환함\n",
    "# 3. unstack()을 사용하면 멀티 인덱스 형태에서 **행을 확장(flatten)하여 단순한 형태의 데이터프레임으로 변환** 가능\n",
    "# 4. unstack() 후, 필요한 상관계수 값을 가져오기 위해 `iloc[:, 1]`을 사용하여 Price와 Quantity 간의 상관계수를 추출\n",
    "\n",
    "# print(df_product_corr)\n",
    "df_product_corr = df_product_corr.unstack().iloc[:, 1]  # Price와 Quantity 간의 상관계수만 추출\n",
    "\n",
    "# 제품별 가격과 판매량의 상관계수 출력\n",
    "print(\"\\n=== 제품별 가격과 판매량 간의 상관관계 분석 ===\")\n",
    "print(df_product_corr)"
   ]
  }
 ],
 "metadata": {
  "kernelspec": {
   "display_name": "Python 3",
   "language": "python",
   "name": "python3"
  },
  "language_info": {
   "codemirror_mode": {
    "name": "ipython",
    "version": 3
   },
   "file_extension": ".py",
   "mimetype": "text/x-python",
   "name": "python",
   "nbconvert_exporter": "python",
   "pygments_lexer": "ipython3",
   "version": "3.11.9"
  }
 },
 "nbformat": 4,
 "nbformat_minor": 5
}
