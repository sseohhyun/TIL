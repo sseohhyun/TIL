{
 "cells": [
  {
   "cell_type": "code",
   "execution_count": 2,
   "id": "2b8f5df8",
   "metadata": {},
   "outputs": [],
   "source": [
    "import pandas as pd\n",
    "\n",
    "# CSV 파일로부터 데이터 로드\n",
    "file_path = \"../data/group_data.csv\"\n",
    "data = pd.read_csv(file_path)"
   ]
  },
  {
   "cell_type": "code",
   "execution_count": 3,
   "id": "b65cd322",
   "metadata": {},
   "outputs": [
    {
     "name": "stdout",
     "output_type": "stream",
     "text": [
      "   category      value\n",
      "2         A  19.421759\n",
      "3         C  18.494482\n",
      "4         C  12.607390\n",
      "5         D  16.400779\n",
      "6         A  17.696806\n",
      "9         B  11.184799\n",
      "11        C  18.074589\n",
      "12        C  16.615390\n",
      "16        D  15.803912\n",
      "17        D  18.453938\n",
      "20        B  17.604129\n",
      "21        A  19.071705\n",
      "22        B  14.468325\n",
      "23        D  14.018967\n",
      "26        B  19.639949\n",
      "29        D  16.774401\n",
      "32        D  19.820870\n",
      "37        A  18.504963\n",
      "39        C  10.062155\n",
      "40        C  18.901641\n",
      "43        D  17.408649\n",
      "44        D  15.957532\n",
      "45        D  17.491215\n",
      "48        B  17.351199\n",
      "52        C  16.489735\n",
      "53        D  18.361689\n",
      "54        C  18.039459\n",
      "55        D  12.682425\n",
      "59        A  18.827064\n",
      "60        C  12.923146\n",
      "61        C  17.896773\n",
      "62        A  18.286427\n",
      "63        A  15.988614\n",
      "64        C  19.193571\n",
      "69        B  19.627770\n",
      "70        B  10.406144\n",
      "71        B  19.867431\n",
      "74        A  19.038195\n",
      "76        D  19.826441\n",
      "77        D  14.156610\n",
      "81        D  15.453063\n",
      "83        D  12.990745\n",
      "86        B  15.047318\n",
      "87        A  17.168511\n",
      "89        B  17.482622\n",
      "90        D  12.246683\n",
      "92        B  14.688481\n",
      "94        B  15.402879\n",
      "96        B  16.083734\n",
      "97        D  18.389692\n",
      "99        A  13.845678\n"
     ]
    }
   ],
   "source": [
    "# 'value' 값이 10 이상이고 20 이하인 행만 필터링\n",
    "filtered_data = data.loc[(data[\"value\"] >= 10) & (data[\"value\"] <= 20)]\n",
    "print(filtered_data) # 필터링된 결과 출력"
   ]
  },
  {
   "cell_type": "code",
   "execution_count": 5,
   "id": "4f7c096b",
   "metadata": {},
   "outputs": [
    {
     "data": {
      "text/html": [
       "<div>\n",
       "<style scoped>\n",
       "    .dataframe tbody tr th:only-of-type {\n",
       "        vertical-align: middle;\n",
       "    }\n",
       "\n",
       "    .dataframe tbody tr th {\n",
       "        vertical-align: top;\n",
       "    }\n",
       "\n",
       "    .dataframe thead th {\n",
       "        text-align: right;\n",
       "    }\n",
       "</style>\n",
       "<table border=\"1\" class=\"dataframe\">\n",
       "  <thead>\n",
       "    <tr style=\"text-align: right;\">\n",
       "      <th></th>\n",
       "      <th>value</th>\n",
       "    </tr>\n",
       "  </thead>\n",
       "  <tbody>\n",
       "    <tr>\n",
       "      <th>count</th>\n",
       "      <td>100.000000</td>\n",
       "    </tr>\n",
       "    <tr>\n",
       "      <th>mean</th>\n",
       "      <td>19.849073</td>\n",
       "    </tr>\n",
       "    <tr>\n",
       "      <th>std</th>\n",
       "      <td>4.693357</td>\n",
       "    </tr>\n",
       "    <tr>\n",
       "      <th>min</th>\n",
       "      <td>6.901274</td>\n",
       "    </tr>\n",
       "    <tr>\n",
       "      <th>25%</th>\n",
       "      <td>17.069984</td>\n",
       "    </tr>\n",
       "    <tr>\n",
       "      <th>50%</th>\n",
       "      <td>19.823655</td>\n",
       "    </tr>\n",
       "    <tr>\n",
       "      <th>75%</th>\n",
       "      <td>22.658324</td>\n",
       "    </tr>\n",
       "    <tr>\n",
       "      <th>max</th>\n",
       "      <td>32.316211</td>\n",
       "    </tr>\n",
       "  </tbody>\n",
       "</table>\n",
       "</div>"
      ],
      "text/plain": [
       "            value\n",
       "count  100.000000\n",
       "mean    19.849073\n",
       "std      4.693357\n",
       "min      6.901274\n",
       "25%     17.069984\n",
       "50%     19.823655\n",
       "75%     22.658324\n",
       "max     32.316211"
      ]
     },
     "execution_count": 5,
     "metadata": {},
     "output_type": "execute_result"
    }
   ],
   "source": [
    "data.describe()"
   ]
  },
  {
   "cell_type": "code",
   "execution_count": 4,
   "id": "41812b24",
   "metadata": {},
   "outputs": [
    {
     "name": "stdout",
     "output_type": "stream",
     "text": [
      "category\n",
      "A    20.567525\n",
      "B    20.007946\n",
      "C    20.073391\n",
      "D    19.052961\n",
      "Name: value, dtype: float64\n"
     ]
    }
   ],
   "source": [
    "# 'category' 열을 기준으로 그룹화하여, 각 그룹의 'value' 평균 계산\n",
    "grouped_mean = data.groupby(by=\"category\")['value'].mean()\n",
    "print(grouped_mean)  # 그룹별 평균값 출력"
   ]
  },
  {
   "cell_type": "code",
   "execution_count": 12,
   "id": "34f9df43",
   "metadata": {},
   "outputs": [
    {
     "name": "stdout",
     "output_type": "stream",
     "text": [
      "category\n",
      "A    20.567525\n",
      "C    20.073391\n",
      "B    20.007946\n",
      "D    19.052961\n",
      "Name: value, dtype: float64\n"
     ]
    }
   ],
   "source": [
    "# 평균값을 기준으로 내림차순 정렬\n",
    "sorted_grouped_mean = grouped_mean.sort_values(ascending=False)\n",
    "print(sorted_grouped_mean)  # 정렬된 평균값 출력"
   ]
  }
 ],
 "metadata": {
  "kernelspec": {
   "display_name": "Python 3",
   "language": "python",
   "name": "python3"
  },
  "language_info": {
   "codemirror_mode": {
    "name": "ipython",
    "version": 3
   },
   "file_extension": ".py",
   "mimetype": "text/x-python",
   "name": "python",
   "nbconvert_exporter": "python",
   "pygments_lexer": "ipython3",
   "version": "3.11.9"
  }
 },
 "nbformat": 4,
 "nbformat_minor": 5
}
