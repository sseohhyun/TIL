{
 "cells": [
  {
   "cell_type": "code",
   "execution_count": null,
   "metadata": {},
   "outputs": [],
   "source": [
    "from selenium import webdriver\n",
    "from selenium.webdriver.common.by import By\n",
    "from selenium.webdriver.support.ui import WebDriverWait\n",
    "from selenium.webdriver.support import expected_conditions as EC\n",
    "from selenium.common.exceptions import TimeoutException, NoSuchElementException, WebDriverException"
   ]
  },
  {
   "cell_type": "code",
   "execution_count": null,
   "metadata": {},
   "outputs": [],
   "source": [
    "# 1. 웹 드라이버 설정 및 브라우저 열기\n",
    "def setup_driver():\n",
    "    options = webdriver.ChromeOptions()\n",
    "    # options.add_argument(\"--headless\")  # 실제 실행할 때는 주석 처리하여 브라우저가 열리도록 설정\n",
    "    options.add_argument(\"--no-sandbox\")\n",
    "    options.add_argument(\"--disable-dev-shm-usage\")\n",
    "    driver = webdriver.Chrome(options=options)  # Chrome() 메소드를 사용하여 웹 드라이버를 설정합니다.\n",
    "    return driver"
   ]
  },
  {
   "cell_type": "code",
   "execution_count": null,
   "metadata": {},
   "outputs": [],
   "source": [
    "# 2. 페이지 접속 및 로딩 대기\n",
    "def navigate_to_page(driver):\n",
    "    print(\"\\n문제 1. 페이지 접속 및 로드\")\n",
    "    try:\n",
    "        driver.get(\"https://topis.seoul.go.kr\")  # 지정된 URL로 이동합니다.\n",
    "        print(\"답: 페이지에 접속했습니다.\")\n",
    "        WebDriverWait(driver, 20).until(  # 20초 동안 요소가 로드될 때까지 대기합니다.\n",
    "            EC.presence_of_element_located((By.ID, \"contents-area\"))  # contents-area 요소의 존재 여부를 확인합니다.\n",
    "        )\n",
    "        print(\"답: 페이지가 로드되었습니다.\")\n",
    "    except TimeoutException:\n",
    "        print(\"답: 페이지 로딩 시간 초과\")\n",
    "        driver.quit()\n",
    "    except WebDriverException as e:\n",
    "        print(f\"답: 웹 드라이버 예외 발생: {e}\")\n",
    "        driver.quit()"
   ]
  },
  {
   "cell_type": "code",
   "execution_count": null,
   "metadata": {},
   "outputs": [],
   "source": [
    "\n",
    "# 3. 검색어 입력 및 검색 버튼 클릭\n",
    "def search_keyword(driver, keyword):\n",
    "    print(\"\\n문제 2. 검색 기능 사용\")\n",
    "    try:\n",
    "        contents_area = driver.find_element(By.ID, \"contents-area\")  # contents-area 요소를 찾습니다.\n",
    "        search_box = contents_area.find_element(By.CSS_SELECTOR, \"input.int-search\")  # 검색 창 요소를 찾습니다.\n",
    "        search_box.send_keys(keyword)  # '관악구' 키워드를 입력합니다.\n",
    "        print(f\"답: '{keyword}' 키워드를 입력했습니다.\")\n",
    "\n",
    "        search_button = contents_area.find_element(By.CSS_SELECTOR, \"input.int-btn\")  # 검색 버튼 요소를 찾습니다.\n",
    "        search_button.click()  # 검색 버튼을 클릭합니다.\n",
    "        print(\"답: 검색 버튼을 클릭했습니다.\")\n",
    "\n",
    "        WebDriverWait(driver, 20).until(  # 20초 동안 검색 결과가 로드될 때까지 대기합니다.\n",
    "            EC.presence_of_element_located((By.CLASS_NAME, \"asideContent\"))  # asideContent 요소의 존재 여부를 확인합니다.\n",
    "        )\n",
    "        print(\"답: 검색 결과를 찾았습니다.\")\n",
    "    except TimeoutException:\n",
    "        print(\"답: 검색 결과 로딩 시간 초과\")\n",
    "    except NoSuchElementException:\n",
    "        print(\"답: 검색 요소를 찾을 수 없습니다.\")\n",
    "    except Exception as e:\n",
    "        print(f\"답: 검색 중 오류 발생: {e}\")"
   ]
  },
  {
   "cell_type": "code",
   "execution_count": 12,
   "metadata": {},
   "outputs": [],
   "source": [
    "# 4. 검색 결과 크롤링\n",
    "def scrape_results(driver):\n",
    "    print(\"\\n문제 3. 검색 결과 크롤링\")\n",
    "    try:\n",
    "        aside_content = driver.find_element(By.CLASS_NAME, \"asideContent\")  # asideContent 요소를 찾습니다.\n",
    "        result_sections = {\n",
    "            \"도로\": \"resultListTraffic\",\n",
    "            \"버스\": \"resultListBus\",\n",
    "            \"정류소\": \"resultListBusStn\",\n",
    "            \"따릉이\": \"resultListBic\",\n",
    "            \"주차장\": \"resultListPark\"\n",
    "        }\n",
    "\n",
    "        # 각 섹션의 검색 결과를 크롤링하여 출력\n",
    "        for section_name, result_id in result_sections.items():\n",
    "            try:\n",
    "                print(f\"\\n{section_name} 검색 결과:\")\n",
    "                results = aside_content.find_element(By.ID, result_id).find_elements(By.TAG_NAME, \"li\")  # 각 li 태그 요소를 찾습니다.\n",
    "                if results:\n",
    "                    for result in results:\n",
    "                        print(f\"답: {result.text.strip()}\")  # 검색 결과 텍스트를 출력합니다.\n",
    "                else:\n",
    "                    print(f\"답: {section_name}에서 검색된 내역이 없습니다.\")\n",
    "            except NoSuchElementException:\n",
    "                print(f\"답: {section_name} 검색 결과가 없습니다.\")\n",
    "    except Exception as e:\n",
    "        print(f\"답: 결과 크롤링 중 오류 발생: {e}\")"
   ]
  },
  {
   "cell_type": "code",
   "execution_count": 13,
   "metadata": {},
   "outputs": [
    {
     "name": "stdout",
     "output_type": "stream",
     "text": [
      "\n",
      "문제 1. 페이지 접속 및 로드\n",
      "답: 페이지에 접속했습니다.\n",
      "답: 페이지가 로드되었습니다.\n",
      "\n",
      "문제 2. 검색 기능 사용\n",
      "답: '관악구' 키워드를 입력했습니다.\n",
      "답: 검색 버튼을 클릭했습니다.\n",
      "답: 검색 결과를 찾았습니다.\n",
      "\n",
      "문제 3. 검색 결과 크롤링\n",
      "\n",
      "도로 검색 결과:\n",
      "답: 검색된 내역이 없습니다.\n",
      "\n",
      "버스 검색 결과:\n",
      "답: 검색된 내역이 없습니다.\n",
      "\n",
      "정류소 검색 결과:\n",
      "답: 관악구보훈회관.신림푸르지오 (21112)\n",
      "답: 관악구보훈회관.신림푸르지오 (18198)\n",
      "답: 관악구청 (21130)\n",
      "답: 관악구청 (21185)\n",
      "답: 관악구청 (21139)\n",
      "\n",
      "따릉이 검색 결과:\n",
      "답: 2115. 관악구시설관리공단\n",
      "답: 2128. 관악구청교차로\n",
      "답: 3802. 관악구민체육센터\n",
      "\n",
      "주차장 검색 결과:\n",
      "답: 관악구청 주차장\n",
      "건물정보\n",
      "운영방식 시간제 + 거주자\n",
      "용도구분 공공부설\n",
      "주소 관악구 봉천동 1570-1\n"
     ]
    }
   ],
   "source": [
    "# 5. 메인 함수 실행\n",
    "def main():\n",
    "    driver = setup_driver()\n",
    "    navigate_to_page(driver)\n",
    "    search_keyword(driver, \"관악구\")  # 검색어를 원하는 대로 수정하세요\n",
    "    scrape_results(driver)\n",
    "    driver.quit()  # 브라우저를 종료합니다.\n",
    "\n",
    "if __name__ == \"__main__\":\n",
    "    main()"
   ]
  }
 ],
 "metadata": {
  "kernelspec": {
   "display_name": "Python 3",
   "language": "python",
   "name": "python3"
  },
  "language_info": {
   "codemirror_mode": {
    "name": "ipython",
    "version": 3
   },
   "file_extension": ".py",
   "mimetype": "text/x-python",
   "name": "python",
   "nbconvert_exporter": "python",
   "pygments_lexer": "ipython3",
   "version": "3.11.9"
  }
 },
 "nbformat": 4,
 "nbformat_minor": 5
}
