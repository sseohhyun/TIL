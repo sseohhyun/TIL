{
 "cells": [
  {
   "cell_type": "code",
   "execution_count": 25,
   "id": "050985a7",
   "metadata": {},
   "outputs": [],
   "source": [
    "import pandas as pd\n",
    "from selenium import webdriver\n",
    "from selenium.webdriver.common.by import By\n",
    "from selenium.webdriver.support.ui import WebDriverWait\n",
    "from selenium.webdriver.support import expected_conditions as EC"
   ]
  },
  {
   "cell_type": "code",
   "execution_count": 26,
   "id": "21ccfb25",
   "metadata": {},
   "outputs": [
    {
     "data": {
      "text/plain": [
       "'\\n[6516:8508:0315/183431.273:ERROR:direct_composition_support.cc(1122)] QueryInterface to IDCompositionDevice4 failed: 해당 인터페이스를 지원하지 않습니다. (0x80004002)\\n'"
      ]
     },
     "execution_count": 26,
     "metadata": {},
     "output_type": "execute_result"
    }
   ],
   "source": [
    "# 그래픽 렌더링과 관련된 경고메시지가 뜰 수 있음 -> 문제없음\n",
    "\"\"\"\n",
    "[6516:8508:0315/183431.273:ERROR:direct_composition_support.cc(1122)] QueryInterface to IDCompositionDevice4 failed: 해당 인터페이스를 지원하지 않습니다. (0x80004002)\n",
    "\"\"\""
   ]
  },
  {
   "cell_type": "code",
   "execution_count": 27,
   "id": "4a5c1795",
   "metadata": {},
   "outputs": [],
   "source": [
    "def setup_driver():\n",
    "    # 1. Chrome WebDriver 설정 및 실행\n",
    "    options = webdriver.ChromeOptions()\n",
    "    options.add_argument(\"--no-sandbox\")  # 보안 샌드박스 비활성화\n",
    "    options.add_argument(\"--disable-dev-shm-usage\")  # 공유 메모리 사용 비활성화\n",
    "    driver = webdriver.Chrome(options=options)  # Chrome WebDriver를 실행합니다.\n",
    "    return driver"
   ]
  },
  {
   "cell_type": "code",
   "execution_count": 28,
   "id": "3a3b43c0",
   "metadata": {},
   "outputs": [],
   "source": [
    "def navigate_to_page(driver):\n",
    "    # 2. 지정된 URL로 이동하고 페이지 로드 대기\n",
    "    driver.get(\"https://topis.seoul.go.kr\")  # URL을 지정하여 페이지를 엽니다.\n",
    "    WebDriverWait(driver, 20).until(\n",
    "        EC.presence_of_element_located((By.ID, \"contents-area\"))  # 페이지의 특정 요소가 로드될 때까지 대기\n",
    "    )"
   ]
  },
  {
   "cell_type": "code",
   "execution_count": 29,
   "id": "a0068569",
   "metadata": {},
   "outputs": [],
   "source": [
    "def search_keyword(driver, keyword):\n",
    "    # 3. 검색창에 키워드를 입력하고 검색 버튼 클릭\n",
    "    contents_area = driver.find_element(By.ID, \"contents-area\")  # 검색 영역을 찾습니다.\n",
    "    search_box = contents_area.find_element(By.CSS_SELECTOR, \"input.int-search\")  # 검색창 찾기\n",
    "    search_box.send_keys(keyword)  # 검색어를 입력합니다.\n",
    "    search_button = contents_area.find_element(By.CSS_SELECTOR, \"input.int-btn\")  # 검색 버튼 찾기\n",
    "    search_button.click()  # 검색 버튼을 클릭합니다.\n",
    "    WebDriverWait(driver, 20).until(\n",
    "        EC.presence_of_element_located((By.CLASS_NAME, \"asideContent\"))  # 결과가 로드될 때까지 대기\n",
    "    )"
   ]
  },
  {
   "cell_type": "code",
   "execution_count": 30,
   "id": "05d6b1f4",
   "metadata": {},
   "outputs": [],
   "source": [
    "def scrape_results(driver):\n",
    "    # 4. 검색 결과에서 데이터 추출\n",
    "    aside_content = driver.find_element(By.CLASS_NAME, \"asideContent\")  # 결과 영역 찾기\n",
    "    result_sections = {\n",
    "        \"도로\": \"resultListTraffic\",\n",
    "        \"버스\": \"resultListBus\",\n",
    "        \"정류소\": \"resultListBusStn\",\n",
    "        \"따릉이\": \"resultListBic\",\n",
    "        \"주차장\": \"resultListPark\"\n",
    "    }\n",
    "    data = {section: [] for section in result_sections.keys()}\n",
    "    for section_name, result_id in result_sections.items():\n",
    "        results = aside_content.find_element(By.ID, result_id).find_elements(By.TAG_NAME, \"li\")  # 리스트 항목 찾기\n",
    "        for result in results:\n",
    "            item_text = result.text.strip().replace(\"\\n\", \" | \")  # 줄바꿈을 제거하고 구분자를 추가\n",
    "            data[section_name].append(item_text)\n",
    "    return data"
   ]
  },
  {
   "cell_type": "code",
   "execution_count": 31,
   "id": "de177083",
   "metadata": {},
   "outputs": [],
   "source": [
    "def save_data_to_csv(data):\n",
    "    # 5. 데이터를 DataFrame으로 변환하여 CSV 파일로 저장\n",
    "    all_data = [(category, item) for category, items in data.items() for item in items if item != \"검색된 내역이 없습니다.\"]  # 유효한 데이터를 수집\n",
    "    df = pd.DataFrame(all_data, columns=[\"Category\", \"Item\"])  # DataFrame 생성\n",
    "    df.to_csv(\"seoul_location_data.csv\", index=False)  # CSV 파일로 저장\n",
    "    print(\"1. 데이터가 seoul_location_data.csv 파일로 저장되었습니다.\")"
   ]
  },
  {
   "cell_type": "code",
   "execution_count": 32,
   "id": "46a9e7db",
   "metadata": {},
   "outputs": [],
   "source": [
    "def load_data_from_csv():\n",
    "    # 6. CSV 파일을 DataFrame으로 불러오기\n",
    "    df = pd.read_csv(\"seoul_location_data.csv\")  # CSV 파일 읽기\n",
    "    print(\"\\n2. 불러온 DataFrame:\")\n",
    "    print(df.head())  # DataFrame의 처음 5개 행 출력\n",
    "    return df"
   ]
  },
  {
   "cell_type": "code",
   "execution_count": 33,
   "id": "59434762",
   "metadata": {},
   "outputs": [],
   "source": [
    "def analyze_data(df):\n",
    "    # 7. 각 카테고리별 데이터 개수 계산\n",
    "    counts = df[\"Category\"].value_counts()  # 카테고리별 개수 계산\n",
    "    print(\"\\n3. 각 카테고리별 데이터 개수:\")\n",
    "    print(counts)\n",
    "\n",
    "    # 8. 가장 많은 데이터와 적은 데이터를 가진 카테고리 찾기\n",
    "    max_category = counts.idxmax()  # 가장 많은 데이터가 있는 카테고리 찾기\n",
    "    min_category = counts.idxmin()  # 가장 적은 데이터가 있는 카테고리 찾기\n",
    "    print(f\"\\n4. 가장 많은 데이터가 있는 카테고리: {max_category} ({counts[max_category]}개)\")\n",
    "    print(f\"   가장 적은 데이터가 있는 카테고리: {min_category} ({counts[min_category]}개)\")\n",
    "\n",
    "    # 9. 가장 긴 항목과 짧은 항목 이름 찾기\n",
    "    df[\"Item\"] = df[\"Item\"].str.replace(\"\\n\", \" \")  # 줄바꿈을 제거하여 깔끔하게 저장\n",
    "    longest_name = max(df[\"Item\"], key=len)  # 가장 긴 항목 이름 찾기\n",
    "    shortest_name = min(df[\"Item\"], key=len)  # 가장 짧은 항목 이름 찾기\n",
    "    print(f\"\\n5. 가장 긴 이름: {longest_name} ({len(longest_name)}글자)\")\n",
    "    print(f\"   가장 짧은 이름: {shortest_name} ({len(shortest_name)}글자)\")"
   ]
  },
  {
   "cell_type": "code",
   "execution_count": 34,
   "id": "2715666f",
   "metadata": {},
   "outputs": [
    {
     "name": "stdout",
     "output_type": "stream",
     "text": [
      "1. 데이터가 seoul_location_data.csv 파일로 저장되었습니다.\n",
      "\n",
      "2. 불러온 DataFrame:\n",
      "  Category                    Item\n",
      "0      정류소  관악구보훈회관.신림푸르지오 (21112)\n",
      "1      정류소  관악구보훈회관.신림푸르지오 (18198)\n",
      "2      정류소            관악구청 (21130)\n",
      "3      정류소            관악구청 (21185)\n",
      "4      정류소            관악구청 (21139)\n",
      "\n",
      "3. 각 카테고리별 데이터 개수:\n",
      "Category\n",
      "정류소    5\n",
      "따릉이    3\n",
      "주차장    1\n",
      "Name: count, dtype: int64\n",
      "\n",
      "4. 가장 많은 데이터가 있는 카테고리: 정류소 (5개)\n",
      "   가장 적은 데이터가 있는 카테고리: 주차장 (1개)\n",
      "\n",
      "5. 가장 긴 이름: 관악구청 주차장 | 건물정보 | 운영방식 시간제 + 거주자 | 용도구분 공공부설 | 주소 관악구 봉천동 1570-1 (64글자)\n",
      "   가장 짧은 이름: 관악구청 (21130) (12글자)\n"
     ]
    }
   ],
   "source": [
    "def main():\n",
    "    driver = setup_driver()\n",
    "    navigate_to_page(driver)\n",
    "    search_keyword(driver, \"관악구\")  # 검색어를 사용하여 데이터 수집\n",
    "    data = scrape_results(driver)\n",
    "    driver.quit()  # 브라우저 종료\n",
    "\n",
    "    save_data_to_csv(data)  # 수집된 데이터를 CSV 파일로 저장\n",
    "    df = load_data_from_csv()  # 저장된 데이터를 불러오기\n",
    "    analyze_data(df)  # 데이터 분석 수행\n",
    "\n",
    "if __name__ == \"__main__\":\n",
    "    main()"
   ]
  }
 ],
 "metadata": {
  "kernelspec": {
   "display_name": "Python 3",
   "language": "python",
   "name": "python3"
  },
  "language_info": {
   "codemirror_mode": {
    "name": "ipython",
    "version": 3
   },
   "file_extension": ".py",
   "mimetype": "text/x-python",
   "name": "python",
   "nbconvert_exporter": "python",
   "pygments_lexer": "ipython3",
   "version": "3.11.9"
  }
 },
 "nbformat": 4,
 "nbformat_minor": 5
}
