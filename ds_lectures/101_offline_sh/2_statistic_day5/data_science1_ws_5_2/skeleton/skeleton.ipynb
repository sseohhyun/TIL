{
 "cells": [
  {
   "cell_type": "code",
   "execution_count": 2,
   "id": "d11f6ce6",
   "metadata": {},
   "outputs": [],
   "source": [
    "import requests\n",
    "from bs4 import BeautifulSoup\n",
    "import urllib3"
   ]
  },
  {
   "cell_type": "code",
   "execution_count": 3,
   "id": "bb15debb",
   "metadata": {},
   "outputs": [],
   "source": [
    "# SSL 경고 비활성화\n",
    "urllib3.disable_warnings(urllib3.exceptions.InsecureRequestWarning)"
   ]
  },
  {
   "cell_type": "code",
   "execution_count": 4,
   "id": "412ba40f",
   "metadata": {},
   "outputs": [
    {
     "name": "stdout",
     "output_type": "stream",
     "text": [
      "문제 1. 웹페이지 가져오기\n",
      "답: 상태 코드: 200\n",
      "설명: 상태 코드 200은 웹페이지가 성공적으로 로드되었음을 의미합니다.\n"
     ]
    }
   ],
   "source": [
    "# 1. 웹페이지 가져오기\n",
    "url = \"https://topis.seoul.go.kr/map/openBusMap.do\"\n",
    "response = requests.get(url, verify=False)  # get 메소드 사용 및 SSL 인증서 검증 비활성화\n",
    "print(\"문제 1. 웹페이지 가져오기\")\n",
    "print(\"답: 상태 코드:\", response.status_code)  # status_code 속성을 사용하여 상태 코드를 출력합니다.\n",
    "print(\"설명: 상태 코드 200은 웹페이지가 성공적으로 로드되었음을 의미합니다.\")"
   ]
  },
  {
   "cell_type": "code",
   "execution_count": 6,
   "id": "f1c89829",
   "metadata": {},
   "outputs": [
    {
     "name": "stdout",
     "output_type": "stream",
     "text": [
      "\n",
      "문제 2. <table> 태그 개수 세기\n",
      "답: 테이블 개수: 2\n",
      "설명: find_all() 메소드를 사용하여 모든 <table> 태그를 찾고, 그 개수를 계산했습니다.\n"
     ]
    }
   ],
   "source": [
    "# 2. <table> 태그 개수 세기\n",
    "soup = BeautifulSoup(response.text, 'html.parser')  # HTML 파서를 지정합니다.\n",
    "tables = soup.select('table')  # 모든 <table> 태그를 찾습니다.\n",
    "print(\"\\n문제 2. <table> 태그 개수 세기\")\n",
    "print(\"답: 테이블 개수:\", len(tables))  # tables의 길이를 출력합니다.\n",
    "print(\"설명: find_all() 메소드를 사용하여 모든 <table> 태그를 찾고, 그 개수를 계산했습니다.\")"
   ]
  },
  {
   "cell_type": "code",
   "execution_count": 12,
   "id": "580ad9ef",
   "metadata": {},
   "outputs": [
    {
     "name": "stdout",
     "output_type": "stream",
     "text": [
      "\n",
      "문제 3. 첫 번째 <table>의 각 행 출력\n",
      "답: 첫 번째 테이블의 행:\n",
      "  - (km/h)\n",
      "원활\n",
      "서행\n",
      "정체\n",
      "정보없음\n",
      "  - 일반도로\n",
      "25이상\n",
      "15~25\n",
      "15미만\n",
      "-\n",
      "  - 도시고속\n",
      "50이상\n",
      "30~50\n",
      "30미만\n",
      "-\n",
      "설명: 첫 번째 <table>에서 모든 <tr> 태그를 찾고, 각 행의 텍스트를 공백을 제거하여 출력했습니다.\n"
     ]
    }
   ],
   "source": [
    "# 3. 첫 번째 <table>의 각 행 출력\n",
    "print(\"\\n문제 3. 첫 번째 <table>의 각 행 출력\")\n",
    "if tables:\n",
    "    first_table = tables[1]  # 첫 번째 테이블을 선택합니다.\n",
    "    rows = first_table.select('tr')  # 모든 <tr> 태그를 찾습니다.\n",
    "    print(\"답: 첫 번째 테이블의 행:\")\n",
    "    for row in rows:\n",
    "        print(\"  -\", row.text.strip())  # 각 행의 텍스트를 공백을 제거하여 출력합니다.\n",
    "    print(\"설명: 첫 번째 <table>에서 모든 <tr> 태그를 찾고, 각 행의 텍스트를 공백을 제거하여 출력했습니다.\")\n",
    "else:\n",
    "    print(\"답: 테이블이 존재하지 않습니다.\")\n",
    "    print(\"설명: 테이블을 찾지 못했기 때문에 출력할 행이 없습니다.\")"
   ]
  },
  {
   "cell_type": "code",
   "execution_count": 13,
   "id": "13ec682b",
   "metadata": {},
   "outputs": [
    {
     "name": "stdout",
     "output_type": "stream",
     "text": [
      "\n",
      "문제 4. 모든 <td> 태그 내용 추출\n",
      "답: <td> 태그 내용:\n",
      "  - 일반도로\n",
      "  - 25이상\n",
      "  - 15~25\n",
      "  - 15미만\n",
      "  - -\n",
      "  - 도시고속\n",
      "  - 50이상\n",
      "  - 30~50\n",
      "  - 30미만\n",
      "  - -\n",
      "설명: <table> 내의 모든 <td> 태그에서 내용을 추출하고 공백을 제거했습니다.\n"
     ]
    }
   ],
   "source": [
    "# 4. 모든 <td> 태그 내용 추출\n",
    "# 모든 <td> 태그의 내용을 추출하고 공백을 제거합니다.\n",
    "td_contents = [td.get_text().strip() for td in first_table.select('td') if td.get_text().strip()]  \n",
    "print(\"\\n문제 4. 모든 <td> 태그 내용 추출\")\n",
    "print(\"답: <td> 태그 내용:\")\n",
    "for content in td_contents:\n",
    "    print(\"  -\", content)\n",
    "print(\"설명: <table> 내의 모든 <td> 태그에서 내용을 추출하고 공백을 제거했습니다.\")"
   ]
  },
  {
   "cell_type": "code",
   "execution_count": 15,
   "id": "7c8151cd",
   "metadata": {},
   "outputs": [
    {
     "name": "stdout",
     "output_type": "stream",
     "text": [
      "\n",
      "문제 5. 데이터 정제 및 구분\n",
      "답: 정제된 데이터:\n",
      "일반도로 기준:\n",
      "  - 원활: 25이상\n",
      "  - 서행: 15~25\n",
      "  - 정체: 15미만\n",
      "  - 정보없음: -\n",
      "도시고속 기준:\n",
      "  - 원활: 50이상\n",
      "  - 서행: 30~50\n",
      "  - 정체: 30미만\n",
      "  - 정보없음: -\n",
      "설명: 추출된 데이터를 일반도로와 도시고속 기준으로 구분하고, 각 속도 범위의 의미를 추가하여 출력했습니다.\n"
     ]
    }
   ],
   "source": [
    "# 5. 데이터 정제 및 구분\n",
    "print(\"\\n문제 5. 데이터 정제 및 구분\")\n",
    "if td_contents:\n",
    "    general_road = td_contents[1:5]  # 일반도로 기준 (마지막 '-' 포함)\n",
    "    city_highway = td_contents[6:10]  # 도시고속 기준 (5번 인덱스의 \"도시고속\" 제외)\n",
    "\n",
    "    road_types = [\"일반도로\", \"도시고속\"]\n",
    "    speed_meanings = [\"원활\", \"서행\", \"정체\", \"정보없음\"]\n",
    "\n",
    "    print(\"답: 정제된 데이터:\")\n",
    "    for i, road_type in enumerate([general_road, city_highway]):  # general_road와 city_highway를 순회합니다.\n",
    "        print(f\"{road_types[i]} 기준:\")\n",
    "        for j, speed in enumerate(road_type):\n",
    "            if j < len(speed_meanings):  # speed_meanings의 길이를 확인합니다.\n",
    "                print(f\"  - {speed_meanings[j]}: {speed}\")  # speed_meanings[j]와 speed를 출력합니다.\n",
    "            else:\n",
    "                print(f\"  - 추가 정보: {speed}\")\n",
    "\n",
    "    print(\"설명: 추출된 데이터를 일반도로와 도시고속 기준으로 구분하고, 각 속도 범위의 의미를 추가하여 출력했습니다.\")\n",
    "else:\n",
    "    print(\"답: 추출된 데이터가 없습니다.\")\n",
    "    print(\"설명: <td> 태그에서 추출된 데이터가 없어 정제할 내용이 없습니다.\")"
   ]
  },
  {
   "cell_type": "code",
   "execution_count": null,
   "id": "0af576f6",
   "metadata": {},
   "outputs": [],
   "source": []
  },
  {
   "cell_type": "code",
   "execution_count": null,
   "id": "3ffcdbd6",
   "metadata": {},
   "outputs": [],
   "source": []
  },
  {
   "cell_type": "code",
   "execution_count": null,
   "id": "0bf48a92",
   "metadata": {},
   "outputs": [],
   "source": []
  },
  {
   "cell_type": "code",
   "execution_count": null,
   "id": "4e1875a8",
   "metadata": {},
   "outputs": [],
   "source": []
  },
  {
   "cell_type": "code",
   "execution_count": null,
   "id": "66a0e102",
   "metadata": {},
   "outputs": [],
   "source": []
  },
  {
   "cell_type": "code",
   "execution_count": null,
   "id": "2aee6daa",
   "metadata": {},
   "outputs": [],
   "source": []
  }
 ],
 "metadata": {
  "kernelspec": {
   "display_name": "Python 3",
   "language": "python",
   "name": "python3"
  },
  "language_info": {
   "codemirror_mode": {
    "name": "ipython",
    "version": 3
   },
   "file_extension": ".py",
   "mimetype": "text/x-python",
   "name": "python",
   "nbconvert_exporter": "python",
   "pygments_lexer": "ipython3",
   "version": "3.11.9"
  }
 },
 "nbformat": 4,
 "nbformat_minor": 5
}
