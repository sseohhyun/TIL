{
 "cells": [
  {
   "cell_type": "code",
   "execution_count": 2,
   "id": "73780137",
   "metadata": {},
   "outputs": [],
   "source": [
    "from sklearn.metrics import confusion_matrix, classification_report, accuracy_score, precision_score, recall_score, f1_score\n"
   ]
  },
  {
   "cell_type": "code",
   "execution_count": 3,
   "id": "6995229f",
   "metadata": {},
   "outputs": [],
   "source": [
    "# 1. 실제값(y_true)과 예측값(y_pred) 생성\n",
    "# 교통사고 예측 모델이 예측한 값과 실제 사고 여부 데이터를 비교하여 평가합니다.\n",
    "# 0: 사고 없음, 1: 사고 발생을 나타내는 이진 분류 문제\n",
    "y_true = [0, 1, 1, 0, 1, 0, 1, 1, 0, 0]  # 실제 값 (Ground Truth, 참값)\n",
    "y_pred = [0, 1, 0, 0, 1, 0, 1, 1, 1, 0]  # 모델이 예측한 값 (Predicted Labels)"
   ]
  },
  {
   "cell_type": "code",
   "execution_count": 4,
   "id": "b88d6370",
   "metadata": {},
   "outputs": [
    {
     "name": "stdout",
     "output_type": "stream",
     "text": [
      "혼동 행렬 (Confusion Matrix):\n",
      "[[4 1]\n",
      " [1 4]]\n"
     ]
    }
   ],
   "source": [
    "# 2. 혼동 행렬(confusion matrix) 생성\n",
    "# 혼동 행렬은 모델이 얼마나 정확하게 예측했는지를 나타내는 중요한 지표입니다.\n",
    "cm = confusion_matrix(y_true=y_true,y_pred=y_pred)\n",
    "print(\"혼동 행렬 (Confusion Matrix):\")\n",
    "print(cm)  # 혼동 행렬 출력"
   ]
  },
  {
   "cell_type": "code",
   "execution_count": 5,
   "id": "b12778a0",
   "metadata": {},
   "outputs": [
    {
     "name": "stdout",
     "output_type": "stream",
     "text": [
      "\n",
      "모델 정확도 (Accuracy): 0.80\n"
     ]
    }
   ],
   "source": [
    "# 3. 모델의 정확도(Accuracy) 계산\n",
    "accuracy = accuracy_score(y_true=y_true, y_pred=y_pred)\n",
    "\n",
    "print(\"\\n모델 정확도 (Accuracy): {:.2f}\".format(accuracy))  # 정확도 출력"
   ]
  },
  {
   "cell_type": "code",
   "execution_count": null,
   "id": "564ada0a",
   "metadata": {},
   "outputs": [
    {
     "name": "stdout",
     "output_type": "stream",
     "text": [
      "\n",
      "개별 클래스별 Precision, Recall, F1-score:\n",
      "Class 0 - Precision: 0.80, Recall: 0.80, F1-score: 0.80\n",
      "Class 1 - Precision: 0.80, Recall: 0.80, F1-score: 0.80\n"
     ]
    }
   ],
   "source": [
    "# 4. 개별 클래스(0: 사고 없음, 1: 사고 발생)에 대한 Precision, Recall, F1-score 계산\n",
    "# 각 클래스(0 또는 1)에 대해 정밀도, 재현율, F1-score를 개별적으로 계산합니다.\n",
    "\n",
    "# Precision (정밀도): 모델이 '사고 발생'이라고 예측한 값 중에서 실제로 사고가 발생한 비율\n",
    "precision_class_0 = precision_score(y_true, y_pred, pos_label=0)\n",
    "precision_class_1 = precision_score(y_true, y_pred, pos_label=1)\n",
    "\n",
    "# Recall (재현율): 실제 사고 발생 중에서 모델이 '사고 발생'으로 올바르게 예측한 비율\n",
    "recall_class_0 = recall_score(y_true, y_pred, pos_label=0)\n",
    "recall_class_1 = recall_score(y_true, y_pred, pos_label=1)\n",
    "\n",
    "# F1-score: Precision과 Recall의 조화 평균 (균형을 고려한 성능 평가 지표)\n",
    "f1_class_0 = f1_score(y_true, y_pred, pos_label=0)\n",
    "f1_class_1 = f1_score(y_true, y_pred, pos_label=1)\n",
    "\n",
    "print(\"\\n개별 클래스별 Precision, Recall, F1-score:\")\n",
    "print(\"Class 0 - Precision: {:.2f}, Recall: {:.2f}, F1-score: {:.2f}\".format(precision_class_0, recall_class_0, f1_class_0))  \n",
    "print(\"Class 1 - Precision: {:.2f}, Recall: {:.2f}, F1-score: {:.2f}\".format(precision_class_1, recall_class_1, f1_class_1))  "
   ]
  },
  {
   "cell_type": "code",
   "execution_count": 7,
   "id": "64358307",
   "metadata": {},
   "outputs": [
    {
     "name": "stdout",
     "output_type": "stream",
     "text": [
      "\n",
      "전체 모델 성능 평가:\n",
      "              precision    recall  f1-score   support\n",
      "\n",
      "           0       0.80      0.80      0.80         5\n",
      "           1       0.80      0.80      0.80         5\n",
      "\n",
      "    accuracy                           0.80        10\n",
      "   macro avg       0.80      0.80      0.80        10\n",
      "weighted avg       0.80      0.80      0.80        10\n",
      "\n"
     ]
    }
   ],
   "source": [
    "# 5. 전체 Classification Report 출력\n",
    "print(\"\\n전체 모델 성능 평가:\")\n",
    "print(classification_report(y_true, y_pred))"
   ]
  }
 ],
 "metadata": {
  "kernelspec": {
   "display_name": "Python 3",
   "language": "python",
   "name": "python3"
  },
  "language_info": {
   "codemirror_mode": {
    "name": "ipython",
    "version": 3
   },
   "file_extension": ".py",
   "mimetype": "text/x-python",
   "name": "python",
   "nbconvert_exporter": "python",
   "pygments_lexer": "ipython3",
   "version": "3.11.9"
  }
 },
 "nbformat": 4,
 "nbformat_minor": 5
}
