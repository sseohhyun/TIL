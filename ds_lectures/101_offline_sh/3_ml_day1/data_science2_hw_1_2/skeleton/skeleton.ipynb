{
 "cells": [
  {
   "cell_type": "code",
   "execution_count": 1,
   "id": "982fae90",
   "metadata": {},
   "outputs": [],
   "source": [
    "import pandas as pd\n",
    "import numpy as np"
   ]
  },
  {
   "cell_type": "code",
   "execution_count": 2,
   "id": "386afbdd",
   "metadata": {},
   "outputs": [],
   "source": [
    "# -------------------------------------------------------------\n",
    "# 0) 예시 데이터 \n",
    "# -------------------------------------------------------------\n",
    "data = pd.DataFrame({\n",
    "    'Trip ID': [1, 2, 3, 4, 5],\n",
    "    'Age': [25, 34, 45, 29, 40],                 # 제거할 컬럼\n",
    "    'Car Color': ['Red', 'Blue', 'Green', 'Red', 'Black'],  # 제거할 컬럼\n",
    "    'Destination From': ['A', 'B', 'C', 'D', 'E'],\n",
    "    'Destination To': ['F', 'G', 'H', 'I', 'J'],\n",
    "    'Distance (km)': [12.5, 25.3, 19.8, 30.2, 15.7]\n",
    "})\n"
   ]
  },
  {
   "cell_type": "code",
   "execution_count": 3,
   "id": "2ece1a14",
   "metadata": {},
   "outputs": [
    {
     "data": {
      "text/html": [
       "<div>\n",
       "<style scoped>\n",
       "    .dataframe tbody tr th:only-of-type {\n",
       "        vertical-align: middle;\n",
       "    }\n",
       "\n",
       "    .dataframe tbody tr th {\n",
       "        vertical-align: top;\n",
       "    }\n",
       "\n",
       "    .dataframe thead th {\n",
       "        text-align: right;\n",
       "    }\n",
       "</style>\n",
       "<table border=\"1\" class=\"dataframe\">\n",
       "  <thead>\n",
       "    <tr style=\"text-align: right;\">\n",
       "      <th></th>\n",
       "      <th>Trip ID</th>\n",
       "      <th>Age</th>\n",
       "      <th>Car Color</th>\n",
       "      <th>Destination From</th>\n",
       "      <th>Destination To</th>\n",
       "      <th>Distance (km)</th>\n",
       "    </tr>\n",
       "  </thead>\n",
       "  <tbody>\n",
       "    <tr>\n",
       "      <th>0</th>\n",
       "      <td>1</td>\n",
       "      <td>25</td>\n",
       "      <td>Red</td>\n",
       "      <td>A</td>\n",
       "      <td>F</td>\n",
       "      <td>12.5</td>\n",
       "    </tr>\n",
       "    <tr>\n",
       "      <th>1</th>\n",
       "      <td>2</td>\n",
       "      <td>34</td>\n",
       "      <td>Blue</td>\n",
       "      <td>B</td>\n",
       "      <td>G</td>\n",
       "      <td>25.3</td>\n",
       "    </tr>\n",
       "    <tr>\n",
       "      <th>2</th>\n",
       "      <td>3</td>\n",
       "      <td>45</td>\n",
       "      <td>Green</td>\n",
       "      <td>C</td>\n",
       "      <td>H</td>\n",
       "      <td>19.8</td>\n",
       "    </tr>\n",
       "    <tr>\n",
       "      <th>3</th>\n",
       "      <td>4</td>\n",
       "      <td>29</td>\n",
       "      <td>Red</td>\n",
       "      <td>D</td>\n",
       "      <td>I</td>\n",
       "      <td>30.2</td>\n",
       "    </tr>\n",
       "    <tr>\n",
       "      <th>4</th>\n",
       "      <td>5</td>\n",
       "      <td>40</td>\n",
       "      <td>Black</td>\n",
       "      <td>E</td>\n",
       "      <td>J</td>\n",
       "      <td>15.7</td>\n",
       "    </tr>\n",
       "  </tbody>\n",
       "</table>\n",
       "</div>"
      ],
      "text/plain": [
       "   Trip ID  Age Car Color Destination From Destination To  Distance (km)\n",
       "0        1   25       Red                A              F           12.5\n",
       "1        2   34      Blue                B              G           25.3\n",
       "2        3   45     Green                C              H           19.8\n",
       "3        4   29       Red                D              I           30.2\n",
       "4        5   40     Black                E              J           15.7"
      ]
     },
     "execution_count": 3,
     "metadata": {},
     "output_type": "execute_result"
    }
   ],
   "source": [
    "data.head()"
   ]
  },
  {
   "cell_type": "code",
   "execution_count": 6,
   "id": "56ab8412",
   "metadata": {},
   "outputs": [],
   "source": [
    "# -------------------------------------------------------------\n",
    "# 1) 불필요한 컬럼(Age, Car Color) 제거\n",
    "# -------------------------------------------------------------\n",
    "data_cleaned = data.drop(columns = ['Age', 'Car Color'])"
   ]
  },
  {
   "cell_type": "code",
   "execution_count": 7,
   "id": "bc467827",
   "metadata": {},
   "outputs": [
    {
     "data": {
      "text/html": [
       "<div>\n",
       "<style scoped>\n",
       "    .dataframe tbody tr th:only-of-type {\n",
       "        vertical-align: middle;\n",
       "    }\n",
       "\n",
       "    .dataframe tbody tr th {\n",
       "        vertical-align: top;\n",
       "    }\n",
       "\n",
       "    .dataframe thead th {\n",
       "        text-align: right;\n",
       "    }\n",
       "</style>\n",
       "<table border=\"1\" class=\"dataframe\">\n",
       "  <thead>\n",
       "    <tr style=\"text-align: right;\">\n",
       "      <th></th>\n",
       "      <th>Trip ID</th>\n",
       "      <th>Destination From</th>\n",
       "      <th>Destination To</th>\n",
       "      <th>Distance (km)</th>\n",
       "    </tr>\n",
       "  </thead>\n",
       "  <tbody>\n",
       "    <tr>\n",
       "      <th>0</th>\n",
       "      <td>1</td>\n",
       "      <td>A</td>\n",
       "      <td>F</td>\n",
       "      <td>12.5</td>\n",
       "    </tr>\n",
       "    <tr>\n",
       "      <th>1</th>\n",
       "      <td>2</td>\n",
       "      <td>B</td>\n",
       "      <td>G</td>\n",
       "      <td>25.3</td>\n",
       "    </tr>\n",
       "    <tr>\n",
       "      <th>2</th>\n",
       "      <td>3</td>\n",
       "      <td>C</td>\n",
       "      <td>H</td>\n",
       "      <td>19.8</td>\n",
       "    </tr>\n",
       "    <tr>\n",
       "      <th>3</th>\n",
       "      <td>4</td>\n",
       "      <td>D</td>\n",
       "      <td>I</td>\n",
       "      <td>30.2</td>\n",
       "    </tr>\n",
       "    <tr>\n",
       "      <th>4</th>\n",
       "      <td>5</td>\n",
       "      <td>E</td>\n",
       "      <td>J</td>\n",
       "      <td>15.7</td>\n",
       "    </tr>\n",
       "  </tbody>\n",
       "</table>\n",
       "</div>"
      ],
      "text/plain": [
       "   Trip ID Destination From Destination To  Distance (km)\n",
       "0        1                A              F           12.5\n",
       "1        2                B              G           25.3\n",
       "2        3                C              H           19.8\n",
       "3        4                D              I           30.2\n",
       "4        5                E              J           15.7"
      ]
     },
     "execution_count": 7,
     "metadata": {},
     "output_type": "execute_result"
    }
   ],
   "source": [
    "data_cleaned.head()"
   ]
  },
  {
   "cell_type": "code",
   "execution_count": 12,
   "id": "5fc148f1",
   "metadata": {},
   "outputs": [
    {
     "name": "stdout",
     "output_type": "stream",
     "text": [
      "[결과] 가장 먼 거리의 출발지-도착지 경로\n",
      "Destination From       D\n",
      "Destination To         I\n",
      "Distance (km)       30.2\n",
      "Name: 3, dtype: object\n",
      "\n"
     ]
    }
   ],
   "source": [
    "# -------------------------------------------------------------\n",
    "# 2) 최대 이동 거리 탐색 및 해당 경로 필터링\n",
    "# -------------------------------------------------------------\n",
    "max_distance = data_cleaned['Distance (km)'].idxmax()\n",
    "longest_trip = data_cleaned.loc[max_distance]\n",
    "\n",
    "print(\"[결과] 가장 먼 거리의 출발지-도착지 경로\")\n",
    "print(longest_trip[['Destination From', 'Destination To', 'Distance (km)']])\n",
    "print()"
   ]
  },
  {
   "cell_type": "code",
   "execution_count": 13,
   "id": "793155ab",
   "metadata": {},
   "outputs": [
    {
     "name": "stdout",
     "output_type": "stream",
     "text": [
      "[파생변수] is_long (>=20km):\n",
      "  Destination From Destination To  Distance (km)  is_long\n",
      "0                A              F           12.5        0\n",
      "1                B              G           25.3        1\n",
      "2                C              H           19.8        0\n",
      "3                D              I           30.2        1\n",
      "4                E              J           15.7        0\n",
      "\n"
     ]
    }
   ],
   "source": [
    "# -------------------------------------------------------------\n",
    "# 3) (전처리) 파생 변수 생성: 장거리 여부 플래그 (Feature Creation)\n",
    "# 장거리 여부 표시\n",
    "#    - 기준선을 하나 정해 두면(예: 20km) 집계·비율 확인이 쉬워짐\n",
    "# is_long: 기준선 이상이면 1, 아니면 0 (type: int)\n",
    "# -------------------------------------------------------------\n",
    "THRESHOLD_KM = 20  # 목적 기준선\n",
    "data_feat = data_cleaned.copy()\n",
    "data_feat['is_long'] = (data_feat['Distance (km)'] >= THRESHOLD_KM).astype(int)\n",
    "\n",
    "print(\"[파생변수] is_long (>=20km):\")\n",
    "print(data_feat[['Destination From', 'Destination To', 'Distance (km)', 'is_long']])\n",
    "print()"
   ]
  },
  {
   "cell_type": "code",
   "execution_count": 15,
   "id": "c1fe42e7",
   "metadata": {},
   "outputs": [
    {
     "name": "stdout",
     "output_type": "stream",
     "text": [
      "[결측치 점검]\n",
      "Trip ID             0\n",
      "Destination From    0\n",
      "Destination To      0\n",
      "Distance (km)       0\n",
      "is_long             0\n",
      "dtype: int64\n",
      "\n",
      "[이상치(IQR) 점검]\n",
      "Q1=15.70, Q3=25.30, IQR=9.60, 범위=(1.30 ~ 39.70)\n",
      "이상치 후보:\n",
      " 없음\n",
      "\n"
     ]
    }
   ],
   "source": [
    "# -------------------------------------------------------------\n",
    "# 4) (전처리) 결측치/이상치 점검\n",
    "#    - 결측치 요약, IQR 기반 이상값 후보 탐지\n",
    "# -------------------------------------------------------------\n",
    "# 4-1) 결측치 점검 (컬럼 별 결측치 개수)\n",
    "na_summary = data_feat.isna().sum()\n",
    "print(\"[결측치 점검]\")\n",
    "print(na_summary)\n",
    "print()\n",
    "\n",
    "# 4-2) 이상치 점검 (IQR 방법) - 'Distance (km)'에 대한 이상치만 점검\n",
    "q1 = data_feat['Distance (km)'].quantile(0.25)\n",
    "q3 = data_feat['Distance (km)'].quantile(0.75)\n",
    "iqr = q3 - q1\n",
    "low, high = q1 - 1.5*iqr, q3 + 1.5*iqr\n",
    "outliers = data_feat[ (data_feat['Distance (km)'] <= low) | (data_feat['Distance (km)'] >= high) ]\n",
    "\n",
    "print(\"[이상치(IQR) 점검]\")\n",
    "print(f\"Q1={q1:.2f}, Q3={q3:.2f}, IQR={iqr:.2f}, 범위=({low:.2f} ~ {high:.2f})\")\n",
    "print(\"이상치 후보:\\n\", outliers if not outliers.empty else \"없음\")\n",
    "print()"
   ]
  },
  {
   "cell_type": "code",
   "execution_count": 16,
   "id": "82c8b631",
   "metadata": {},
   "outputs": [
    {
     "name": "stdout",
     "output_type": "stream",
     "text": [
      "[원-핫 인코딩 결과 컬럼]\n",
      "['Trip ID', 'Distance (km)', 'is_long', 'Destination From_A', 'Destination From_B', 'Destination From_C', 'Destination From_D', 'Destination From_E', 'Destination To_F', 'Destination To_G', 'Destination To_H', 'Destination To_I', 'Destination To_J']\n",
      "\n"
     ]
    }
   ],
   "source": [
    "# -------------------------------------------------------------\n",
    "# 5) (전처리) 범주형 인코딩 (One-Hot Encoding)\n",
    "#    - 문자형(출발지/도착지)을 0/1 숫자 형태 컬럼으로 변환 - get_dummies 활용\n",
    "# -------------------------------------------------------------\n",
    "encoded = pd.get_dummies(\n",
    "    data_feat,\n",
    "    columns=['Destination From', 'Destination To'],\n",
    "    drop_first=False,\n",
    "    dtype='int8'\n",
    ")\n",
    "\n",
    "print(\"[원-핫 인코딩 결과 컬럼]\")\n",
    "print(list(encoded.columns))\n",
    "print()"
   ]
  },
  {
   "cell_type": "code",
   "execution_count": 17,
   "id": "2627adbd",
   "metadata": {},
   "outputs": [
    {
     "name": "stdout",
     "output_type": "stream",
     "text": [
      "[최종 전처리 데이터(preview)]\n",
      "   Trip ID  Distance (km)  is_long  Destination From_A  Destination From_B  \\\n",
      "0        1           12.5        0                   1                   0   \n",
      "1        2           25.3        1                   0                   1   \n",
      "2        3           19.8        0                   0                   0   \n",
      "3        4           30.2        1                   0                   0   \n",
      "4        5           15.7        0                   0                   0   \n",
      "\n",
      "   Destination From_C  Destination From_D  Destination From_E  \\\n",
      "0                   0                   0                   0   \n",
      "1                   0                   0                   0   \n",
      "2                   1                   0                   0   \n",
      "3                   0                   1                   0   \n",
      "4                   0                   0                   1   \n",
      "\n",
      "   Destination To_F  Destination To_G  Destination To_H  Destination To_I  \\\n",
      "0                 1                 0                 0                 0   \n",
      "1                 0                 1                 0                 0   \n",
      "2                 0                 0                 1                 0   \n",
      "3                 0                 0                 0                 1   \n",
      "4                 0                 0                 0                 0   \n",
      "\n",
      "   Destination To_J  \n",
      "0                 0  \n",
      "1                 0  \n",
      "2                 0  \n",
      "3                 0  \n",
      "4                 1  \n"
     ]
    }
   ],
   "source": [
    "# -------------------------------------------------------------\n",
    "# 6) 최종 전처리 산출물\n",
    "#    - 불필요 컬럼 제거 + 파생변수 + 인코딩까지 마친 DataFrame 확인\n",
    "# -------------------------------------------------------------\n",
    "print(\"[최종 전처리 데이터(preview)]\")\n",
    "print(encoded.head())"
   ]
  }
 ],
 "metadata": {
  "kernelspec": {
   "display_name": "Python 3",
   "language": "python",
   "name": "python3"
  },
  "language_info": {
   "codemirror_mode": {
    "name": "ipython",
    "version": 3
   },
   "file_extension": ".py",
   "mimetype": "text/x-python",
   "name": "python",
   "nbconvert_exporter": "python",
   "pygments_lexer": "ipython3",
   "version": "3.11.9"
  }
 },
 "nbformat": 4,
 "nbformat_minor": 5
}
