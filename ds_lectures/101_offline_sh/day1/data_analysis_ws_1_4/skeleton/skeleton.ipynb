{
 "cells": [
  {
   "cell_type": "code",
   "execution_count": 4,
   "id": "1cb6d31d",
   "metadata": {},
   "outputs": [],
   "source": [
    "# =============================================================================\n",
    "# value_counts() 함수\n",
    "# value_counts() 함수는 특정 컬럼에서 고유한 값의 개수를 계산하는 데 사용됩니다.\n",
    "# 주로 범주형 데이터에서 각 항목이 몇 번 나타났는지 확인할 때 활용됩니다.\n",
    "# =============================================================================\n",
    "\n",
    "import pandas as pd  # Pandas 라이브러리 불러오기\n",
    "\n",
    "# 1. Titanic 데이터셋 불러오기 (파일 경로는 사용자 환경에 맞게 변경)\n",
    "df = pd.read_csv(\"C:/Users/SSAFY/Desktop/TIL/ds_lectures/101_offline_sh/day1/data_analysis_ws_1_4/data/titanic.csv\")  # Titanic 데이터셋을 불러옴"
   ]
  },
  {
   "cell_type": "code",
   "execution_count": 5,
   "id": "59f285bb",
   "metadata": {},
   "outputs": [
    {
     "name": "stdout",
     "output_type": "stream",
     "text": [
      "데이터프레임 기본 정보:\n",
      "<class 'pandas.core.frame.DataFrame'>\n",
      "RangeIndex: 891 entries, 0 to 890\n",
      "Data columns (total 12 columns):\n",
      " #   Column       Non-Null Count  Dtype  \n",
      "---  ------       --------------  -----  \n",
      " 0   PassengerId  891 non-null    int64  \n",
      " 1   Survived     891 non-null    int64  \n",
      " 2   Pclass       891 non-null    int64  \n",
      " 3   Name         891 non-null    object \n",
      " 4   Sex          891 non-null    object \n",
      " 5   Age          714 non-null    float64\n",
      " 6   SibSp        891 non-null    int64  \n",
      " 7   Parch        891 non-null    int64  \n",
      " 8   Ticket       891 non-null    object \n",
      " 9   Fare         891 non-null    float64\n",
      " 10  Cabin        204 non-null    object \n",
      " 11  Embarked     889 non-null    object \n",
      "dtypes: float64(2), int64(5), object(5)\n",
      "memory usage: 83.7+ KB\n",
      "None\n"
     ]
    }
   ],
   "source": [
    "# 2. 데이터프레임 기본 정보 확인\n",
    "print(\"데이터프레임 기본 정보:\")\n",
    "print(df.info())  # 컬럼 정보, 데이터 타입, 결측치 개수 등을 확인"
   ]
  },
  {
   "cell_type": "code",
   "execution_count": 6,
   "id": "a38cc666",
   "metadata": {},
   "outputs": [
    {
     "name": "stdout",
     "output_type": "stream",
     "text": [
      "\n",
      "숫자형 데이터의 요약 통계:\n",
      "       PassengerId    Survived      Pclass         Age       SibSp  \\\n",
      "count   891.000000  891.000000  891.000000  714.000000  891.000000   \n",
      "mean    446.000000    0.383838    2.308642   29.699118    0.523008   \n",
      "std     257.353842    0.486592    0.836071   14.526497    1.102743   \n",
      "min       1.000000    0.000000    1.000000    0.420000    0.000000   \n",
      "25%     223.500000    0.000000    2.000000   20.125000    0.000000   \n",
      "50%     446.000000    0.000000    3.000000   28.000000    0.000000   \n",
      "75%     668.500000    1.000000    3.000000   38.000000    1.000000   \n",
      "max     891.000000    1.000000    3.000000   80.000000    8.000000   \n",
      "\n",
      "            Parch        Fare  \n",
      "count  891.000000  891.000000  \n",
      "mean     0.381594   32.204208  \n",
      "std      0.806057   49.693429  \n",
      "min      0.000000    0.000000  \n",
      "25%      0.000000    7.910400  \n",
      "50%      0.000000   14.454200  \n",
      "75%      0.000000   31.000000  \n",
      "max      6.000000  512.329200  \n"
     ]
    }
   ],
   "source": [
    "# 3. 숫자형 데이터의 기본 통계 분석\n",
    "print(\"\\n숫자형 데이터의 요약 통계:\")\n",
    "print(df.describe())  # 평균, 표준편차, 최소/최대값 등의 기본 통계 정보 확인"
   ]
  },
  {
   "cell_type": "code",
   "execution_count": 8,
   "id": "4ca7dfc4",
   "metadata": {},
   "outputs": [
    {
     "name": "stdout",
     "output_type": "stream",
     "text": [
      "\n",
      "선실 등급(Pclass)별 승객 수:\n",
      "Pclass\n",
      "3    491\n",
      "1    216\n",
      "2    184\n",
      "Name: count, dtype: int64\n",
      "\n",
      "1등석 평균 요금: 84.15, 중앙값 요금: 60.29\n",
      "\n",
      "2등석 평균 요금: 20.66, 중앙값 요금: 14.25\n",
      "\n",
      "3등석 평균 요금: 13.68, 중앙값 요금: 8.05\n"
     ]
    }
   ],
   "source": [
    "# 4. Pclass(선실 등급)별 요금 비교\n",
    "# 각 Pclass별 승객 수 확인\n",
    "print(\"\\n선실 등급(Pclass)별 승객 수:\")\n",
    "print(df[\"Pclass\"].value_counts())  # Pclass별 승객 수 출력\n",
    "\n",
    "# Pclass별 요금(Fare) 통계 분석\n",
    "# (1) 1등석 승객의 평균 및 중앙값 요금 확인\n",
    "first_class_fare = df.loc[df['Pclass'] == 1, \"Fare\"]\n",
    "first_class_fare_mean = first_class_fare.mean()  # 평균 요금 계산\n",
    "first_class_fare_median = first_class_fare.median()  # 중앙값 요금 계산\n",
    "print(f\"\\n1등석 평균 요금: {first_class_fare_mean:.2f}, 중앙값 요금: {first_class_fare_median:.2f}\")\n",
    "\n",
    "# (2) 2등석 승객의 평균 및 중앙값 요금 확인\n",
    "second_class_fare = df.loc[df['Pclass'] == 2, \"Fare\"]\n",
    "second_class_fare_mean = second_class_fare.mean()  # 평균 요금 계산\n",
    "second_class_fare_median = second_class_fare.median()  # 중앙값 요금 계산\n",
    "print(f\"\\n2등석 평균 요금: {second_class_fare_mean:.2f}, 중앙값 요금: {second_class_fare_median:.2f}\")\n",
    "\n",
    "# (3) 3등석 승객의 평균 및 중앙값 요금 확인\n",
    "third_class_fare = df.loc[df['Pclass'] == 3, \"Fare\"]\n",
    "third_class_fare_mean = third_class_fare.mean()  # 평균 요금 계산\n",
    "third_class_fare_median = third_class_fare.median()  # 중앙값 요금 계산\n",
    "print(f\"\\n3등석 평균 요금: {third_class_fare_mean:.2f}, 중앙값 요금: {third_class_fare_median:.2f}\")\n"
   ]
  },
  {
   "cell_type": "code",
   "execution_count": 9,
   "id": "7c12ef1b",
   "metadata": {},
   "outputs": [
    {
     "name": "stdout",
     "output_type": "stream",
     "text": [
      "\n",
      "선실 등급별 생존자 수:\n",
      "Pclass\n",
      "1    136\n",
      "3    119\n",
      "2     87\n",
      "Name: count, dtype: int64\n",
      "\n",
      "선실 등급별 사망자 수:\n",
      "Pclass\n",
      "3    372\n",
      "2     97\n",
      "1     80\n",
      "Name: count, dtype: int64\n"
     ]
    }
   ],
   "source": [
    "# 5. Pclass별 생존자 및 사망자 수 확인\n",
    "# 생존자(Survived == 1) 및 사망자(Survived == 0)의 각 Pclass별 분포 확인\n",
    "print(\"\\n선실 등급별 생존자 수:\")\n",
    "print(df[df[\"Survived\"] == 1][\"Pclass\"].value_counts())  # 생존자의 Pclass 분포\n",
    "\n",
    "print(\"\\n선실 등급별 사망자 수:\")\n",
    "print(df[df[\"Survived\"] == 0][\"Pclass\"].value_counts())  # 사망자의 Pclass 분포"
   ]
  },
  {
   "cell_type": "code",
   "execution_count": null,
   "id": "69934431",
   "metadata": {},
   "outputs": [],
   "source": []
  }
 ],
 "metadata": {
  "kernelspec": {
   "display_name": "Python 3",
   "language": "python",
   "name": "python3"
  },
  "language_info": {
   "codemirror_mode": {
    "name": "ipython",
    "version": 3
   },
   "file_extension": ".py",
   "mimetype": "text/x-python",
   "name": "python",
   "nbconvert_exporter": "python",
   "pygments_lexer": "ipython3",
   "version": "3.11.9"
  }
 },
 "nbformat": 4,
 "nbformat_minor": 5
}
