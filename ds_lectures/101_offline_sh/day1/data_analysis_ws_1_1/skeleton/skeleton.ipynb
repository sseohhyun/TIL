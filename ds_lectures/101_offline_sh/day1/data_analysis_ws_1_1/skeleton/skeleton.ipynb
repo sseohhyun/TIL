{
 "cells": [
  {
   "cell_type": "code",
   "execution_count": 2,
   "id": "94ff7846",
   "metadata": {},
   "outputs": [],
   "source": [
    "import pandas as pd  # Pandas 라이브러리 불러오기\n",
    "\n",
    "# 1. Titanic 데이터셋 불러오기 (파일 경로는 사용자 환경에 맞게 변경)\n",
    "df = pd.read_csv(\"C:/Users/SSAFY/Desktop/TIL/ds_lectures/101_offline_sh/day1/data_analysis_ws_1_1/data/titanic.csv\")  # Titanic 데이터셋 파일명을 입력하세요."
   ]
  },
  {
   "cell_type": "code",
   "execution_count": 3,
   "id": "6e701b25",
   "metadata": {},
   "outputs": [
    {
     "name": "stdout",
     "output_type": "stream",
     "text": [
      "데이터프레임 기본 정보:\n",
      "<class 'pandas.core.frame.DataFrame'>\n",
      "RangeIndex: 891 entries, 0 to 890\n",
      "Data columns (total 12 columns):\n",
      " #   Column       Non-Null Count  Dtype  \n",
      "---  ------       --------------  -----  \n",
      " 0   PassengerId  891 non-null    int64  \n",
      " 1   Survived     891 non-null    int64  \n",
      " 2   Pclass       891 non-null    int64  \n",
      " 3   Name         891 non-null    object \n",
      " 4   Sex          891 non-null    object \n",
      " 5   Age          714 non-null    float64\n",
      " 6   SibSp        891 non-null    int64  \n",
      " 7   Parch        891 non-null    int64  \n",
      " 8   Ticket       891 non-null    object \n",
      " 9   Fare         891 non-null    float64\n",
      " 10  Cabin        204 non-null    object \n",
      " 11  Embarked     889 non-null    object \n",
      "dtypes: float64(2), int64(5), object(5)\n",
      "memory usage: 83.7+ KB\n",
      "None\n",
      "\n",
      "데이터프레임 크기:\n",
      "(891, 12)\n",
      "\n",
      "데이터프레임 상위 5개 행:\n",
      "   PassengerId  Survived  Pclass  \\\n",
      "0            1         0       3   \n",
      "1            2         1       1   \n",
      "2            3         1       3   \n",
      "3            4         1       1   \n",
      "4            5         0       3   \n",
      "\n",
      "                                                Name     Sex   Age  SibSp  \\\n",
      "0                            Braund, Mr. Owen Harris    male  22.0      1   \n",
      "1  Cumings, Mrs. John Bradley (Florence Briggs Th...  female  38.0      1   \n",
      "2                             Heikkinen, Miss. Laina  female  26.0      0   \n",
      "3       Futrelle, Mrs. Jacques Heath (Lily May Peel)  female  35.0      1   \n",
      "4                           Allen, Mr. William Henry    male  35.0      0   \n",
      "\n",
      "   Parch            Ticket     Fare Cabin Embarked  \n",
      "0      0         A/5 21171   7.2500   NaN        S  \n",
      "1      0          PC 17599  71.2833   C85        C  \n",
      "2      0  STON/O2. 3101282   7.9250   NaN        S  \n",
      "3      0            113803  53.1000  C123        S  \n",
      "4      0            373450   8.0500   NaN        S  \n"
     ]
    }
   ],
   "source": [
    "# 2. 데이터셋 기본 탐색\n",
    "# 데이터프레임의 전체적인 정보를 확인 (컬럼, 데이터 타입, 결측치 개수 등)\n",
    "print(\"데이터프레임 기본 정보:\")\n",
    "print(df.info())  # 데이터프레임의 전체 구조를 확인하는 함수 \n",
    "\n",
    "# 데이터프레임의 크기(행, 열 개수) 확인\n",
    "print(\"\\n데이터프레임 크기:\")\n",
    "print(df.shape)  # 데이터의 행과 열 개수를 확인하는 속성 \n",
    "\n",
    "# 상위 5개 행 출력\n",
    "print(\"\\n데이터프레임 상위 5개 행:\")\n",
    "print(df.head())  # 데이터의 처음 몇 개 행을 미리 확인하는 함수"
   ]
  },
  {
   "cell_type": "code",
   "execution_count": 4,
   "id": "a94401b6",
   "metadata": {},
   "outputs": [
    {
     "name": "stdout",
     "output_type": "stream",
     "text": [
      "\n",
      "각 컬럼별 결측치 개수:\n",
      "PassengerId      0\n",
      "Survived         0\n",
      "Pclass           0\n",
      "Name             0\n",
      "Sex              0\n",
      "Age            177\n",
      "SibSp            0\n",
      "Parch            0\n",
      "Ticket           0\n",
      "Fare             0\n",
      "Cabin          687\n",
      "Embarked         2\n",
      "dtype: int64\n"
     ]
    }
   ],
   "source": [
    "# 3. 결측치 확인\n",
    "# 각 컬럼별 결측치 개수를 확인\n",
    "print(\"\\n각 컬럼별 결측치 개수:\")\n",
    "print(df.isna().sum())  # 결측치를 확인하는 함수 "
   ]
  },
  {
   "cell_type": "code",
   "execution_count": 5,
   "id": "aaf93374",
   "metadata": {},
   "outputs": [],
   "source": [
    "# 4. 결측치 처리\n",
    "# (1) Age 컬럼의 결측치를 중앙값(median)으로 대체\n",
    "age_median = df[\"Age\"].median()  # 중앙값을 구하는 함수 \n",
    "df[\"Age\"] = df[\"Age\"].fillna(age_median)  # 결측치를 중앙값으로 채우는 함수 \n",
    "\n",
    "# (2) Embarked 컬럼의 결측치를 최빈값(mode)으로 대체\n",
    "embarked_mode = df[\"Embarked\"].mode()[0]  # 최빈값을 구하는 함수\n",
    "df[\"Embarked\"] = df[\"Embarked\"].fillna(embarked_mode)  # 결측치를 최빈값으로 채우는 함수\n"
   ]
  },
  {
   "cell_type": "code",
   "execution_count": 6,
   "id": "3c8ad5f5",
   "metadata": {},
   "outputs": [
    {
     "name": "stdout",
     "output_type": "stream",
     "text": [
      "\n",
      "결측치 처리 후 각 컬럼별 결측치 개수:\n",
      "PassengerId      0\n",
      "Survived         0\n",
      "Pclass           0\n",
      "Name             0\n",
      "Sex              0\n",
      "Age              0\n",
      "SibSp            0\n",
      "Parch            0\n",
      "Ticket           0\n",
      "Fare             0\n",
      "Cabin          687\n",
      "Embarked         0\n",
      "dtype: int64\n"
     ]
    }
   ],
   "source": [
    "# 5. 결측치 처리 후 다시 확인\n",
    "print(\"\\n결측치 처리 후 각 컬럼별 결측치 개수:\")\n",
    "print(df.isna().sum())  # 결측치가 잘 처리되었는지 확인하는 함수 "
   ]
  },
  {
   "cell_type": "code",
   "execution_count": 7,
   "id": "6e32b634",
   "metadata": {},
   "outputs": [
    {
     "name": "stdout",
     "output_type": "stream",
     "text": [
      "\n",
      "숫자형 데이터 요약 통계:\n",
      "       PassengerId    Survived      Pclass         Age       SibSp  \\\n",
      "count   891.000000  891.000000  891.000000  891.000000  891.000000   \n",
      "mean    446.000000    0.383838    2.308642   29.361582    0.523008   \n",
      "std     257.353842    0.486592    0.836071   13.019697    1.102743   \n",
      "min       1.000000    0.000000    1.000000    0.420000    0.000000   \n",
      "25%     223.500000    0.000000    2.000000   22.000000    0.000000   \n",
      "50%     446.000000    0.000000    3.000000   28.000000    0.000000   \n",
      "75%     668.500000    1.000000    3.000000   35.000000    1.000000   \n",
      "max     891.000000    1.000000    3.000000   80.000000    8.000000   \n",
      "\n",
      "            Parch        Fare  \n",
      "count  891.000000  891.000000  \n",
      "mean     0.381594   32.204208  \n",
      "std      0.806057   49.693429  \n",
      "min      0.000000    0.000000  \n",
      "25%      0.000000    7.910400  \n",
      "50%      0.000000   14.454200  \n",
      "75%      0.000000   31.000000  \n",
      "max      6.000000  512.329200  \n"
     ]
    }
   ],
   "source": [
    "# 6. 주요 통계 정보 확인\n",
    "# 숫자형 데이터의 기초 통계 확인 (평균, 표준편차, 최소/최대값 등)\n",
    "print(\"\\n숫자형 데이터 요약 통계:\")\n",
    "print(df.describe())  # 숫자형 데이터의 통계 요약을 출력하는 함수"
   ]
  },
  {
   "cell_type": "code",
   "execution_count": null,
   "id": "8ca5df33",
   "metadata": {},
   "outputs": [
    {
     "name": "stdout",
     "output_type": "stream",
     "text": [
      "\n",
      "연령별 승객 수:\n",
      "Age\n",
      "28.00    202\n",
      "24.00     30\n",
      "22.00     27\n",
      "18.00     26\n",
      "30.00     25\n",
      "        ... \n",
      "24.50      1\n",
      "0.67       1\n",
      "0.42       1\n",
      "34.50      1\n",
      "74.00      1\n",
      "Name: count, Length: 88, dtype: int64\n",
      "\n",
      "객실 등급(Pclass)별 승객 수:\n",
      "Pclass\n",
      "3    491\n",
      "1    216\n",
      "2    184\n",
      "Name: count, dtype: int64\n",
      "\n",
      "성별(Sex)별 승객 수:\n",
      "Sex\n",
      "male      577\n",
      "female    314\n",
      "Name: count, dtype: int64\n",
      "\n",
      "탑승 항구(Embarked)별 승객 수:\n",
      "Embarked\n",
      "S    646\n",
      "C    168\n",
      "Q     77\n",
      "Name: count, dtype: int64\n"
     ]
    }
   ],
   "source": [
    "# 7. 범주형 데이터(객실 등급, 성별, 탑승항) 값 분포 확인\n",
    "print(\"\\n객실 등급(Pclass)별 승객 수:\")\n",
    "print(df[\"Pclass\"].value_counts())  # Pclass 값 개수를 세는 함수\n",
    "\n",
    "print(\"\\n성별(Sex)별 승객 수:\")\n",
    "print(df[\"Sex\"].value_counts())  # Sex 값 개수를 세는 함수 \n",
    "\n",
    "print(\"\\n탑승 항구(Embarked)별 승객 수:\")\n",
    "print(df[\"Embarked\"].value_counts())  # Embarked 값 개수를 세는 함수"
   ]
  }
 ],
 "metadata": {
  "kernelspec": {
   "display_name": "Python 3",
   "language": "python",
   "name": "python3"
  },
  "language_info": {
   "codemirror_mode": {
    "name": "ipython",
    "version": 3
   },
   "file_extension": ".py",
   "mimetype": "text/x-python",
   "name": "python",
   "nbconvert_exporter": "python",
   "pygments_lexer": "ipython3",
   "version": "3.11.9"
  }
 },
 "nbformat": 4,
 "nbformat_minor": 5
}
