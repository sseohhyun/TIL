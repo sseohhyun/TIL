{
 "cells": [
  {
   "cell_type": "code",
   "execution_count": 2,
   "id": "2aaea775",
   "metadata": {},
   "outputs": [],
   "source": [
    "import pandas as pd\n",
    "import plotly.express as px\n"
   ]
  },
  {
   "cell_type": "code",
   "execution_count": 3,
   "id": "6354ab9b",
   "metadata": {},
   "outputs": [],
   "source": [
    "# 1. 데이터 로드\n",
    "data = pd.read_csv('../data/world_data.csv')"
   ]
  },
  {
   "cell_type": "code",
   "execution_count": 4,
   "id": "d3bb00a3",
   "metadata": {},
   "outputs": [
    {
     "data": {
      "text/html": [
       "<div>\n",
       "<style scoped>\n",
       "    .dataframe tbody tr th:only-of-type {\n",
       "        vertical-align: middle;\n",
       "    }\n",
       "\n",
       "    .dataframe tbody tr th {\n",
       "        vertical-align: top;\n",
       "    }\n",
       "\n",
       "    .dataframe thead th {\n",
       "        text-align: right;\n",
       "    }\n",
       "</style>\n",
       "<table border=\"1\" class=\"dataframe\">\n",
       "  <thead>\n",
       "    <tr style=\"text-align: right;\">\n",
       "      <th></th>\n",
       "      <th>Country</th>\n",
       "      <th>Year</th>\n",
       "      <th>Population</th>\n",
       "      <th>GDP</th>\n",
       "      <th>LifeExpectancy</th>\n",
       "    </tr>\n",
       "  </thead>\n",
       "  <tbody>\n",
       "    <tr>\n",
       "      <th>0</th>\n",
       "      <td>USA</td>\n",
       "      <td>2000</td>\n",
       "      <td>1283642419</td>\n",
       "      <td>3794459720974</td>\n",
       "      <td>74.64</td>\n",
       "    </tr>\n",
       "    <tr>\n",
       "      <th>1</th>\n",
       "      <td>USA</td>\n",
       "      <td>2001</td>\n",
       "      <td>1291179009</td>\n",
       "      <td>3968949030285</td>\n",
       "      <td>74.89</td>\n",
       "    </tr>\n",
       "    <tr>\n",
       "      <th>2</th>\n",
       "      <td>USA</td>\n",
       "      <td>2002</td>\n",
       "      <td>1324059435</td>\n",
       "      <td>3952537491226</td>\n",
       "      <td>75.37</td>\n",
       "    </tr>\n",
       "    <tr>\n",
       "      <th>3</th>\n",
       "      <td>USA</td>\n",
       "      <td>2003</td>\n",
       "      <td>1352166606</td>\n",
       "      <td>4102626826157</td>\n",
       "      <td>75.03</td>\n",
       "    </tr>\n",
       "    <tr>\n",
       "      <th>4</th>\n",
       "      <td>USA</td>\n",
       "      <td>2004</td>\n",
       "      <td>1323905931</td>\n",
       "      <td>4256241754841</td>\n",
       "      <td>75.57</td>\n",
       "    </tr>\n",
       "  </tbody>\n",
       "</table>\n",
       "</div>"
      ],
      "text/plain": [
       "  Country  Year  Population            GDP  LifeExpectancy\n",
       "0     USA  2000  1283642419  3794459720974           74.64\n",
       "1     USA  2001  1291179009  3968949030285           74.89\n",
       "2     USA  2002  1324059435  3952537491226           75.37\n",
       "3     USA  2003  1352166606  4102626826157           75.03\n",
       "4     USA  2004  1323905931  4256241754841           75.57"
      ]
     },
     "execution_count": 4,
     "metadata": {},
     "output_type": "execute_result"
    }
   ],
   "source": [
    "# 데이터 확인\n",
    "data.head()  # 상위 5개 행"
   ]
  },
  {
   "cell_type": "code",
   "execution_count": 10,
   "id": "fcf9c890",
   "metadata": {},
   "outputs": [],
   "source": [
    "# 2. 3D 산점도 작성\n",
    "import plotly.io as pio\n",
    "pio.renderers.default = \"browser\"   # 브라우저에서 열기\n",
    "\n",
    "fig = px.scatter_3d(data, x='Population', y='GDP', z='LifeExpectancy',\n",
    "                    color='Country', size='Population', hover_name='Country')\n",
    "\n",
    "# 3D 그래프 출력\n",
    "fig.show()"
   ]
  },
  {
   "cell_type": "code",
   "execution_count": 11,
   "id": "0569720f",
   "metadata": {},
   "outputs": [],
   "source": [
    "# 3. 3D 산점도 작성 및 Hover 기능 추가\n",
    "fig = px.scatter_3d(data, x='Population', y='GDP', z='LifeExpectancy',\n",
    "                    color='Country', size='Population', hover_name='Country', hover_data=['Year'])\n",
    "\n",
    "# Hover에 추가 정보 표시 (연도)\n",
    "fig.update_traces(marker=dict(size=5),\n",
    "                  selector=dict(mode='markers'))\n",
    "\n",
    "# 3D 그래프 출력\n",
    "fig.show()"
   ]
  },
  {
   "cell_type": "code",
   "execution_count": 12,
   "id": "f16d0e4a",
   "metadata": {},
   "outputs": [],
   "source": [
    "# 4. 3D 산점도 작성 및 필터 기능 추가\n",
    "fig = px.scatter_3d(data, x='Population', y='GDP', z='LifeExpectancy',\n",
    "                    color='Country', size='Population', hover_name='Country',\n",
    "                    animation_frame='Year', animation_group='Country')\n",
    "\n",
    "# 3D 그래프 출력\n",
    "fig.show()\n"
   ]
  }
 ],
 "metadata": {
  "kernelspec": {
   "display_name": "Python 3",
   "language": "python",
   "name": "python3"
  },
  "language_info": {
   "codemirror_mode": {
    "name": "ipython",
    "version": 3
   },
   "file_extension": ".py",
   "mimetype": "text/x-python",
   "name": "python",
   "nbconvert_exporter": "python",
   "pygments_lexer": "ipython3",
   "version": "3.11.9"
  }
 },
 "nbformat": 4,
 "nbformat_minor": 5
}
