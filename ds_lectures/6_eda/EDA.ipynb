{
 "cells": [
  {
   "cell_type": "code",
   "execution_count": null,
   "metadata": {},
   "outputs": [],
   "source": [
    "import pandas as pd\n",
    "import seaborn as snsimport \n",
    "import matplotlib.pyplot as plt\n",
    " \n",
    "# 한글 사용 준비\n",
    "plt.rcParams['font.family'] = 'Malgun Gothic'\n"
   ]
  },
  {
   "cell_type": "code",
   "execution_count": null,
   "metadata": {},
   "outputs": [],
   "source": [
    "train_dt = pd.read_csv('titanic.csv')\n",
    "train_dt.head()"
   ]
  },
  {
   "cell_type": "code",
   "execution_count": null,
   "metadata": {},
   "outputs": [],
   "source": [
    "train_dt.info()"
   ]
  },
  {
   "cell_type": "code",
   "execution_count": null,
   "metadata": {},
   "outputs": [],
   "source": [
    "# 연속형 변수 선택\n",
    "continuous_vars = [\"Age\", \"SibSp\", \"Parch\", \"Fare\"]\n",
    "\n",
    "# 그래프 스타일 설정\n",
    "plt.figure(figsize=(12, 4))\n",
    "plt.suptitle(\"연속형 데이터 개별 변수 분포(Variation)\", fontsize=14, fontweight=\"bold\")\n",
    "\n",
    "# 각 변수에 대한 분포 플롯 생성\n",
    "for i, var in enumerate(continuous_vars):\n",
    "    plt.subplot(1, 4, i+1)\n",
    "    sns.histplot(train_dt[var], bins=30, kde=True)\n",
    "    plt.title(var.capitalize())\n",
    "    plt.xlabel(var)\n",
    "    plt.ylabel(\"Count\")\n",
    "\n",
    "plt.tight_layout(rect=[0, 0, 1, 0.9])\n",
    "plt.show()"
   ]
  },
  {
   "cell_type": "code",
   "execution_count": null,
   "metadata": {},
   "outputs": [],
   "source": [
    "# 범주형 변수 선택\n",
    "categorical_vars = [\"Pclass\", \"Sex\", \"Embarked\"]\n",
    "\n",
    "# 그래프 스타일 설정\n",
    "plt.figure(figsize=(12, 4))\n",
    "plt.suptitle(\"범주형 데이터 개별 변수 분포\", fontsize=14, fontweight=\"bold\")\n",
    "\n",
    "# 각 변수에 대한 카운트 플롯 생성\n",
    "for i, var in enumerate(categorical_vars):\n",
    "    plt.subplot(1, 3, i+1)\n",
    "    sns.countplot(x=train_dt[var], palette=\"muted\")\n",
    "    plt.title(var.capitalize())\n",
    "    plt.xlabel(var)\n",
    "    plt.ylabel(\"Count\")\n",
    "\n",
    "plt.tight_layout(rect=[0, 0, 1, 0.9])\n",
    "plt.show()"
   ]
  },
  {
   "cell_type": "code",
   "execution_count": null,
   "metadata": {},
   "outputs": [],
   "source": [
    "train_dt['Survived'].value_counts()"
   ]
  },
  {
   "cell_type": "code",
   "execution_count": null,
   "metadata": {},
   "outputs": [],
   "source": [
    "train_dt_copy = train_dt.copy()\n",
    "# Survived 변수 매핑 (0: 사망, 1: 생존)\n",
    "train_dt_copy[\"Survived\"] = train_dt_copy[\"Survived\"].map({0: \"사망\", 1: \"생존\"})\n",
    "\n",
    "\n",
    "# 생존자 및 사망자 수 계산\n",
    "survived_counts = train_dt_copy[\"Survived\"].value_counts()\n",
    "labels = survived_counts.index\n",
    "sizes = survived_counts.values\n",
    "colors = [\"#1f77b4\", \"#ff7f0e\"]\n",
    "explode = [0, 0.1]  # 생존자 부분만 분리\n",
    "\n",
    "# 그래프 설정\n",
    "fig, axes = plt.subplots(1, 2, figsize=(8, 4))  # 크기 조정\n",
    "fig.suptitle(\"\", fontsize=14, fontweight=\"bold\")\n",
    "\n",
    "# 파이 차트 (조각 분리)\n",
    "axes[0].pie(\n",
    "    sizes, labels=labels, autopct=\"%1.1f%%\", colors=colors, explode=explode, shadow=True\n",
    ")\n",
    "axes[0].set_title(\"\")\n",
    "\n",
    "# 바 차트\n",
    "sns.barplot(x=labels, y=sizes, ax=axes[1], palette=colors)\n",
    "axes[1].set_ylabel(\"Count\")\n",
    "\n",
    "plt.tight_layout()\n",
    "plt.show()"
   ]
  },
  {
   "cell_type": "code",
   "execution_count": null,
   "metadata": {},
   "outputs": [],
   "source": [
    "train_dt['Name'].unique()"
   ]
  },
  {
   "cell_type": "code",
   "execution_count": null,
   "metadata": {},
   "outputs": [],
   "source": [
    "train_dt['Pclass'].value_counts()"
   ]
  },
  {
   "cell_type": "code",
   "execution_count": null,
   "metadata": {},
   "outputs": [],
   "source": [
    "# 그래프 스타일 설정\n",
    "plt.figure(figsize=(6, 5))\n",
    "\n",
    "# 막대 그래프 생성\n",
    "ax = sns.barplot(x=train_dt[\"Pclass\"].value_counts().index, \n",
    "                 y=train_dt[\"Pclass\"].value_counts().values, \n",
    "                 palette=[\"#76b7b2\", \"#f28e75\", \"#a5add9\"])  # 색상 설정\n",
    "\n",
    "# 제목 설정\n",
    "plt.title(\"Feature Exploration - Pclass\", fontsize=14, fontweight=\"bold\", color=\"#1f3b7a\")\n",
    "plt.xlabel(\"Pclass\", fontsize=12)\n",
    "plt.ylabel(\"Count\", fontsize=12)\n",
    "\n",
    "# y축 눈금 설정\n",
    "plt.ylim(0, 550)\n",
    "\n",
    "plt.show()"
   ]
  },
  {
   "cell_type": "code",
   "execution_count": null,
   "metadata": {},
   "outputs": [],
   "source": [
    "# 그래프 스타일 설정\n",
    "plt.figure(figsize=(6, 5))\n",
    "sns.set(font=\"Malgun Gothic\", rc={\"axes.unicode_minus\": False})  \n",
    "\n",
    "# 막대 그래프 생성 (Pclass별 Survived 분포)\n",
    "ax = sns.countplot(data=train_dt, x=\"Pclass\", hue=\"Survived\", palette=[\"#4c72b0\", \"#dd8452\"])\n",
    "\n",
    "# 제목 및 축 설정\n",
    "plt.title(\"Feature Exploration - Pclass\", fontsize=14, fontweight=\"bold\", color=\"#1f3b7a\")\n",
    "plt.xlabel(\"Pclass\", fontsize=12)\n",
    "plt.ylabel(\"Count\", fontsize=12)\n",
    "\n",
    "# 범례 설정\n",
    "plt.legend(title=\"\", labels=[\"사망\", \"생존\"])\n",
    "\n",
    "# y축 제한 설정\n",
    "plt.ylim(0, 400)\n",
    "\n",
    "plt.show()"
   ]
  },
  {
   "cell_type": "code",
   "execution_count": null,
   "metadata": {},
   "outputs": [],
   "source": [
    "# 생존자와 사망자 그룹별 Pclass 비율 계산\n",
    "dead_pclass = train_dt[train_dt[\"Survived\"] == 0][\"Pclass\"].value_counts(normalize=True) * 100\n",
    "survived_pclass = train_dt[train_dt[\"Survived\"] == 1][\"Pclass\"].value_counts(normalize=True) * 100\n",
    "\n",
    "# 파이 차트에 표시할 레이블 (Pclass 값)\n",
    "labels = [\"1\", \"2\", \"3\"]\n",
    "colors = [\"#4c72b0\", \"#dd8452\", \"#55a868\"]\n",
    "\n",
    "# 그래프 생성\n",
    "fig, axes = plt.subplots(1, 2, figsize=(8, 4))\n",
    "\n",
    "# 사망자 파이 차트\n",
    "axes[0].pie(dead_pclass.sort_index(), labels=labels, autopct=\"%1.1f%%\", colors=colors)\n",
    "axes[0].set_title(\"사망 - Pclass\")\n",
    "\n",
    "# 생존자 파이 차트\n",
    "axes[1].pie(survived_pclass.sort_index(), labels=labels, autopct=\"%1.1f%%\", colors=colors)\n",
    "axes[1].set_title(\"생존 - Pclass\")\n",
    "\n",
    "plt.show()"
   ]
  },
  {
   "cell_type": "code",
   "execution_count": null,
   "metadata": {},
   "outputs": [],
   "source": [
    "# 성별 분포 계산\n",
    "sex_counts = train_dt[\"Sex\"].value_counts()\n",
    "sex_percent = train_dt[\"Sex\"].value_counts(normalize=True) * 100\n",
    "\n",
    "# 성별 한글 변환\n",
    "labels = [\"남성\", \"여성\"]\n",
    "colors = [\"#4c72b0\", \"#dd8452\"]\n",
    "explode = [0.1, 0]  # 여성 부분만 분리\n",
    "\n",
    "# 그래프 생성\n",
    "fig, axes = plt.subplots(1, 2, figsize=(8, 4))\n",
    "\n",
    "# 파이 차트\n",
    "axes[0].pie(sex_percent, labels=labels, autopct=\"%1.1f%%\", colors=colors, shadow=True)\n",
    "axes[0].set_title(\"\")\n",
    "\n",
    "# 바 차트\n",
    "sns.barplot(x=labels, y=sex_counts, ax=axes[1], palette=colors)\n",
    "axes[1].set_ylabel(\"Count\")\n",
    "\n",
    "plt.show()\n"
   ]
  },
  {
   "cell_type": "code",
   "execution_count": null,
   "metadata": {},
   "outputs": [],
   "source": [
    "# 그래프 크기 설정\n",
    "plt.figure(figsize=(5, 4))\n",
    "\n",
    "# 성별에 따른 생존 여부 카운트 플롯\n",
    "ax = sns.countplot(data=train_dt, x=\"Sex\", hue=\"Survived\", palette=[\"#4c72b0\", \"#dd8452\"])\n",
    "\n",
    "# 한글 라벨 적용\n",
    "plt.xlabel(\"\")\n",
    "plt.ylabel(\"Count\")\n",
    "plt.xticks(ticks=[0, 1], labels=[\"남성\", \"여성\"], fontsize=11)\n",
    "\n",
    "# 범례 설정\n",
    "plt.legend(title=\"\", labels=[\"사망\", \"생존\"], loc=\"upper right\")\n",
    "\n",
    "plt.show()"
   ]
  },
  {
   "cell_type": "code",
   "execution_count": null,
   "metadata": {},
   "outputs": [],
   "source": [
    "fig, ax = plt.subplots(1,2,figsize=(10,6), constrained_layout=True)\n",
    "labels = ['여성', '남성']\n",
    " \n",
    "#Survived 가 0인 데이터를 이용한 Pie Plot\n",
    "train_dt[train_dt['Survived'] == 0]['Sex'].value_counts().sort_index().plot.pie(ax=ax[0], shadow=True, autopct='%1.1f%%', labels=labels)\n",
    "ax[0].set(ylabel='', title='사망 - Sex')\n",
    " \n",
    "#Survived 가 1인 데이터를 이용한 Pie Plot\n",
    "train_dt[train_dt['Survived'] == 1]['Sex'].value_counts().sort_index().plot.pie(ax=ax[1], shadow=True, autopct='%1.1f%%', labels=labels)\n",
    "ax[1].set(ylabel='', title='생존 - Sex')\n",
    " \n",
    "plt.show()"
   ]
  },
  {
   "cell_type": "code",
   "execution_count": null,
   "metadata": {},
   "outputs": [],
   "source": [
    "fig, ax = plt.subplots(figsize=(10,6))\n",
    " \n",
    "sns.histplot(train_dt[\"Age\"], bins=30, kde=True, stat=\"density\", color=\"steelblue\", alpha=0.4)\n",
    " \n",
    "plt.show()"
   ]
  },
  {
   "cell_type": "code",
   "execution_count": null,
   "metadata": {},
   "outputs": [],
   "source": [
    "# 생존율을 저장할 리스트 생성\n",
    "age_range_survival_ratio = []\n",
    "\n",
    "# 1살부터 80살까지 생존율 계산 (해당 나이 이하인 데이터 활용)\n",
    "for i in range(1, 80):\n",
    "    subset = train_dt[train_dt[\"Age\"] < i]  # i살 이하 데이터 필터링\n",
    "    survival_rate = subset[\"Survived\"].mean() if len(subset) > 0 else 0  # 생존율 계산\n",
    "    age_range_survival_ratio.append(survival_rate)\n",
    "\n",
    "# 그래프 크기 설정\n",
    "plt.figure(figsize=(6, 5))\n",
    "\n",
    "# 생존율 선 그래프 생성\n",
    "plt.plot(range(1, 80), age_range_survival_ratio, color=\"steelblue\")\n",
    "\n",
    "# 제목 및 축 레이블 설정\n",
    "plt.title(\"나이별 생존률\")\n",
    "plt.xlabel(\"나이\", fontsize=12)\n",
    "plt.ylabel(\"생존율\", fontsize=12)\n",
    "\n",
    "plt.show()"
   ]
  },
  {
   "cell_type": "code",
   "execution_count": null,
   "metadata": {},
   "outputs": [],
   "source": [
    "# 그래프 크기 설정\n",
    "fig, ax = plt.subplots(figsize=(5, 6))\n",
    "\n",
    "# SibSp 분포를 나타내는 막대 그래프 (Seaborn 기본 색상 사용)\n",
    "sns.countplot(data=train_dt, x=\"SibSp\", palette=\"muted\")\n",
    "\n",
    "# 제목 및 축 설정\n",
    "plt.xlabel(\"SibSp\", fontsize=12)\n",
    "plt.ylabel(\"Count\", fontsize=12)\n",
    "\n",
    "plt.show()"
   ]
  },
  {
   "cell_type": "code",
   "execution_count": null,
   "metadata": {},
   "outputs": [],
   "source": [
    "fig, ax = plt.subplots(figsize=(5,6))\n",
    " \n",
    "sns.countplot(data=train_dt, x='SibSp', hue='Survived', ax=ax)\n",
    " \n",
    "#범례 한글로 변경\n",
    "labels=['사망', '생존']\n",
    "ax.legend(labels=labels)\n",
    " \n",
    "plt.show()"
   ]
  },
  {
   "cell_type": "code",
   "execution_count": null,
   "metadata": {},
   "outputs": [],
   "source": [
    "fig, ax = plt.subplots(figsize=(5,6))\n",
    " \n",
    "sns.countplot(data=train_dt, x='Parch', palette=\"muted\")\n",
    " \n",
    "plt.show()"
   ]
  },
  {
   "cell_type": "code",
   "execution_count": null,
   "metadata": {},
   "outputs": [],
   "source": [
    "fig, ax = plt.subplots(figsize=(5,6))\n",
    " \n",
    "sns.countplot(data=train_dt, x='Parch', hue='Survived', ax=ax)\n",
    " \n",
    "#범례 한글로 변경\n",
    "labels=['사망', '생존']\n",
    "ax.legend(labels=labels)\n",
    " \n",
    "plt.show()"
   ]
  },
  {
   "cell_type": "code",
   "execution_count": null,
   "metadata": {},
   "outputs": [],
   "source": [
    "fig, ax = plt.subplots(1,2,figsize=(14,5))\n",
    " \n",
    "train_dt['Embarked'].value_counts().plot.pie(ax=ax[0], shadow=True, autopct='%1.1f%%')\n",
    "ax[0].set(title='Embarked', ylabel='')\n",
    " \n",
    "sns.countplot(data=train_dt, x='Embarked', palette='muted', ax=ax[1])\n",
    " \n",
    "plt.show()"
   ]
  },
  {
   "cell_type": "code",
   "execution_count": null,
   "metadata": {},
   "outputs": [],
   "source": [
    "fig, ax = plt.subplots(figsize=(5,6))\n",
    " \n",
    "sns.countplot(data=train_dt, x='Embarked', hue='Survived', ax=ax)\n",
    " \n",
    "#범례 한글로 변경\n",
    "labels=['사망', '생존']\n",
    "ax.legend(labels=labels)\n",
    " \n",
    "plt.show()"
   ]
  },
  {
   "cell_type": "code",
   "execution_count": null,
   "metadata": {},
   "outputs": [],
   "source": [
    "# Pclass 별로 데이터를 나눠줍니다\n",
    "Pclass1 = train_dt[train_dt['Pclass']==1]['Embarked'].value_counts()\n",
    "Pclass2 = train_dt[train_dt['Pclass']==2]['Embarked'].value_counts()\n",
    "Pclass3 = train_dt[train_dt['Pclass']==3]['Embarked'].value_counts()\n",
    " \n",
    "# DataFrame으로 만들어서 그래프\n",
    "fig, ax = plt.subplots(figsize=(5,7))\n",
    "df = pd.DataFrame([Pclass1, Pclass2, Pclass3])\n",
    "df.index = ['1st class','2nd class','3rd class']\n",
    "df.plot(kind='bar', stacked=True, ax=ax)\n",
    " \n",
    "# xlabel 회전\n",
    "plt.xticks(rotation=45)\n",
    " \n",
    "plt.show()"
   ]
  },
  {
   "cell_type": "code",
   "execution_count": null,
   "metadata": {},
   "outputs": [],
   "source": [
    "fig, ax = plt.subplots(1,2,figsize=(10,6))\n",
    " \n",
    "sns.countplot(data=train_dt, x='SibSp', hue='Embarked', ax=ax[0])\n",
    "sns.countplot(data=train_dt, x='Parch', hue='Embarked', ax=ax[1])\n",
    " \n",
    "# 범례 위치조정\n",
    "ax[0].legend(loc='upper right')\n",
    "ax[1].legend(loc='upper right')\n",
    " \n",
    "plt.show()"
   ]
  },
  {
   "cell_type": "code",
   "execution_count": null,
   "metadata": {},
   "outputs": [],
   "source": [
    "fig, ax = plt.subplots(1,2,figsize=(10,6))\n",
    " \n",
    "sns.countplot(data=train_dt, x='SibSp', hue='Pclass', ax=ax[0])\n",
    "sns.countplot(data=train_dt, x='Parch', hue='Pclass', ax=ax[1])\n",
    " \n",
    "# 범례 위치조정\n",
    "ax[0].legend(loc='upper right')\n",
    "ax[1].legend(loc='upper right')\n",
    " \n",
    "plt.show()"
   ]
  },
  {
   "cell_type": "code",
   "execution_count": null,
   "metadata": {},
   "outputs": [],
   "source": [
    "fig, ax = plt.subplots(figsize=(10,6))\n",
    " \n",
    "# 분포확인\n",
    "sns.distplot(train_dt['Fare'], bins=25, ax=ax)\n",
    " \n",
    "plt.show()"
   ]
  },
  {
   "cell_type": "code",
   "execution_count": null,
   "metadata": {},
   "outputs": [],
   "source": [
    "fig, ax = plt.subplots(figsize=(8,6))\n",
    " \n",
    "# 분포 확인\n",
    "sns.kdeplot(train_dt[train_dt['Survived']==1]['Fare'], ax=ax)\n",
    "sns.kdeplot(train_dt[train_dt['Survived']==0]['Fare'], ax=ax)\n",
    " \n",
    "# 가장 높은 가격까지 범위 확대\n",
    "ax.set(xlim=(0, train_dt['Fare'].max()))\n",
    "ax.legend(['생존', '사망'])\n",
    " \n",
    "plt.show()"
   ]
  },
  {
   "cell_type": "code",
   "execution_count": null,
   "metadata": {},
   "outputs": [],
   "source": [
    "train_dt['Ticket'].unique()"
   ]
  },
  {
   "cell_type": "code",
   "execution_count": null,
   "metadata": {},
   "outputs": [],
   "source": [
    "train_dt['Cabin'].unique()\n"
   ]
  }
 ],
 "metadata": {
  "kernelspec": {
   "display_name": "ds",
   "language": "python",
   "name": "python3"
  },
  "language_info": {
   "codemirror_mode": {
    "name": "ipython",
    "version": 3
   },
   "file_extension": ".py",
   "mimetype": "text/x-python",
   "name": "python",
   "nbconvert_exporter": "python",
   "pygments_lexer": "ipython3",
   "version": "3.9.13"
  }
 },
 "nbformat": 4,
 "nbformat_minor": 2
}
